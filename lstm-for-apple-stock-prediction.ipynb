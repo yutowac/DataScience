{
 "cells": [
  {
   "cell_type": "code",
   "execution_count": 1,
   "id": "a6ae73b7",
   "metadata": {
    "execution": {
     "iopub.execute_input": "2023-11-22T14:49:16.342224Z",
     "iopub.status.busy": "2023-11-22T14:49:16.341708Z",
     "iopub.status.idle": "2023-11-22T14:49:16.354997Z",
     "shell.execute_reply": "2023-11-22T14:49:16.354069Z"
    },
    "papermill": {
     "duration": 0.031683,
     "end_time": "2023-11-22T14:49:16.357544",
     "exception": false,
     "start_time": "2023-11-22T14:49:16.325861",
     "status": "completed"
    },
    "tags": []
   },
   "outputs": [],
   "source": [
    "import numpy as np\n",
    "import matplotlib.pyplot as plt\n",
    "import pandas as pd"
   ]
  },
  {
   "cell_type": "code",
   "execution_count": 2,
   "id": "de94ae08",
   "metadata": {
    "execution": {
     "iopub.execute_input": "2023-11-22T14:49:16.378899Z",
     "iopub.status.busy": "2023-11-22T14:49:16.378542Z",
     "iopub.status.idle": "2023-11-22T14:49:16.397378Z",
     "shell.execute_reply": "2023-11-22T14:49:16.396478Z"
    },
    "papermill": {
     "duration": 0.031685,
     "end_time": "2023-11-22T14:49:16.399585",
     "exception": false,
     "start_time": "2023-11-22T14:49:16.367900",
     "status": "completed"
    },
    "tags": []
   },
   "outputs": [],
   "source": [
    "apple_training_complete = pd.read_csv(\"../input/apple-stock-20132018/AAPL.xls\")"
   ]
  },
  {
   "cell_type": "code",
   "execution_count": 3,
   "id": "50afa07c",
   "metadata": {
    "execution": {
     "iopub.execute_input": "2023-11-22T14:49:16.420342Z",
     "iopub.status.busy": "2023-11-22T14:49:16.419991Z",
     "iopub.status.idle": "2023-11-22T14:49:16.428120Z",
     "shell.execute_reply": "2023-11-22T14:49:16.427119Z"
    },
    "papermill": {
     "duration": 0.020732,
     "end_time": "2023-11-22T14:49:16.430148",
     "exception": false,
     "start_time": "2023-11-22T14:49:16.409416",
     "status": "completed"
    },
    "tags": []
   },
   "outputs": [],
   "source": [
    "apple_training_processed = apple_training_complete.iloc[:, 1:2].values"
   ]
  },
  {
   "cell_type": "code",
   "execution_count": 4,
   "id": "b0e2a8fb",
   "metadata": {
    "execution": {
     "iopub.execute_input": "2023-11-22T14:49:16.450791Z",
     "iopub.status.busy": "2023-11-22T14:49:16.450470Z",
     "iopub.status.idle": "2023-11-22T14:49:16.459566Z",
     "shell.execute_reply": "2023-11-22T14:49:16.458517Z"
    },
    "papermill": {
     "duration": 0.022885,
     "end_time": "2023-11-22T14:49:16.462795",
     "exception": false,
     "start_time": "2023-11-22T14:49:16.439910",
     "status": "completed"
    },
    "tags": []
   },
   "outputs": [
    {
     "data": {
      "text/plain": [
       "array([[ 79.117142],\n",
       "       [ 78.26857 ],\n",
       "       [ 76.709999],\n",
       "       ...,\n",
       "       [170.100006],\n",
       "       [171.      ],\n",
       "       [170.520004]])"
      ]
     },
     "execution_count": 4,
     "metadata": {},
     "output_type": "execute_result"
    }
   ],
   "source": [
    "apple_training_processed"
   ]
  },
  {
   "cell_type": "code",
   "execution_count": 5,
   "id": "7cb6b079",
   "metadata": {
    "execution": {
     "iopub.execute_input": "2023-11-22T14:49:16.484837Z",
     "iopub.status.busy": "2023-11-22T14:49:16.484519Z",
     "iopub.status.idle": "2023-11-22T14:49:17.374657Z",
     "shell.execute_reply": "2023-11-22T14:49:17.373774Z"
    },
    "papermill": {
     "duration": 0.903377,
     "end_time": "2023-11-22T14:49:17.377234",
     "exception": false,
     "start_time": "2023-11-22T14:49:16.473857",
     "status": "completed"
    },
    "tags": []
   },
   "outputs": [],
   "source": [
    "from sklearn.preprocessing import MinMaxScaler\n",
    "scaler = MinMaxScaler(feature_range = (0, 1))\n",
    "\n",
    "apple_training_scaled = scaler.fit_transform(apple_training_processed)"
   ]
  },
  {
   "cell_type": "code",
   "execution_count": 6,
   "id": "2ce4d7ea",
   "metadata": {
    "execution": {
     "iopub.execute_input": "2023-11-22T14:49:17.398029Z",
     "iopub.status.busy": "2023-11-22T14:49:17.397701Z",
     "iopub.status.idle": "2023-11-22T14:49:17.404128Z",
     "shell.execute_reply": "2023-11-22T14:49:17.403116Z"
    },
    "papermill": {
     "duration": 0.01913,
     "end_time": "2023-11-22T14:49:17.406326",
     "exception": false,
     "start_time": "2023-11-22T14:49:17.387196",
     "status": "completed"
    },
    "tags": []
   },
   "outputs": [
    {
     "data": {
      "text/plain": [
       "array([[0.19795893],\n",
       "       [0.19086893],\n",
       "       [0.17784673],\n",
       "       ...,\n",
       "       [0.95814041],\n",
       "       [0.96566005],\n",
       "       [0.96164958]])"
      ]
     },
     "execution_count": 6,
     "metadata": {},
     "output_type": "execute_result"
    }
   ],
   "source": [
    "apple_training_scaled"
   ]
  },
  {
   "cell_type": "code",
   "execution_count": 7,
   "id": "1be0b962",
   "metadata": {
    "execution": {
     "iopub.execute_input": "2023-11-22T14:49:17.426869Z",
     "iopub.status.busy": "2023-11-22T14:49:17.426573Z",
     "iopub.status.idle": "2023-11-22T14:49:17.432459Z",
     "shell.execute_reply": "2023-11-22T14:49:17.431527Z"
    },
    "papermill": {
     "duration": 0.018473,
     "end_time": "2023-11-22T14:49:17.434689",
     "exception": false,
     "start_time": "2023-11-22T14:49:17.416216",
     "status": "completed"
    },
    "tags": []
   },
   "outputs": [
    {
     "data": {
      "text/plain": [
       "(1259, 1)"
      ]
     },
     "execution_count": 7,
     "metadata": {},
     "output_type": "execute_result"
    }
   ],
   "source": [
    "apple_training_scaled.shape"
   ]
  },
  {
   "cell_type": "code",
   "execution_count": 8,
   "id": "2c90e35d",
   "metadata": {
    "execution": {
     "iopub.execute_input": "2023-11-22T14:49:17.456554Z",
     "iopub.status.busy": "2023-11-22T14:49:17.455794Z",
     "iopub.status.idle": "2023-11-22T14:49:17.462583Z",
     "shell.execute_reply": "2023-11-22T14:49:17.461698Z"
    },
    "papermill": {
     "duration": 0.019399,
     "end_time": "2023-11-22T14:49:17.464532",
     "exception": false,
     "start_time": "2023-11-22T14:49:17.445133",
     "status": "completed"
    },
    "tags": []
   },
   "outputs": [],
   "source": [
    "features_set = []\n",
    "labels = []\n",
    "for i in range(60, 1259):\n",
    "    features_set.append(apple_training_scaled[i-60:i, 0])\n",
    "    labels.append(apple_training_scaled[i, 0])"
   ]
  },
  {
   "cell_type": "code",
   "execution_count": 9,
   "id": "5fdce337",
   "metadata": {
    "execution": {
     "iopub.execute_input": "2023-11-22T14:49:17.484995Z",
     "iopub.status.busy": "2023-11-22T14:49:17.484440Z",
     "iopub.status.idle": "2023-11-22T14:49:17.490382Z",
     "shell.execute_reply": "2023-11-22T14:49:17.489482Z"
    },
    "papermill": {
     "duration": 0.018267,
     "end_time": "2023-11-22T14:49:17.492335",
     "exception": false,
     "start_time": "2023-11-22T14:49:17.474068",
     "status": "completed"
    },
    "tags": []
   },
   "outputs": [
    {
     "data": {
      "text/plain": [
       "list"
      ]
     },
     "execution_count": 9,
     "metadata": {},
     "output_type": "execute_result"
    }
   ],
   "source": [
    "type(features_set)"
   ]
  },
  {
   "cell_type": "code",
   "execution_count": 10,
   "id": "14cc422f",
   "metadata": {
    "execution": {
     "iopub.execute_input": "2023-11-22T14:49:17.513068Z",
     "iopub.status.busy": "2023-11-22T14:49:17.512483Z",
     "iopub.status.idle": "2023-11-22T14:49:17.518318Z",
     "shell.execute_reply": "2023-11-22T14:49:17.517603Z"
    },
    "papermill": {
     "duration": 0.018206,
     "end_time": "2023-11-22T14:49:17.520298",
     "exception": false,
     "start_time": "2023-11-22T14:49:17.502092",
     "status": "completed"
    },
    "tags": []
   },
   "outputs": [],
   "source": [
    "features_set, labels = np.array(features_set), np.array(labels)"
   ]
  },
  {
   "cell_type": "code",
   "execution_count": 11,
   "id": "3ad1a42d",
   "metadata": {
    "execution": {
     "iopub.execute_input": "2023-11-22T14:49:17.540938Z",
     "iopub.status.busy": "2023-11-22T14:49:17.540640Z",
     "iopub.status.idle": "2023-11-22T14:49:17.546443Z",
     "shell.execute_reply": "2023-11-22T14:49:17.545534Z"
    },
    "papermill": {
     "duration": 0.018561,
     "end_time": "2023-11-22T14:49:17.548634",
     "exception": false,
     "start_time": "2023-11-22T14:49:17.530073",
     "status": "completed"
    },
    "tags": []
   },
   "outputs": [
    {
     "data": {
      "text/plain": [
       "60"
      ]
     },
     "execution_count": 11,
     "metadata": {},
     "output_type": "execute_result"
    }
   ],
   "source": [
    "features_set.shape[1]"
   ]
  },
  {
   "cell_type": "code",
   "execution_count": 12,
   "id": "b7c75ae0",
   "metadata": {
    "execution": {
     "iopub.execute_input": "2023-11-22T14:49:17.569641Z",
     "iopub.status.busy": "2023-11-22T14:49:17.569348Z",
     "iopub.status.idle": "2023-11-22T14:49:17.574002Z",
     "shell.execute_reply": "2023-11-22T14:49:17.573034Z"
    },
    "papermill": {
     "duration": 0.017475,
     "end_time": "2023-11-22T14:49:17.576072",
     "exception": false,
     "start_time": "2023-11-22T14:49:17.558597",
     "status": "completed"
    },
    "tags": []
   },
   "outputs": [],
   "source": [
    "features_set = np.reshape(features_set, (features_set.shape[0], features_set.shape[1], 1))"
   ]
  },
  {
   "cell_type": "markdown",
   "id": "44e39442",
   "metadata": {
    "papermill": {
     "duration": 0.009627,
     "end_time": "2023-11-22T14:49:17.595625",
     "exception": false,
     "start_time": "2023-11-22T14:49:17.585998",
     "status": "completed"
    },
    "tags": []
   },
   "source": [
    "**LSTM layers work on 3D data with the following structure (nb_sequence, nb_timestep, nb_feature).\n",
    "\n",
    "    nb_sequence corresponds to the total number of sequences in your dataset (or to the batch size if you are using mini-batch learning).\n",
    "    nb_timestep corresponds to the size of your sequences.\n",
    "    nb_feature corresponds to number of features describing each of your timesteps.\n"
   ]
  },
  {
   "cell_type": "code",
   "execution_count": 13,
   "id": "18b899f6",
   "metadata": {
    "execution": {
     "iopub.execute_input": "2023-11-22T14:49:17.617073Z",
     "iopub.status.busy": "2023-11-22T14:49:17.616350Z",
     "iopub.status.idle": "2023-11-22T14:49:17.622461Z",
     "shell.execute_reply": "2023-11-22T14:49:17.621576Z"
    },
    "papermill": {
     "duration": 0.018927,
     "end_time": "2023-11-22T14:49:17.624480",
     "exception": false,
     "start_time": "2023-11-22T14:49:17.605553",
     "status": "completed"
    },
    "tags": []
   },
   "outputs": [
    {
     "data": {
      "text/plain": [
       "(1199, 60, 1)"
      ]
     },
     "execution_count": 13,
     "metadata": {},
     "output_type": "execute_result"
    }
   ],
   "source": [
    "features_set.shape"
   ]
  },
  {
   "cell_type": "code",
   "execution_count": 14,
   "id": "fc701894",
   "metadata": {
    "execution": {
     "iopub.execute_input": "2023-11-22T14:49:17.646319Z",
     "iopub.status.busy": "2023-11-22T14:49:17.646002Z",
     "iopub.status.idle": "2023-11-22T14:49:22.382902Z",
     "shell.execute_reply": "2023-11-22T14:49:22.381836Z"
    },
    "papermill": {
     "duration": 4.750632,
     "end_time": "2023-11-22T14:49:22.385412",
     "exception": false,
     "start_time": "2023-11-22T14:49:17.634780",
     "status": "completed"
    },
    "tags": []
   },
   "outputs": [],
   "source": [
    "from keras.models import Sequential\n",
    "from keras.layers import Dense\n",
    "from keras.layers import LSTM\n",
    "from keras.layers import Dropout"
   ]
  },
  {
   "cell_type": "code",
   "execution_count": 15,
   "id": "cfc8fba6",
   "metadata": {
    "execution": {
     "iopub.execute_input": "2023-11-22T14:49:22.407300Z",
     "iopub.status.busy": "2023-11-22T14:49:22.406728Z",
     "iopub.status.idle": "2023-11-22T14:49:25.084786Z",
     "shell.execute_reply": "2023-11-22T14:49:25.083712Z"
    },
    "papermill": {
     "duration": 2.691748,
     "end_time": "2023-11-22T14:49:25.087414",
     "exception": false,
     "start_time": "2023-11-22T14:49:22.395666",
     "status": "completed"
    },
    "tags": []
   },
   "outputs": [],
   "source": [
    "model = Sequential()"
   ]
  },
  {
   "cell_type": "code",
   "execution_count": 16,
   "id": "1bb7c0cc",
   "metadata": {
    "execution": {
     "iopub.execute_input": "2023-11-22T14:49:25.109111Z",
     "iopub.status.busy": "2023-11-22T14:49:25.108759Z",
     "iopub.status.idle": "2023-11-22T14:49:25.440585Z",
     "shell.execute_reply": "2023-11-22T14:49:25.439752Z"
    },
    "papermill": {
     "duration": 0.345202,
     "end_time": "2023-11-22T14:49:25.442947",
     "exception": false,
     "start_time": "2023-11-22T14:49:25.097745",
     "status": "completed"
    },
    "tags": []
   },
   "outputs": [],
   "source": [
    "model.add(LSTM(units=300, return_sequences=True, input_shape=(features_set.shape[1], 1)))"
   ]
  },
  {
   "cell_type": "code",
   "execution_count": 17,
   "id": "7b02064e",
   "metadata": {
    "execution": {
     "iopub.execute_input": "2023-11-22T14:49:25.464803Z",
     "iopub.status.busy": "2023-11-22T14:49:25.464468Z",
     "iopub.status.idle": "2023-11-22T14:49:25.471938Z",
     "shell.execute_reply": "2023-11-22T14:49:25.471148Z"
    },
    "papermill": {
     "duration": 0.020772,
     "end_time": "2023-11-22T14:49:25.473886",
     "exception": false,
     "start_time": "2023-11-22T14:49:25.453114",
     "status": "completed"
    },
    "tags": []
   },
   "outputs": [],
   "source": [
    "model.add(Dropout(0.2))"
   ]
  },
  {
   "cell_type": "code",
   "execution_count": 18,
   "id": "ed7fa88c",
   "metadata": {
    "execution": {
     "iopub.execute_input": "2023-11-22T14:49:25.494860Z",
     "iopub.status.busy": "2023-11-22T14:49:25.494576Z",
     "iopub.status.idle": "2023-11-22T14:49:26.124822Z",
     "shell.execute_reply": "2023-11-22T14:49:26.124010Z"
    },
    "papermill": {
     "duration": 0.643587,
     "end_time": "2023-11-22T14:49:26.127321",
     "exception": false,
     "start_time": "2023-11-22T14:49:25.483734",
     "status": "completed"
    },
    "tags": []
   },
   "outputs": [],
   "source": [
    "model.add(LSTM(units=100, return_sequences=True))\n",
    "model.add(Dropout(0.2))\n",
    "\n",
    "model.add(LSTM(units=100, return_sequences=True))\n",
    "model.add(Dropout(0.2))\n",
    "\n",
    "\n",
    "model.add(LSTM(units=100))\n",
    "model.add(Dropout(0.2))"
   ]
  },
  {
   "cell_type": "code",
   "execution_count": 19,
   "id": "80a1e808",
   "metadata": {
    "execution": {
     "iopub.execute_input": "2023-11-22T14:49:26.149727Z",
     "iopub.status.busy": "2023-11-22T14:49:26.148856Z",
     "iopub.status.idle": "2023-11-22T14:49:26.161575Z",
     "shell.execute_reply": "2023-11-22T14:49:26.160807Z"
    },
    "papermill": {
     "duration": 0.02576,
     "end_time": "2023-11-22T14:49:26.163573",
     "exception": false,
     "start_time": "2023-11-22T14:49:26.137813",
     "status": "completed"
    },
    "tags": []
   },
   "outputs": [],
   "source": [
    "model.add(Dense(units = 1))"
   ]
  },
  {
   "cell_type": "code",
   "execution_count": 20,
   "id": "463d04a7",
   "metadata": {
    "execution": {
     "iopub.execute_input": "2023-11-22T14:49:26.185320Z",
     "iopub.status.busy": "2023-11-22T14:49:26.184679Z",
     "iopub.status.idle": "2023-11-22T14:49:26.204816Z",
     "shell.execute_reply": "2023-11-22T14:49:26.203996Z"
    },
    "papermill": {
     "duration": 0.03348,
     "end_time": "2023-11-22T14:49:26.207099",
     "exception": false,
     "start_time": "2023-11-22T14:49:26.173619",
     "status": "completed"
    },
    "tags": []
   },
   "outputs": [],
   "source": [
    "model.compile(optimizer = 'adam', loss = 'mean_squared_error')"
   ]
  },
  {
   "cell_type": "code",
   "execution_count": 21,
   "id": "e01ea7ba",
   "metadata": {
    "execution": {
     "iopub.execute_input": "2023-11-22T14:49:26.229497Z",
     "iopub.status.busy": "2023-11-22T14:49:26.228931Z",
     "iopub.status.idle": "2023-11-22T14:49:26.235817Z",
     "shell.execute_reply": "2023-11-22T14:49:26.234841Z"
    },
    "papermill": {
     "duration": 0.020786,
     "end_time": "2023-11-22T14:49:26.238312",
     "exception": false,
     "start_time": "2023-11-22T14:49:26.217526",
     "status": "completed"
    },
    "tags": []
   },
   "outputs": [
    {
     "name": "stdout",
     "output_type": "stream",
     "text": [
      "Model: \"sequential\"\n",
      "_________________________________________________________________\n",
      "Layer (type)                 Output Shape              Param #   \n",
      "=================================================================\n",
      "lstm (LSTM)                  (None, 60, 300)           362400    \n",
      "_________________________________________________________________\n",
      "dropout (Dropout)            (None, 60, 300)           0         \n",
      "_________________________________________________________________\n",
      "lstm_1 (LSTM)                (None, 60, 100)           160400    \n",
      "_________________________________________________________________\n",
      "dropout_1 (Dropout)          (None, 60, 100)           0         \n",
      "_________________________________________________________________\n",
      "lstm_2 (LSTM)                (None, 60, 100)           80400     \n",
      "_________________________________________________________________\n",
      "dropout_2 (Dropout)          (None, 60, 100)           0         \n",
      "_________________________________________________________________\n",
      "lstm_3 (LSTM)                (None, 100)               80400     \n",
      "_________________________________________________________________\n",
      "dropout_3 (Dropout)          (None, 100)               0         \n",
      "_________________________________________________________________\n",
      "dense (Dense)                (None, 1)                 101       \n",
      "=================================================================\n",
      "Total params: 683,701\n",
      "Trainable params: 683,701\n",
      "Non-trainable params: 0\n",
      "_________________________________________________________________\n"
     ]
    }
   ],
   "source": [
    "model.summary()"
   ]
  },
  {
   "cell_type": "code",
   "execution_count": 22,
   "id": "e2bfb48b",
   "metadata": {
    "execution": {
     "iopub.execute_input": "2023-11-22T14:49:26.260023Z",
     "iopub.status.busy": "2023-11-22T14:49:26.259670Z",
     "iopub.status.idle": "2023-11-22T14:52:36.122327Z",
     "shell.execute_reply": "2023-11-22T14:52:36.121331Z"
    },
    "papermill": {
     "duration": 189.875899,
     "end_time": "2023-11-22T14:52:36.124664",
     "exception": false,
     "start_time": "2023-11-22T14:49:26.248765",
     "status": "completed"
    },
    "tags": []
   },
   "outputs": [
    {
     "name": "stdout",
     "output_type": "stream",
     "text": [
      "Epoch 1/300\n",
      "38/38 [==============================] - 8s 16ms/step - loss: 0.0516\n",
      "Epoch 2/300\n",
      "38/38 [==============================] - 1s 16ms/step - loss: 0.0045\n",
      "Epoch 3/300\n",
      "38/38 [==============================] - 1s 16ms/step - loss: 0.0034\n",
      "Epoch 4/300\n",
      "38/38 [==============================] - 1s 16ms/step - loss: 0.0031\n",
      "Epoch 5/300\n",
      "38/38 [==============================] - 1s 16ms/step - loss: 0.0029\n",
      "Epoch 6/300\n",
      "38/38 [==============================] - 1s 16ms/step - loss: 0.0034\n",
      "Epoch 7/300\n",
      "38/38 [==============================] - 1s 16ms/step - loss: 0.0031\n",
      "Epoch 8/300\n",
      "38/38 [==============================] - 1s 16ms/step - loss: 0.0030\n",
      "Epoch 9/300\n",
      "38/38 [==============================] - 1s 16ms/step - loss: 0.0024\n",
      "Epoch 10/300\n",
      "38/38 [==============================] - 1s 16ms/step - loss: 0.0024\n",
      "Epoch 11/300\n",
      "38/38 [==============================] - 1s 16ms/step - loss: 0.0024\n",
      "Epoch 12/300\n",
      "38/38 [==============================] - 1s 16ms/step - loss: 0.0023\n",
      "Epoch 13/300\n",
      "38/38 [==============================] - 1s 16ms/step - loss: 0.0023\n",
      "Epoch 14/300\n",
      "38/38 [==============================] - 1s 16ms/step - loss: 0.0027\n",
      "Epoch 15/300\n",
      "38/38 [==============================] - 1s 16ms/step - loss: 0.0023\n",
      "Epoch 16/300\n",
      "38/38 [==============================] - 1s 16ms/step - loss: 0.0020\n",
      "Epoch 17/300\n",
      "38/38 [==============================] - 1s 16ms/step - loss: 0.0025\n",
      "Epoch 18/300\n",
      "38/38 [==============================] - 1s 16ms/step - loss: 0.0019\n",
      "Epoch 19/300\n",
      "38/38 [==============================] - 1s 16ms/step - loss: 0.0019\n",
      "Epoch 20/300\n",
      "38/38 [==============================] - 1s 16ms/step - loss: 0.0019\n",
      "Epoch 21/300\n",
      "38/38 [==============================] - 1s 16ms/step - loss: 0.0018\n",
      "Epoch 22/300\n",
      "38/38 [==============================] - 1s 16ms/step - loss: 0.0019\n",
      "Epoch 23/300\n",
      "38/38 [==============================] - 1s 16ms/step - loss: 0.0019\n",
      "Epoch 24/300\n",
      "38/38 [==============================] - 1s 17ms/step - loss: 0.0026\n",
      "Epoch 25/300\n",
      "38/38 [==============================] - 1s 16ms/step - loss: 0.0019\n",
      "Epoch 26/300\n",
      "38/38 [==============================] - 1s 16ms/step - loss: 0.0019\n",
      "Epoch 27/300\n",
      "38/38 [==============================] - 1s 16ms/step - loss: 0.0024\n",
      "Epoch 28/300\n",
      "38/38 [==============================] - 1s 16ms/step - loss: 0.0022\n",
      "Epoch 29/300\n",
      "38/38 [==============================] - 1s 16ms/step - loss: 0.0018\n",
      "Epoch 30/300\n",
      "38/38 [==============================] - 1s 16ms/step - loss: 0.0019\n",
      "Epoch 31/300\n",
      "38/38 [==============================] - 1s 16ms/step - loss: 0.0017\n",
      "Epoch 32/300\n",
      "38/38 [==============================] - 1s 16ms/step - loss: 0.0018\n",
      "Epoch 33/300\n",
      "38/38 [==============================] - 1s 16ms/step - loss: 0.0020\n",
      "Epoch 34/300\n",
      "38/38 [==============================] - 1s 16ms/step - loss: 0.0017\n",
      "Epoch 35/300\n",
      "38/38 [==============================] - 1s 16ms/step - loss: 0.0018\n",
      "Epoch 36/300\n",
      "38/38 [==============================] - 1s 16ms/step - loss: 0.0016\n",
      "Epoch 37/300\n",
      "38/38 [==============================] - 1s 16ms/step - loss: 0.0016\n",
      "Epoch 38/300\n",
      "38/38 [==============================] - 1s 16ms/step - loss: 0.0016\n",
      "Epoch 39/300\n",
      "38/38 [==============================] - 1s 16ms/step - loss: 0.0015\n",
      "Epoch 40/300\n",
      "38/38 [==============================] - 1s 16ms/step - loss: 0.0014\n",
      "Epoch 41/300\n",
      "38/38 [==============================] - 1s 16ms/step - loss: 0.0018\n",
      "Epoch 42/300\n",
      "38/38 [==============================] - 1s 16ms/step - loss: 0.0016\n",
      "Epoch 43/300\n",
      "38/38 [==============================] - 1s 16ms/step - loss: 0.0015\n",
      "Epoch 44/300\n",
      "38/38 [==============================] - 1s 16ms/step - loss: 0.0015\n",
      "Epoch 45/300\n",
      "38/38 [==============================] - 1s 16ms/step - loss: 0.0018\n",
      "Epoch 46/300\n",
      "38/38 [==============================] - 1s 16ms/step - loss: 0.0015\n",
      "Epoch 47/300\n",
      "38/38 [==============================] - 1s 16ms/step - loss: 0.0015\n",
      "Epoch 48/300\n",
      "38/38 [==============================] - 1s 16ms/step - loss: 0.0014\n",
      "Epoch 49/300\n",
      "38/38 [==============================] - 1s 16ms/step - loss: 0.0012\n",
      "Epoch 50/300\n",
      "38/38 [==============================] - 1s 16ms/step - loss: 0.0016\n",
      "Epoch 51/300\n",
      "38/38 [==============================] - 1s 16ms/step - loss: 0.0014\n",
      "Epoch 52/300\n",
      "38/38 [==============================] - 1s 16ms/step - loss: 0.0014\n",
      "Epoch 53/300\n",
      "38/38 [==============================] - 1s 17ms/step - loss: 0.0013\n",
      "Epoch 54/300\n",
      "38/38 [==============================] - 1s 16ms/step - loss: 0.0012\n",
      "Epoch 55/300\n",
      "38/38 [==============================] - 1s 16ms/step - loss: 0.0014\n",
      "Epoch 56/300\n",
      "38/38 [==============================] - 1s 16ms/step - loss: 0.0016\n",
      "Epoch 57/300\n",
      "38/38 [==============================] - 1s 16ms/step - loss: 0.0016\n",
      "Epoch 58/300\n",
      "38/38 [==============================] - 1s 16ms/step - loss: 0.0013\n",
      "Epoch 59/300\n",
      "38/38 [==============================] - 1s 16ms/step - loss: 0.0016\n",
      "Epoch 60/300\n",
      "38/38 [==============================] - 1s 16ms/step - loss: 0.0013\n",
      "Epoch 61/300\n",
      "38/38 [==============================] - 1s 16ms/step - loss: 0.0011\n",
      "Epoch 62/300\n",
      "38/38 [==============================] - 1s 16ms/step - loss: 0.0012\n",
      "Epoch 63/300\n",
      "38/38 [==============================] - 1s 16ms/step - loss: 0.0011\n",
      "Epoch 64/300\n",
      "38/38 [==============================] - 1s 16ms/step - loss: 0.0011\n",
      "Epoch 65/300\n",
      "38/38 [==============================] - 1s 16ms/step - loss: 0.0011\n",
      "Epoch 66/300\n",
      "38/38 [==============================] - 1s 16ms/step - loss: 0.0011\n",
      "Epoch 67/300\n",
      "38/38 [==============================] - 1s 16ms/step - loss: 0.0012\n",
      "Epoch 68/300\n",
      "38/38 [==============================] - 1s 16ms/step - loss: 0.0010\n",
      "Epoch 69/300\n",
      "38/38 [==============================] - 1s 16ms/step - loss: 0.0011\n",
      "Epoch 70/300\n",
      "38/38 [==============================] - 1s 16ms/step - loss: 0.0010\n",
      "Epoch 71/300\n",
      "38/38 [==============================] - 1s 16ms/step - loss: 0.0012\n",
      "Epoch 72/300\n",
      "38/38 [==============================] - 1s 16ms/step - loss: 0.0011\n",
      "Epoch 73/300\n",
      "38/38 [==============================] - 1s 16ms/step - loss: 0.0010\n",
      "Epoch 74/300\n",
      "38/38 [==============================] - 1s 16ms/step - loss: 0.0012\n",
      "Epoch 75/300\n",
      "38/38 [==============================] - 1s 17ms/step - loss: 9.9270e-04\n",
      "Epoch 76/300\n",
      "38/38 [==============================] - 1s 17ms/step - loss: 0.0010\n",
      "Epoch 77/300\n",
      "38/38 [==============================] - 1s 16ms/step - loss: 0.0012\n",
      "Epoch 78/300\n",
      "38/38 [==============================] - 1s 16ms/step - loss: 0.0014\n",
      "Epoch 79/300\n",
      "38/38 [==============================] - 1s 16ms/step - loss: 0.0012\n",
      "Epoch 80/300\n",
      "38/38 [==============================] - 1s 16ms/step - loss: 0.0011\n",
      "Epoch 81/300\n",
      "38/38 [==============================] - 1s 16ms/step - loss: 0.0010\n",
      "Epoch 82/300\n",
      "38/38 [==============================] - 1s 16ms/step - loss: 0.0012\n",
      "Epoch 83/300\n",
      "38/38 [==============================] - 1s 16ms/step - loss: 0.0011\n",
      "Epoch 84/300\n",
      "38/38 [==============================] - 1s 16ms/step - loss: 9.6092e-04\n",
      "Epoch 85/300\n",
      "38/38 [==============================] - 1s 16ms/step - loss: 9.7983e-04\n",
      "Epoch 86/300\n",
      "38/38 [==============================] - 1s 16ms/step - loss: 9.5680e-04\n",
      "Epoch 87/300\n",
      "38/38 [==============================] - 1s 16ms/step - loss: 0.0010\n",
      "Epoch 88/300\n",
      "38/38 [==============================] - 1s 16ms/step - loss: 0.0010\n",
      "Epoch 89/300\n",
      "38/38 [==============================] - 1s 16ms/step - loss: 9.8234e-04\n",
      "Epoch 90/300\n",
      "38/38 [==============================] - 1s 16ms/step - loss: 9.6892e-04\n",
      "Epoch 91/300\n",
      "38/38 [==============================] - 1s 16ms/step - loss: 7.6244e-04\n",
      "Epoch 92/300\n",
      "38/38 [==============================] - 1s 16ms/step - loss: 9.6823e-04\n",
      "Epoch 93/300\n",
      "38/38 [==============================] - 1s 16ms/step - loss: 9.7590e-04\n",
      "Epoch 94/300\n",
      "38/38 [==============================] - 1s 16ms/step - loss: 9.6303e-04\n",
      "Epoch 95/300\n",
      "38/38 [==============================] - 1s 16ms/step - loss: 8.4181e-04\n",
      "Epoch 96/300\n",
      "38/38 [==============================] - 1s 16ms/step - loss: 8.8275e-04\n",
      "Epoch 97/300\n",
      "38/38 [==============================] - 1s 16ms/step - loss: 8.8932e-04\n",
      "Epoch 98/300\n",
      "38/38 [==============================] - 1s 16ms/step - loss: 9.6149e-04\n",
      "Epoch 99/300\n",
      "38/38 [==============================] - 1s 16ms/step - loss: 0.0010\n",
      "Epoch 100/300\n",
      "38/38 [==============================] - 1s 16ms/step - loss: 9.2142e-04\n",
      "Epoch 101/300\n",
      "38/38 [==============================] - 1s 16ms/step - loss: 8.9484e-04\n",
      "Epoch 102/300\n",
      "38/38 [==============================] - 1s 16ms/step - loss: 9.4052e-04\n",
      "Epoch 103/300\n",
      "38/38 [==============================] - 1s 16ms/step - loss: 8.6237e-04\n",
      "Epoch 104/300\n",
      "38/38 [==============================] - 1s 16ms/step - loss: 9.5775e-04\n",
      "Epoch 105/300\n",
      "38/38 [==============================] - 1s 16ms/step - loss: 9.3616e-04\n",
      "Epoch 106/300\n",
      "38/38 [==============================] - 1s 16ms/step - loss: 9.0590e-04\n",
      "Epoch 107/300\n",
      "38/38 [==============================] - 1s 16ms/step - loss: 8.3938e-04\n",
      "Epoch 108/300\n",
      "38/38 [==============================] - 1s 16ms/step - loss: 8.9608e-04\n",
      "Epoch 109/300\n",
      "38/38 [==============================] - 1s 16ms/step - loss: 9.2302e-04\n",
      "Epoch 110/300\n",
      "38/38 [==============================] - 1s 16ms/step - loss: 7.5265e-04\n",
      "Epoch 111/300\n",
      "38/38 [==============================] - 1s 16ms/step - loss: 9.0921e-04\n",
      "Epoch 112/300\n",
      "38/38 [==============================] - 1s 16ms/step - loss: 9.6569e-04\n",
      "Epoch 113/300\n",
      "38/38 [==============================] - 1s 16ms/step - loss: 0.0010\n",
      "Epoch 114/300\n",
      "38/38 [==============================] - 1s 16ms/step - loss: 8.3710e-04\n",
      "Epoch 115/300\n",
      "38/38 [==============================] - 1s 16ms/step - loss: 7.4191e-04\n",
      "Epoch 116/300\n",
      "38/38 [==============================] - 1s 16ms/step - loss: 7.9681e-04\n",
      "Epoch 117/300\n",
      "38/38 [==============================] - 1s 16ms/step - loss: 8.9587e-04\n",
      "Epoch 118/300\n",
      "38/38 [==============================] - 1s 16ms/step - loss: 8.7107e-04\n",
      "Epoch 119/300\n",
      "38/38 [==============================] - 1s 16ms/step - loss: 9.7060e-04\n",
      "Epoch 120/300\n",
      "38/38 [==============================] - 1s 16ms/step - loss: 7.9092e-04\n",
      "Epoch 121/300\n",
      "38/38 [==============================] - 1s 16ms/step - loss: 7.7344e-04\n",
      "Epoch 122/300\n",
      "38/38 [==============================] - 1s 16ms/step - loss: 7.6138e-04\n",
      "Epoch 123/300\n",
      "38/38 [==============================] - 1s 16ms/step - loss: 8.0795e-04\n",
      "Epoch 124/300\n",
      "38/38 [==============================] - 1s 16ms/step - loss: 8.2958e-04\n",
      "Epoch 125/300\n",
      "38/38 [==============================] - 1s 16ms/step - loss: 0.0010\n",
      "Epoch 126/300\n",
      "38/38 [==============================] - 1s 16ms/step - loss: 7.9236e-04\n",
      "Epoch 127/300\n",
      "38/38 [==============================] - 1s 16ms/step - loss: 8.2901e-04\n",
      "Epoch 128/300\n",
      "38/38 [==============================] - 1s 17ms/step - loss: 7.6380e-04\n",
      "Epoch 129/300\n",
      "38/38 [==============================] - 1s 16ms/step - loss: 7.6959e-04\n",
      "Epoch 130/300\n",
      "38/38 [==============================] - 1s 16ms/step - loss: 8.5522e-04\n",
      "Epoch 131/300\n",
      "38/38 [==============================] - 1s 16ms/step - loss: 8.3653e-04\n",
      "Epoch 132/300\n",
      "38/38 [==============================] - 1s 16ms/step - loss: 7.7343e-04\n",
      "Epoch 133/300\n",
      "38/38 [==============================] - 1s 16ms/step - loss: 8.9143e-04\n",
      "Epoch 134/300\n",
      "38/38 [==============================] - 1s 16ms/step - loss: 7.5024e-04\n",
      "Epoch 135/300\n",
      "38/38 [==============================] - 1s 16ms/step - loss: 7.2438e-04\n",
      "Epoch 136/300\n",
      "38/38 [==============================] - 1s 16ms/step - loss: 7.1657e-04\n",
      "Epoch 137/300\n",
      "38/38 [==============================] - 1s 16ms/step - loss: 7.9834e-04\n",
      "Epoch 138/300\n",
      "38/38 [==============================] - 1s 16ms/step - loss: 8.3565e-04\n",
      "Epoch 139/300\n",
      "38/38 [==============================] - 1s 16ms/step - loss: 7.8327e-04\n",
      "Epoch 140/300\n",
      "38/38 [==============================] - 1s 16ms/step - loss: 7.7113e-04\n",
      "Epoch 141/300\n",
      "38/38 [==============================] - 1s 16ms/step - loss: 8.8700e-04\n",
      "Epoch 142/300\n",
      "38/38 [==============================] - 1s 16ms/step - loss: 7.0722e-04\n",
      "Epoch 143/300\n",
      "38/38 [==============================] - 1s 16ms/step - loss: 8.0577e-04\n",
      "Epoch 144/300\n",
      "38/38 [==============================] - 1s 16ms/step - loss: 8.1562e-04\n",
      "Epoch 145/300\n",
      "38/38 [==============================] - 1s 16ms/step - loss: 6.8561e-04\n",
      "Epoch 146/300\n",
      "38/38 [==============================] - 1s 16ms/step - loss: 6.9962e-04\n",
      "Epoch 147/300\n",
      "38/38 [==============================] - 1s 16ms/step - loss: 7.4600e-04\n",
      "Epoch 148/300\n",
      "38/38 [==============================] - 1s 16ms/step - loss: 7.0053e-04\n",
      "Epoch 149/300\n",
      "38/38 [==============================] - 1s 16ms/step - loss: 0.0010\n",
      "Epoch 150/300\n",
      "38/38 [==============================] - 1s 16ms/step - loss: 7.5324e-04\n",
      "Epoch 151/300\n",
      "38/38 [==============================] - 1s 16ms/step - loss: 7.1848e-04\n",
      "Epoch 152/300\n",
      "38/38 [==============================] - 1s 16ms/step - loss: 7.3347e-04\n",
      "Epoch 153/300\n",
      "38/38 [==============================] - 1s 16ms/step - loss: 7.5033e-04\n",
      "Epoch 154/300\n",
      "38/38 [==============================] - 1s 16ms/step - loss: 6.9273e-04\n",
      "Epoch 155/300\n",
      "38/38 [==============================] - 1s 16ms/step - loss: 6.4089e-04\n",
      "Epoch 156/300\n",
      "38/38 [==============================] - 1s 16ms/step - loss: 7.4126e-04\n",
      "Epoch 157/300\n",
      "38/38 [==============================] - 1s 16ms/step - loss: 7.6234e-04\n",
      "Epoch 158/300\n",
      "38/38 [==============================] - 1s 16ms/step - loss: 7.2172e-04\n",
      "Epoch 159/300\n",
      "38/38 [==============================] - 1s 16ms/step - loss: 7.3633e-04\n",
      "Epoch 160/300\n",
      "38/38 [==============================] - 1s 16ms/step - loss: 6.8462e-04\n",
      "Epoch 161/300\n",
      "38/38 [==============================] - 1s 16ms/step - loss: 7.2366e-04\n",
      "Epoch 162/300\n",
      "38/38 [==============================] - 1s 16ms/step - loss: 6.6432e-04\n",
      "Epoch 163/300\n",
      "38/38 [==============================] - 1s 16ms/step - loss: 6.5641e-04\n",
      "Epoch 164/300\n",
      "38/38 [==============================] - 1s 16ms/step - loss: 7.1649e-04\n",
      "Epoch 165/300\n",
      "38/38 [==============================] - 1s 16ms/step - loss: 7.4051e-04\n",
      "Epoch 166/300\n",
      "38/38 [==============================] - 1s 16ms/step - loss: 6.1409e-04\n",
      "Epoch 167/300\n",
      "38/38 [==============================] - 1s 16ms/step - loss: 7.0150e-04\n",
      "Epoch 168/300\n",
      "38/38 [==============================] - 1s 16ms/step - loss: 6.8648e-04\n",
      "Epoch 169/300\n",
      "38/38 [==============================] - 1s 16ms/step - loss: 6.4394e-04\n",
      "Epoch 170/300\n",
      "38/38 [==============================] - 1s 16ms/step - loss: 7.6140e-04\n",
      "Epoch 171/300\n",
      "38/38 [==============================] - 1s 16ms/step - loss: 6.3598e-04\n",
      "Epoch 172/300\n",
      "38/38 [==============================] - 1s 16ms/step - loss: 7.3846e-04\n",
      "Epoch 173/300\n",
      "38/38 [==============================] - 1s 16ms/step - loss: 7.2457e-04\n",
      "Epoch 174/300\n",
      "38/38 [==============================] - 1s 16ms/step - loss: 7.2704e-04\n",
      "Epoch 175/300\n",
      "38/38 [==============================] - 1s 16ms/step - loss: 6.4431e-04\n",
      "Epoch 176/300\n",
      "38/38 [==============================] - 1s 16ms/step - loss: 6.2664e-04\n",
      "Epoch 177/300\n",
      "38/38 [==============================] - 1s 16ms/step - loss: 6.1563e-04\n",
      "Epoch 178/300\n",
      "38/38 [==============================] - 1s 16ms/step - loss: 7.2031e-04\n",
      "Epoch 179/300\n",
      "38/38 [==============================] - 1s 17ms/step - loss: 7.7090e-04\n",
      "Epoch 180/300\n",
      "38/38 [==============================] - 1s 16ms/step - loss: 7.6036e-04\n",
      "Epoch 181/300\n",
      "38/38 [==============================] - 1s 16ms/step - loss: 5.8577e-04\n",
      "Epoch 182/300\n",
      "38/38 [==============================] - 1s 16ms/step - loss: 6.5772e-04\n",
      "Epoch 183/300\n",
      "38/38 [==============================] - 1s 16ms/step - loss: 6.8743e-04\n",
      "Epoch 184/300\n",
      "38/38 [==============================] - 1s 16ms/step - loss: 5.9670e-04\n",
      "Epoch 185/300\n",
      "38/38 [==============================] - 1s 16ms/step - loss: 6.8874e-04\n",
      "Epoch 186/300\n",
      "38/38 [==============================] - 1s 16ms/step - loss: 6.3732e-04\n",
      "Epoch 187/300\n",
      "38/38 [==============================] - 1s 16ms/step - loss: 5.9717e-04\n",
      "Epoch 188/300\n",
      "38/38 [==============================] - 1s 16ms/step - loss: 6.4467e-04\n",
      "Epoch 189/300\n",
      "38/38 [==============================] - 1s 16ms/step - loss: 6.3641e-04\n",
      "Epoch 190/300\n",
      "38/38 [==============================] - 1s 16ms/step - loss: 6.9184e-04\n",
      "Epoch 191/300\n",
      "38/38 [==============================] - 1s 16ms/step - loss: 6.0406e-04\n",
      "Epoch 192/300\n",
      "38/38 [==============================] - 1s 16ms/step - loss: 9.9553e-04\n",
      "Epoch 193/300\n",
      "38/38 [==============================] - 1s 16ms/step - loss: 5.6762e-04\n",
      "Epoch 194/300\n",
      "38/38 [==============================] - 1s 16ms/step - loss: 5.6873e-04\n",
      "Epoch 195/300\n",
      "38/38 [==============================] - 1s 16ms/step - loss: 7.1169e-04\n",
      "Epoch 196/300\n",
      "38/38 [==============================] - 1s 16ms/step - loss: 6.2600e-04\n",
      "Epoch 197/300\n",
      "38/38 [==============================] - 1s 16ms/step - loss: 9.1480e-04\n",
      "Epoch 198/300\n",
      "38/38 [==============================] - 1s 16ms/step - loss: 7.5126e-04\n",
      "Epoch 199/300\n",
      "38/38 [==============================] - 1s 16ms/step - loss: 7.0995e-04\n",
      "Epoch 200/300\n",
      "38/38 [==============================] - 1s 16ms/step - loss: 6.3811e-04\n",
      "Epoch 201/300\n",
      "38/38 [==============================] - 1s 16ms/step - loss: 7.3836e-04\n",
      "Epoch 202/300\n",
      "38/38 [==============================] - 1s 16ms/step - loss: 8.9381e-04\n",
      "Epoch 203/300\n",
      "38/38 [==============================] - 1s 16ms/step - loss: 6.2447e-04\n",
      "Epoch 204/300\n",
      "38/38 [==============================] - 1s 16ms/step - loss: 6.2603e-04\n",
      "Epoch 205/300\n",
      "38/38 [==============================] - 1s 16ms/step - loss: 7.8229e-04\n",
      "Epoch 206/300\n",
      "38/38 [==============================] - 1s 16ms/step - loss: 6.5422e-04\n",
      "Epoch 207/300\n",
      "38/38 [==============================] - 1s 16ms/step - loss: 6.0167e-04\n",
      "Epoch 208/300\n",
      "38/38 [==============================] - 1s 16ms/step - loss: 5.8748e-04\n",
      "Epoch 209/300\n",
      "38/38 [==============================] - 1s 16ms/step - loss: 6.8233e-04\n",
      "Epoch 210/300\n",
      "38/38 [==============================] - 1s 16ms/step - loss: 6.0551e-04\n",
      "Epoch 211/300\n",
      "38/38 [==============================] - 1s 16ms/step - loss: 5.9284e-04\n",
      "Epoch 212/300\n",
      "38/38 [==============================] - 1s 16ms/step - loss: 5.8631e-04\n",
      "Epoch 213/300\n",
      "38/38 [==============================] - 1s 16ms/step - loss: 8.1293e-04\n",
      "Epoch 214/300\n",
      "38/38 [==============================] - 1s 16ms/step - loss: 5.8204e-04\n",
      "Epoch 215/300\n",
      "38/38 [==============================] - 1s 16ms/step - loss: 6.7981e-04\n",
      "Epoch 216/300\n",
      "38/38 [==============================] - 1s 16ms/step - loss: 6.0714e-04\n",
      "Epoch 217/300\n",
      "38/38 [==============================] - 1s 16ms/step - loss: 6.1801e-04\n",
      "Epoch 218/300\n",
      "38/38 [==============================] - 1s 16ms/step - loss: 6.2435e-04\n",
      "Epoch 219/300\n",
      "38/38 [==============================] - 1s 16ms/step - loss: 6.5252e-04\n",
      "Epoch 220/300\n",
      "38/38 [==============================] - 1s 16ms/step - loss: 6.6750e-04\n",
      "Epoch 221/300\n",
      "38/38 [==============================] - 1s 16ms/step - loss: 7.5205e-04\n",
      "Epoch 222/300\n",
      "38/38 [==============================] - 1s 16ms/step - loss: 6.1116e-04\n",
      "Epoch 223/300\n",
      "38/38 [==============================] - 1s 16ms/step - loss: 6.9046e-04\n",
      "Epoch 224/300\n",
      "38/38 [==============================] - 1s 16ms/step - loss: 5.5041e-04\n",
      "Epoch 225/300\n",
      "38/38 [==============================] - 1s 16ms/step - loss: 5.8091e-04\n",
      "Epoch 226/300\n",
      "38/38 [==============================] - 1s 16ms/step - loss: 6.2265e-04\n",
      "Epoch 227/300\n",
      "38/38 [==============================] - 1s 16ms/step - loss: 5.8594e-04\n",
      "Epoch 228/300\n",
      "38/38 [==============================] - 1s 16ms/step - loss: 5.5754e-04\n",
      "Epoch 229/300\n",
      "38/38 [==============================] - 1s 16ms/step - loss: 6.1737e-04\n",
      "Epoch 230/300\n",
      "38/38 [==============================] - 1s 16ms/step - loss: 5.7748e-04\n",
      "Epoch 231/300\n",
      "38/38 [==============================] - 1s 17ms/step - loss: 5.6916e-04\n",
      "Epoch 232/300\n",
      "38/38 [==============================] - 1s 16ms/step - loss: 8.0877e-04\n",
      "Epoch 233/300\n",
      "38/38 [==============================] - 1s 16ms/step - loss: 6.4418e-04\n",
      "Epoch 234/300\n",
      "38/38 [==============================] - 1s 16ms/step - loss: 6.1592e-04\n",
      "Epoch 235/300\n",
      "38/38 [==============================] - 1s 16ms/step - loss: 6.2026e-04\n",
      "Epoch 236/300\n",
      "38/38 [==============================] - 1s 16ms/step - loss: 6.5224e-04\n",
      "Epoch 237/300\n",
      "38/38 [==============================] - 1s 16ms/step - loss: 5.9235e-04\n",
      "Epoch 238/300\n",
      "38/38 [==============================] - 1s 16ms/step - loss: 5.7594e-04\n",
      "Epoch 239/300\n",
      "38/38 [==============================] - 1s 16ms/step - loss: 5.8255e-04\n",
      "Epoch 240/300\n",
      "38/38 [==============================] - 1s 16ms/step - loss: 5.8100e-04\n",
      "Epoch 241/300\n",
      "38/38 [==============================] - 1s 16ms/step - loss: 6.2973e-04\n",
      "Epoch 242/300\n",
      "38/38 [==============================] - 1s 16ms/step - loss: 6.8582e-04\n",
      "Epoch 243/300\n",
      "38/38 [==============================] - 1s 16ms/step - loss: 5.0349e-04\n",
      "Epoch 244/300\n",
      "38/38 [==============================] - 1s 16ms/step - loss: 6.1811e-04\n",
      "Epoch 245/300\n",
      "38/38 [==============================] - 1s 16ms/step - loss: 6.3999e-04\n",
      "Epoch 246/300\n",
      "38/38 [==============================] - 1s 16ms/step - loss: 6.6383e-04\n",
      "Epoch 247/300\n",
      "38/38 [==============================] - 1s 16ms/step - loss: 5.4694e-04\n",
      "Epoch 248/300\n",
      "38/38 [==============================] - 1s 16ms/step - loss: 5.1816e-04\n",
      "Epoch 249/300\n",
      "38/38 [==============================] - 1s 16ms/step - loss: 5.6660e-04\n",
      "Epoch 250/300\n",
      "38/38 [==============================] - 1s 16ms/step - loss: 5.4475e-04\n",
      "Epoch 251/300\n",
      "38/38 [==============================] - 1s 16ms/step - loss: 6.5584e-04\n",
      "Epoch 252/300\n",
      "38/38 [==============================] - 1s 16ms/step - loss: 6.0386e-04\n",
      "Epoch 253/300\n",
      "38/38 [==============================] - 1s 16ms/step - loss: 7.0084e-04\n",
      "Epoch 254/300\n",
      "38/38 [==============================] - 1s 16ms/step - loss: 7.5114e-04\n",
      "Epoch 255/300\n",
      "38/38 [==============================] - 1s 16ms/step - loss: 5.3575e-04\n",
      "Epoch 256/300\n",
      "38/38 [==============================] - 1s 16ms/step - loss: 8.1944e-04\n",
      "Epoch 257/300\n",
      "38/38 [==============================] - 1s 16ms/step - loss: 6.4143e-04\n",
      "Epoch 258/300\n",
      "38/38 [==============================] - 1s 16ms/step - loss: 7.4434e-04\n",
      "Epoch 259/300\n",
      "38/38 [==============================] - 1s 16ms/step - loss: 5.4371e-04\n",
      "Epoch 260/300\n",
      "38/38 [==============================] - 1s 16ms/step - loss: 5.5885e-04\n",
      "Epoch 261/300\n",
      "38/38 [==============================] - 1s 16ms/step - loss: 5.4058e-04\n",
      "Epoch 262/300\n",
      "38/38 [==============================] - 1s 16ms/step - loss: 6.5938e-04\n",
      "Epoch 263/300\n",
      "38/38 [==============================] - 1s 16ms/step - loss: 5.8301e-04\n",
      "Epoch 264/300\n",
      "38/38 [==============================] - 1s 16ms/step - loss: 6.0584e-04\n",
      "Epoch 265/300\n",
      "38/38 [==============================] - 1s 16ms/step - loss: 5.8480e-04\n",
      "Epoch 266/300\n",
      "38/38 [==============================] - 1s 16ms/step - loss: 5.6876e-04\n",
      "Epoch 267/300\n",
      "38/38 [==============================] - 1s 16ms/step - loss: 5.8451e-04\n",
      "Epoch 268/300\n",
      "38/38 [==============================] - 1s 16ms/step - loss: 6.5477e-04\n",
      "Epoch 269/300\n",
      "38/38 [==============================] - 1s 16ms/step - loss: 5.1926e-04\n",
      "Epoch 270/300\n",
      "38/38 [==============================] - 1s 16ms/step - loss: 5.7535e-04\n",
      "Epoch 271/300\n",
      "38/38 [==============================] - 1s 16ms/step - loss: 5.7430e-04\n",
      "Epoch 272/300\n",
      "38/38 [==============================] - 1s 16ms/step - loss: 6.5591e-04\n",
      "Epoch 273/300\n",
      "38/38 [==============================] - 1s 16ms/step - loss: 6.2708e-04\n",
      "Epoch 274/300\n",
      "38/38 [==============================] - 1s 16ms/step - loss: 5.5581e-04\n",
      "Epoch 275/300\n",
      "38/38 [==============================] - 1s 16ms/step - loss: 5.5163e-04\n",
      "Epoch 276/300\n",
      "38/38 [==============================] - 1s 16ms/step - loss: 6.0272e-04\n",
      "Epoch 277/300\n",
      "38/38 [==============================] - 1s 16ms/step - loss: 5.8687e-04\n",
      "Epoch 278/300\n",
      "38/38 [==============================] - 1s 16ms/step - loss: 4.9760e-04\n",
      "Epoch 279/300\n",
      "38/38 [==============================] - 1s 16ms/step - loss: 6.2154e-04\n",
      "Epoch 280/300\n",
      "38/38 [==============================] - 1s 16ms/step - loss: 5.3597e-04\n",
      "Epoch 281/300\n",
      "38/38 [==============================] - 1s 16ms/step - loss: 5.9821e-04\n",
      "Epoch 282/300\n",
      "38/38 [==============================] - 1s 16ms/step - loss: 6.0830e-04\n",
      "Epoch 283/300\n",
      "38/38 [==============================] - 1s 17ms/step - loss: 6.1910e-04\n",
      "Epoch 284/300\n",
      "38/38 [==============================] - 1s 17ms/step - loss: 5.4473e-04\n",
      "Epoch 285/300\n",
      "38/38 [==============================] - 1s 16ms/step - loss: 5.1594e-04\n",
      "Epoch 286/300\n",
      "38/38 [==============================] - 1s 16ms/step - loss: 5.0410e-04\n",
      "Epoch 287/300\n",
      "38/38 [==============================] - 1s 16ms/step - loss: 5.4969e-04\n",
      "Epoch 288/300\n",
      "38/38 [==============================] - 1s 16ms/step - loss: 5.7181e-04\n",
      "Epoch 289/300\n",
      "38/38 [==============================] - 1s 16ms/step - loss: 6.1156e-04\n",
      "Epoch 290/300\n",
      "38/38 [==============================] - 1s 16ms/step - loss: 6.6339e-04\n",
      "Epoch 291/300\n",
      "38/38 [==============================] - 1s 16ms/step - loss: 5.8764e-04\n",
      "Epoch 292/300\n",
      "38/38 [==============================] - 1s 16ms/step - loss: 5.8245e-04\n",
      "Epoch 293/300\n",
      "38/38 [==============================] - 1s 16ms/step - loss: 5.5049e-04\n",
      "Epoch 294/300\n",
      "38/38 [==============================] - 1s 16ms/step - loss: 6.3854e-04\n",
      "Epoch 295/300\n",
      "38/38 [==============================] - 1s 16ms/step - loss: 8.6857e-04\n",
      "Epoch 296/300\n",
      "38/38 [==============================] - 1s 16ms/step - loss: 9.4100e-04\n",
      "Epoch 297/300\n",
      "38/38 [==============================] - 1s 16ms/step - loss: 5.7794e-04\n",
      "Epoch 298/300\n",
      "38/38 [==============================] - 1s 16ms/step - loss: 5.4076e-04\n",
      "Epoch 299/300\n",
      "38/38 [==============================] - 1s 16ms/step - loss: 5.5126e-04\n",
      "Epoch 300/300\n",
      "38/38 [==============================] - 1s 16ms/step - loss: 6.1673e-04\n"
     ]
    },
    {
     "data": {
      "text/plain": [
       "<keras.callbacks.History at 0x7b077c09bc50>"
      ]
     },
     "execution_count": 22,
     "metadata": {},
     "output_type": "execute_result"
    }
   ],
   "source": [
    "model.fit(features_set, labels, epochs = 300, batch_size = 32)"
   ]
  },
  {
   "cell_type": "code",
   "execution_count": 23,
   "id": "daa24fb2",
   "metadata": {
    "execution": {
     "iopub.execute_input": "2023-11-22T14:52:36.645990Z",
     "iopub.status.busy": "2023-11-22T14:52:36.645129Z",
     "iopub.status.idle": "2023-11-22T14:52:36.655734Z",
     "shell.execute_reply": "2023-11-22T14:52:36.654979Z"
    },
    "papermill": {
     "duration": 0.273472,
     "end_time": "2023-11-22T14:52:36.657880",
     "exception": false,
     "start_time": "2023-11-22T14:52:36.384408",
     "status": "completed"
    },
    "tags": []
   },
   "outputs": [],
   "source": [
    "apple_testing_complete = pd.read_csv(\"../input/apple-stock-20132018/AAPL - Jan2018.xls\")\n",
    "apple_testing_processed = apple_testing_complete.iloc[:, 1:2].values"
   ]
  },
  {
   "cell_type": "code",
   "execution_count": 24,
   "id": "12afee85",
   "metadata": {
    "execution": {
     "iopub.execute_input": "2023-11-22T14:52:37.249008Z",
     "iopub.status.busy": "2023-11-22T14:52:37.248307Z",
     "iopub.status.idle": "2023-11-22T14:52:37.257529Z",
     "shell.execute_reply": "2023-11-22T14:52:37.256657Z"
    },
    "papermill": {
     "duration": 0.275287,
     "end_time": "2023-11-22T14:52:37.259472",
     "exception": false,
     "start_time": "2023-11-22T14:52:36.984185",
     "status": "completed"
    },
    "tags": []
   },
   "outputs": [],
   "source": [
    "apple_total = pd.concat((apple_training_complete['Open'], apple_testing_complete['Open']), axis=0)"
   ]
  },
  {
   "cell_type": "code",
   "execution_count": 25,
   "id": "127544a4",
   "metadata": {
    "execution": {
     "iopub.execute_input": "2023-11-22T14:52:37.793859Z",
     "iopub.status.busy": "2023-11-22T14:52:37.793045Z",
     "iopub.status.idle": "2023-11-22T14:52:37.798663Z",
     "shell.execute_reply": "2023-11-22T14:52:37.797552Z"
    },
    "papermill": {
     "duration": 0.286754,
     "end_time": "2023-11-22T14:52:37.801157",
     "exception": false,
     "start_time": "2023-11-22T14:52:37.514403",
     "status": "completed"
    },
    "tags": []
   },
   "outputs": [],
   "source": [
    "test_inputs = apple_total[len(apple_total) - len(apple_testing_complete) - 60:].values"
   ]
  },
  {
   "cell_type": "code",
   "execution_count": 26,
   "id": "038b8694",
   "metadata": {
    "execution": {
     "iopub.execute_input": "2023-11-22T14:52:38.315100Z",
     "iopub.status.busy": "2023-11-22T14:52:38.314351Z",
     "iopub.status.idle": "2023-11-22T14:52:38.322000Z",
     "shell.execute_reply": "2023-11-22T14:52:38.321090Z"
    },
    "papermill": {
     "duration": 0.266929,
     "end_time": "2023-11-22T14:52:38.324143",
     "exception": false,
     "start_time": "2023-11-22T14:52:38.057214",
     "status": "completed"
    },
    "tags": []
   },
   "outputs": [
    {
     "data": {
      "text/plain": [
       "array([154.179993, 154.970001, 155.809998, 156.059998, 155.970001,\n",
       "       156.350006, 156.729996, 157.899994, 159.779999, 160.419998,\n",
       "       156.75    , 156.610001, 156.889999, 156.289993, 156.910004,\n",
       "       157.229996, 159.289993, 163.889999, 167.899994, 169.869995,\n",
       "       166.600006, 174.      , 172.369995, 173.910004, 174.660004,\n",
       "       175.110001, 175.110001, 173.5     , 173.039993, 169.970001,\n",
       "       171.179993, 171.039993, 170.289993, 170.779999, 173.360001,\n",
       "       175.100006, 175.050003, 174.300003, 172.630005, 170.429993,\n",
       "       169.949997, 172.479996, 169.059998, 167.5     , 169.029999,\n",
       "       170.490005, 169.199997, 172.149994, 172.5     , 172.399994,\n",
       "       173.630005, 174.880005, 175.029999, 174.869995, 174.169998,\n",
       "       174.679993, 170.800003, 170.100006, 171.      , 170.520004,\n",
       "       170.160004, 172.529999, 172.539993, 173.440002, 174.350006,\n",
       "       174.550003, 173.160004, 174.589996, 176.179993, 177.899994,\n",
       "       176.149994, 179.369995, 178.610001, 177.300003, 177.300003,\n",
       "       177.25    , 174.509995, 172.      , 170.160004, 165.529999])"
      ]
     },
     "execution_count": 26,
     "metadata": {},
     "output_type": "execute_result"
    }
   ],
   "source": [
    "test_inputs"
   ]
  },
  {
   "cell_type": "code",
   "execution_count": 27,
   "id": "29be1cd0",
   "metadata": {
    "execution": {
     "iopub.execute_input": "2023-11-22T14:52:38.843531Z",
     "iopub.status.busy": "2023-11-22T14:52:38.843053Z",
     "iopub.status.idle": "2023-11-22T14:52:38.848373Z",
     "shell.execute_reply": "2023-11-22T14:52:38.847439Z"
    },
    "papermill": {
     "duration": 0.266456,
     "end_time": "2023-11-22T14:52:38.850569",
     "exception": false,
     "start_time": "2023-11-22T14:52:38.584113",
     "status": "completed"
    },
    "tags": []
   },
   "outputs": [],
   "source": [
    "test_inputs = test_inputs.reshape(-1,1)\n",
    "test_inputs = scaler.transform(test_inputs)"
   ]
  },
  {
   "cell_type": "code",
   "execution_count": 28,
   "id": "923d825d",
   "metadata": {
    "execution": {
     "iopub.execute_input": "2023-11-22T14:52:39.380943Z",
     "iopub.status.busy": "2023-11-22T14:52:39.380068Z",
     "iopub.status.idle": "2023-11-22T14:52:39.385449Z",
     "shell.execute_reply": "2023-11-22T14:52:39.384477Z"
    },
    "papermill": {
     "duration": 0.262105,
     "end_time": "2023-11-22T14:52:39.387444",
     "exception": false,
     "start_time": "2023-11-22T14:52:39.125339",
     "status": "completed"
    },
    "tags": []
   },
   "outputs": [],
   "source": [
    "test_features = []\n",
    "for i in range(60, 80):\n",
    "    test_features.append(test_inputs[i-60:i, 0])"
   ]
  },
  {
   "cell_type": "code",
   "execution_count": 29,
   "id": "a9fcd86b",
   "metadata": {
    "execution": {
     "iopub.execute_input": "2023-11-22T14:52:39.959477Z",
     "iopub.status.busy": "2023-11-22T14:52:39.958678Z",
     "iopub.status.idle": "2023-11-22T14:52:39.964381Z",
     "shell.execute_reply": "2023-11-22T14:52:39.963310Z"
    },
    "papermill": {
     "duration": 0.278314,
     "end_time": "2023-11-22T14:52:39.966845",
     "exception": false,
     "start_time": "2023-11-22T14:52:39.688531",
     "status": "completed"
    },
    "tags": []
   },
   "outputs": [],
   "source": [
    "test_features = np.array(test_features)\n",
    "test_features = np.reshape(test_features, (test_features.shape[0], test_features.shape[1], 1))"
   ]
  },
  {
   "cell_type": "code",
   "execution_count": 30,
   "id": "a7612289",
   "metadata": {
    "execution": {
     "iopub.execute_input": "2023-11-22T14:52:40.481006Z",
     "iopub.status.busy": "2023-11-22T14:52:40.480229Z",
     "iopub.status.idle": "2023-11-22T14:52:41.621778Z",
     "shell.execute_reply": "2023-11-22T14:52:41.620804Z"
    },
    "papermill": {
     "duration": 1.398606,
     "end_time": "2023-11-22T14:52:41.624229",
     "exception": false,
     "start_time": "2023-11-22T14:52:40.225623",
     "status": "completed"
    },
    "tags": []
   },
   "outputs": [],
   "source": [
    "predictions = model.predict(test_features)"
   ]
  },
  {
   "cell_type": "code",
   "execution_count": 31,
   "id": "706c8f23",
   "metadata": {
    "execution": {
     "iopub.execute_input": "2023-11-22T14:52:42.166117Z",
     "iopub.status.busy": "2023-11-22T14:52:42.165721Z",
     "iopub.status.idle": "2023-11-22T14:52:42.171287Z",
     "shell.execute_reply": "2023-11-22T14:52:42.170229Z"
    },
    "papermill": {
     "duration": 0.290704,
     "end_time": "2023-11-22T14:52:42.173762",
     "exception": false,
     "start_time": "2023-11-22T14:52:41.883058",
     "status": "completed"
    },
    "tags": []
   },
   "outputs": [],
   "source": [
    "predictions = scaler.inverse_transform(predictions)"
   ]
  },
  {
   "cell_type": "code",
   "execution_count": 32,
   "id": "a6fe5cf3",
   "metadata": {
    "execution": {
     "iopub.execute_input": "2023-11-22T14:52:42.691138Z",
     "iopub.status.busy": "2023-11-22T14:52:42.690752Z",
     "iopub.status.idle": "2023-11-22T14:52:42.965956Z",
     "shell.execute_reply": "2023-11-22T14:52:42.964978Z"
    },
    "papermill": {
     "duration": 0.532745,
     "end_time": "2023-11-22T14:52:42.968329",
     "exception": false,
     "start_time": "2023-11-22T14:52:42.435584",
     "status": "completed"
    },
    "tags": []
   },
   "outputs": [
    {
     "data": {
      "image/png": "[encoded data removed]",
      "text/plain": [
       "<Figure size 720x432 with 1 Axes>"
      ]
     },
     "metadata": {
      "needs_background": "light"
     },
     "output_type": "display_data"
    }
   ],
   "source": [
    "plt.figure(figsize=(10,6))\n",
    "plt.plot(apple_testing_processed, color='blue', label='Actual Apple Stock Price')\n",
    "plt.plot(predictions , color='red', label='Predicted Apple Stock Price')\n",
    "plt.title('Apple Stock Price Prediction')\n",
    "plt.xlabel('Date')\n",
    "plt.ylabel('Apple Stock Price')\n",
    "plt.legend()\n",
    "plt.show()"
   ]
  },
  {
   "cell_type": "code",
   "execution_count": null,
   "id": "2a107ded",
   "metadata": {
    "papermill": {
     "duration": 0.25984,
     "end_time": "2023-11-22T14:52:43.485232",
     "exception": false,
     "start_time": "2023-11-22T14:52:43.225392",
     "status": "completed"
    },
    "tags": []
   },
   "outputs": [],
   "source": []
  }
 ],
 "metadata": {
  "kaggle": {
   "accelerator": "gpu",
   "dataSources": [
    {
     "datasetId": 2404923,
     "sourceId": 4061820,
     "sourceType": "datasetVersion"
    }
   ],
   "dockerImageVersionId": 30214,
   "isGpuEnabled": true,
   "isInternetEnabled": true,
   "language": "python",
   "sourceType": "notebook"
  },
  "kernelspec": {
   "display_name": "Python 3",
   "language": "python",
   "name": "python3"
  },
  "language_info": {
   "codemirror_mode": {
    "name": "ipython",
    "version": 3
   },
   "file_extension": ".py",
   "mimetype": "text/x-python",
   "name": "python",
   "nbconvert_exporter": "python",
   "pygments_lexer": "ipython3",
   "version": "3.7.12"
  },
  "papermill": {
   "default_parameters": {},
   "duration": 219.596852,
   "end_time": "2023-11-22T14:52:46.749808",
   "environment_variables": {},
   "exception": null,
   "input_path": "__notebook__.ipynb",
   "output_path": "__notebook__.ipynb",
   "parameters": {},
   "start_time": "2023-11-22T14:49:07.152956",
   "version": "2.3.4"
  }
 },
 "nbformat": 4,
 "nbformat_minor": 5
}
