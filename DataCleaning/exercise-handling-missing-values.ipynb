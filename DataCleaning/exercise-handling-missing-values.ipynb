{
 "cells": [
  {
   "cell_type": "markdown",
   "id": "320a0250",
   "metadata": {
    "papermill": {
     "duration": 0.009999,
     "end_time": "2024-04-22T13:32:04.776456",
     "exception": false,
     "start_time": "2024-04-22T13:32:04.766457",
     "status": "completed"
    },
    "tags": []
   },
   "source": [
    "**This notebook is an exercise in the [Data Cleaning](https://www.kaggle.com/learn/data-cleaning) course.  You can reference the tutorial at [this link](https://www.kaggle.com/alexisbcook/handling-missing-values).**\n",
    "\n",
    "---\n"
   ]
  },
  {
   "cell_type": "markdown",
   "id": "3999fe64",
   "metadata": {
    "papermill": {
     "duration": 0.011537,
     "end_time": "2024-04-22T13:32:04.799342",
     "exception": false,
     "start_time": "2024-04-22T13:32:04.787805",
     "status": "completed"
    },
    "tags": []
   },
   "source": [
    "In this exercise, you'll apply what you learned in the **Handling missing values** tutorial.\n",
    "\n",
    "# Setup\n",
    "\n",
    "The questions below will give you feedback on your work. Run the following cell to set up the feedback system."
   ]
  },
  {
   "cell_type": "code",
   "execution_count": 1,
   "id": "9214cbfd",
   "metadata": {
    "execution": {
     "iopub.execute_input": "2024-04-22T13:32:04.824416Z",
     "iopub.status.busy": "2024-04-22T13:32:04.823928Z",
     "iopub.status.idle": "2024-04-22T13:32:14.085205Z",
     "shell.execute_reply": "2024-04-22T13:32:14.083885Z"
    },
    "papermill": {
     "duration": 9.276054,
     "end_time": "2024-04-22T13:32:14.087963",
     "exception": false,
     "start_time": "2024-04-22T13:32:04.811909",
     "status": "completed"
    },
    "tags": []
   },
   "outputs": [
    {
     "name": "stderr",
     "output_type": "stream",
     "text": [
      "/opt/conda/lib/python3.10/site-packages/learntools/data_cleaning/ex1.py:6: DtypeWarning: Columns (22,32) have mixed types. Specify dtype option on import or set low_memory=False.\n",
      "  sf_permits = pd.read_csv(\"../input/building-permit-applications-data/Building_Permits.csv\")\n",
      "/tmp/ipykernel_18/3419995878.py:3: DeprecationWarning: `product` is deprecated as of NumPy 1.25.0, and will be removed in NumPy 2.0. Please use `prod` instead.\n",
      "  from learntools.data_cleaning.ex1 import *\n",
      "/opt/conda/lib/python3.10/site-packages/learntools/data_cleaning/ex1.py:69: FutureWarning: DataFrame.fillna with 'method' is deprecated and will raise in a future version. Use obj.ffill() or obj.bfill() instead.\n",
      "  _expected = sf_permits.fillna(method='bfill', axis=0).fillna(0)\n"
     ]
    },
    {
     "name": "stdout",
     "output_type": "stream",
     "text": [
      "Setup Complete\n"
     ]
    }
   ],
   "source": [
    "from learntools.core import binder\n",
    "binder.bind(globals())\n",
    "from learntools.data_cleaning.ex1 import *\n",
    "print(\"Setup Complete\")"
   ]
  },
  {
   "cell_type": "markdown",
   "id": "d3dc4b1c",
   "metadata": {
    "papermill": {
     "duration": 0.010545,
     "end_time": "2024-04-22T13:32:14.109389",
     "exception": false,
     "start_time": "2024-04-22T13:32:14.098844",
     "status": "completed"
    },
    "tags": []
   },
   "source": [
    "# 1) Take a first look at the data\n",
    "\n",
    "Run the next code cell to load in the libraries and dataset you'll use to complete the exercise."
   ]
  },
  {
   "cell_type": "code",
   "execution_count": 2,
   "id": "c6081b31",
   "metadata": {
    "execution": {
     "iopub.execute_input": "2024-04-22T13:32:14.131650Z",
     "iopub.status.busy": "2024-04-22T13:32:14.131214Z",
     "iopub.status.idle": "2024-04-22T13:32:16.309587Z",
     "shell.execute_reply": "2024-04-22T13:32:16.308311Z"
    },
    "papermill": {
     "duration": 2.192961,
     "end_time": "2024-04-22T13:32:16.312693",
     "exception": false,
     "start_time": "2024-04-22T13:32:14.119732",
     "status": "completed"
    },
    "tags": []
   },
   "outputs": [
    {
     "name": "stderr",
     "output_type": "stream",
     "text": [
      "/tmp/ipykernel_18/3534875831.py:6: DtypeWarning: Columns (22,32) have mixed types. Specify dtype option on import or set low_memory=False.\n",
      "  sf_permits = pd.read_csv(\"../input/building-permit-applications-data/Building_Permits.csv\")\n"
     ]
    }
   ],
   "source": [
    "# modules we'll use\n",
    "import pandas as pd\n",
    "import numpy as np\n",
    "\n",
    "# read in all our data\n",
    "sf_permits = pd.read_csv(\"../input/building-permit-applications-data/Building_Permits.csv\")\n",
    "\n",
    "# set seed for reproducibility\n",
    "np.random.seed(0) "
   ]
  },
  {
   "cell_type": "markdown",
   "id": "1aa1e321",
   "metadata": {
    "papermill": {
     "duration": 0.009854,
     "end_time": "2024-04-22T13:32:16.333496",
     "exception": false,
     "start_time": "2024-04-22T13:32:16.323642",
     "status": "completed"
    },
    "tags": []
   },
   "source": [
    "Use the code cell below to print the first five rows of the `sf_permits` DataFrame."
   ]
  },
  {
   "cell_type": "code",
   "execution_count": 3,
   "id": "504d5e70",
   "metadata": {
    "execution": {
     "iopub.execute_input": "2024-04-22T13:32:16.357268Z",
     "iopub.status.busy": "2024-04-22T13:32:16.356818Z",
     "iopub.status.idle": "2024-04-22T13:32:16.392915Z",
     "shell.execute_reply": "2024-04-22T13:32:16.391669Z"
    },
    "papermill": {
     "duration": 0.050547,
     "end_time": "2024-04-22T13:32:16.395502",
     "exception": false,
     "start_time": "2024-04-22T13:32:16.344955",
     "status": "completed"
    },
    "tags": []
   },
   "outputs": [
    {
     "data": {
      "text/html": [
       "<div>\n",
       "<style scoped>\n",
       "    .dataframe tbody tr th:only-of-type {\n",
       "        vertical-align: middle;\n",
       "    }\n",
       "\n",
       "    .dataframe tbody tr th {\n",
       "        vertical-align: top;\n",
       "    }\n",
       "\n",
       "    .dataframe thead th {\n",
       "        text-align: right;\n",
       "    }\n",
       "</style>\n",
       "<table border=\"1\" class=\"dataframe\">\n",
       "  <thead>\n",
       "    <tr style=\"text-align: right;\">\n",
       "      <th></th>\n",
       "      <th>Permit Number</th>\n",
       "      <th>Permit Type</th>\n",
       "      <th>Permit Type Definition</th>\n",
       "      <th>Permit Creation Date</th>\n",
       "      <th>Block</th>\n",
       "      <th>Lot</th>\n",
       "      <th>Street Number</th>\n",
       "      <th>Street Number Suffix</th>\n",
       "      <th>Street Name</th>\n",
       "      <th>Street Suffix</th>\n",
       "      <th>...</th>\n",
       "      <th>Existing Construction Type</th>\n",
       "      <th>Existing Construction Type Description</th>\n",
       "      <th>Proposed Construction Type</th>\n",
       "      <th>Proposed Construction Type Description</th>\n",
       "      <th>Site Permit</th>\n",
       "      <th>Supervisor District</th>\n",
       "      <th>Neighborhoods - Analysis Boundaries</th>\n",
       "      <th>Zipcode</th>\n",
       "      <th>Location</th>\n",
       "      <th>Record ID</th>\n",
       "    </tr>\n",
       "  </thead>\n",
       "  <tbody>\n",
       "    <tr>\n",
       "      <th>0</th>\n",
       "      <td>201505065519</td>\n",
       "      <td>4</td>\n",
       "      <td>sign - erect</td>\n",
       "      <td>05/06/2015</td>\n",
       "      <td>0326</td>\n",
       "      <td>023</td>\n",
       "      <td>140</td>\n",
       "      <td>NaN</td>\n",
       "      <td>Ellis</td>\n",
       "      <td>St</td>\n",
       "      <td>...</td>\n",
       "      <td>3.0</td>\n",
       "      <td>constr type 3</td>\n",
       "      <td>NaN</td>\n",
       "      <td>NaN</td>\n",
       "      <td>NaN</td>\n",
       "      <td>3.0</td>\n",
       "      <td>Tenderloin</td>\n",
       "      <td>94102.0</td>\n",
       "      <td>(37.785719256680785, -122.40852313194863)</td>\n",
       "      <td>1380611233945</td>\n",
       "    </tr>\n",
       "    <tr>\n",
       "      <th>1</th>\n",
       "      <td>201604195146</td>\n",
       "      <td>4</td>\n",
       "      <td>sign - erect</td>\n",
       "      <td>04/19/2016</td>\n",
       "      <td>0306</td>\n",
       "      <td>007</td>\n",
       "      <td>440</td>\n",
       "      <td>NaN</td>\n",
       "      <td>Geary</td>\n",
       "      <td>St</td>\n",
       "      <td>...</td>\n",
       "      <td>3.0</td>\n",
       "      <td>constr type 3</td>\n",
       "      <td>NaN</td>\n",
       "      <td>NaN</td>\n",
       "      <td>NaN</td>\n",
       "      <td>3.0</td>\n",
       "      <td>Tenderloin</td>\n",
       "      <td>94102.0</td>\n",
       "      <td>(37.78733980600732, -122.41063199757738)</td>\n",
       "      <td>1420164406718</td>\n",
       "    </tr>\n",
       "    <tr>\n",
       "      <th>2</th>\n",
       "      <td>201605278609</td>\n",
       "      <td>3</td>\n",
       "      <td>additions alterations or repairs</td>\n",
       "      <td>05/27/2016</td>\n",
       "      <td>0595</td>\n",
       "      <td>203</td>\n",
       "      <td>1647</td>\n",
       "      <td>NaN</td>\n",
       "      <td>Pacific</td>\n",
       "      <td>Av</td>\n",
       "      <td>...</td>\n",
       "      <td>1.0</td>\n",
       "      <td>constr type 1</td>\n",
       "      <td>1.0</td>\n",
       "      <td>constr type 1</td>\n",
       "      <td>NaN</td>\n",
       "      <td>3.0</td>\n",
       "      <td>Russian Hill</td>\n",
       "      <td>94109.0</td>\n",
       "      <td>(37.7946573324287, -122.42232562979227)</td>\n",
       "      <td>1424856504716</td>\n",
       "    </tr>\n",
       "    <tr>\n",
       "      <th>3</th>\n",
       "      <td>201611072166</td>\n",
       "      <td>8</td>\n",
       "      <td>otc alterations permit</td>\n",
       "      <td>11/07/2016</td>\n",
       "      <td>0156</td>\n",
       "      <td>011</td>\n",
       "      <td>1230</td>\n",
       "      <td>NaN</td>\n",
       "      <td>Pacific</td>\n",
       "      <td>Av</td>\n",
       "      <td>...</td>\n",
       "      <td>5.0</td>\n",
       "      <td>wood frame (5)</td>\n",
       "      <td>5.0</td>\n",
       "      <td>wood frame (5)</td>\n",
       "      <td>NaN</td>\n",
       "      <td>3.0</td>\n",
       "      <td>Nob Hill</td>\n",
       "      <td>94109.0</td>\n",
       "      <td>(37.79595867909168, -122.41557405519474)</td>\n",
       "      <td>1443574295566</td>\n",
       "    </tr>\n",
       "    <tr>\n",
       "      <th>4</th>\n",
       "      <td>201611283529</td>\n",
       "      <td>6</td>\n",
       "      <td>demolitions</td>\n",
       "      <td>11/28/2016</td>\n",
       "      <td>0342</td>\n",
       "      <td>001</td>\n",
       "      <td>950</td>\n",
       "      <td>NaN</td>\n",
       "      <td>Market</td>\n",
       "      <td>St</td>\n",
       "      <td>...</td>\n",
       "      <td>3.0</td>\n",
       "      <td>constr type 3</td>\n",
       "      <td>NaN</td>\n",
       "      <td>NaN</td>\n",
       "      <td>NaN</td>\n",
       "      <td>6.0</td>\n",
       "      <td>Tenderloin</td>\n",
       "      <td>94102.0</td>\n",
       "      <td>(37.78315261897309, -122.40950883997789)</td>\n",
       "      <td>144548169992</td>\n",
       "    </tr>\n",
       "  </tbody>\n",
       "</table>\n",
       "<p>5 rows × 43 columns</p>\n",
       "</div>"
      ],
      "text/plain": [
       "  Permit Number  Permit Type            Permit Type Definition  \\\n",
       "0  201505065519            4                      sign - erect   \n",
       "1  201604195146            4                      sign - erect   \n",
       "2  201605278609            3  additions alterations or repairs   \n",
       "3  201611072166            8            otc alterations permit   \n",
       "4  201611283529            6                       demolitions   \n",
       "\n",
       "  Permit Creation Date Block  Lot  Street Number Street Number Suffix  \\\n",
       "0           05/06/2015  0326  023            140                  NaN   \n",
       "1           04/19/2016  0306  007            440                  NaN   \n",
       "2           05/27/2016  0595  203           1647                  NaN   \n",
       "3           11/07/2016  0156  011           1230                  NaN   \n",
       "4           11/28/2016  0342  001            950                  NaN   \n",
       "\n",
       "  Street Name Street Suffix  ...  Existing Construction Type  \\\n",
       "0       Ellis            St  ...                         3.0   \n",
       "1       Geary            St  ...                         3.0   \n",
       "2     Pacific            Av  ...                         1.0   \n",
       "3     Pacific            Av  ...                         5.0   \n",
       "4      Market            St  ...                         3.0   \n",
       "\n",
       "  Existing Construction Type Description Proposed Construction Type  \\\n",
       "0                          constr type 3                        NaN   \n",
       "1                          constr type 3                        NaN   \n",
       "2                          constr type 1                        1.0   \n",
       "3                         wood frame (5)                        5.0   \n",
       "4                          constr type 3                        NaN   \n",
       "\n",
       "  Proposed Construction Type Description Site Permit Supervisor District  \\\n",
       "0                                    NaN         NaN                 3.0   \n",
       "1                                    NaN         NaN                 3.0   \n",
       "2                          constr type 1         NaN                 3.0   \n",
       "3                         wood frame (5)         NaN                 3.0   \n",
       "4                                    NaN         NaN                 6.0   \n",
       "\n",
       "  Neighborhoods - Analysis Boundaries  Zipcode  \\\n",
       "0                          Tenderloin  94102.0   \n",
       "1                          Tenderloin  94102.0   \n",
       "2                        Russian Hill  94109.0   \n",
       "3                            Nob Hill  94109.0   \n",
       "4                          Tenderloin  94102.0   \n",
       "\n",
       "                                    Location      Record ID  \n",
       "0  (37.785719256680785, -122.40852313194863)  1380611233945  \n",
       "1   (37.78733980600732, -122.41063199757738)  1420164406718  \n",
       "2    (37.7946573324287, -122.42232562979227)  1424856504716  \n",
       "3   (37.79595867909168, -122.41557405519474)  1443574295566  \n",
       "4   (37.78315261897309, -122.40950883997789)   144548169992  \n",
       "\n",
       "[5 rows x 43 columns]"
      ]
     },
     "execution_count": 3,
     "metadata": {},
     "output_type": "execute_result"
    }
   ],
   "source": [
    "# TODO: Your code here!\n",
    "sf_permits.head(5)"
   ]
  },
  {
   "cell_type": "markdown",
   "id": "e8dfaee4",
   "metadata": {
    "papermill": {
     "duration": 0.012047,
     "end_time": "2024-04-22T13:32:16.418236",
     "exception": false,
     "start_time": "2024-04-22T13:32:16.406189",
     "status": "completed"
    },
    "tags": []
   },
   "source": [
    "Does the dataset have any missing values?  Once you have an answer, run the code cell below to get credit for your work."
   ]
  },
  {
   "cell_type": "code",
   "execution_count": 4,
   "id": "e62e4b2b",
   "metadata": {
    "execution": {
     "iopub.execute_input": "2024-04-22T13:32:16.442547Z",
     "iopub.status.busy": "2024-04-22T13:32:16.442134Z",
     "iopub.status.idle": "2024-04-22T13:32:16.452398Z",
     "shell.execute_reply": "2024-04-22T13:32:16.451184Z"
    },
    "papermill": {
     "duration": 0.025132,
     "end_time": "2024-04-22T13:32:16.454922",
     "exception": false,
     "start_time": "2024-04-22T13:32:16.429790",
     "status": "completed"
    },
    "tags": []
   },
   "outputs": [
    {
     "data": {
      "application/javascript": [
       "parent.postMessage({\"jupyterEvent\": \"custom.exercise_interaction\", \"data\": {\"outcomeType\": 1, \"valueTowardsCompletion\": 0.16666666666666666, \"interactionType\": 1, \"questionType\": 4, \"questionId\": \"1_TakeFirstLook\", \"learnToolsVersion\": \"0.3.4\", \"failureMessage\": \"\", \"exceptionClass\": \"\", \"trace\": \"\"}}, \"*\")"
      ],
      "text/plain": [
       "<IPython.core.display.Javascript object>"
      ]
     },
     "metadata": {},
     "output_type": "display_data"
    },
    {
     "data": {
      "text/markdown": [
       "<span style=\"color:#33cc33\">Correct:</span> \n",
       "\n",
       "The first five rows of the data does show that several columns have missing values.  You can see this in the \"Street Number Suffix\", \"Proposed Construction Type\" and \"Site Permit\" columns, among others."
      ],
      "text/plain": [
       "Correct: \n",
       "\n",
       "The first five rows of the data does show that several columns have missing values.  You can see this in the \"Street Number Suffix\", \"Proposed Construction Type\" and \"Site Permit\" columns, among others."
      ]
     },
     "metadata": {},
     "output_type": "display_data"
    }
   ],
   "source": [
    "# Check your answer (Run this code cell to receive credit!)\n",
    "q1.check()"
   ]
  },
  {
   "cell_type": "code",
   "execution_count": 5,
   "id": "a672121d",
   "metadata": {
    "execution": {
     "iopub.execute_input": "2024-04-22T13:32:16.478928Z",
     "iopub.status.busy": "2024-04-22T13:32:16.478540Z",
     "iopub.status.idle": "2024-04-22T13:32:16.483706Z",
     "shell.execute_reply": "2024-04-22T13:32:16.482539Z"
    },
    "papermill": {
     "duration": 0.020413,
     "end_time": "2024-04-22T13:32:16.486590",
     "exception": false,
     "start_time": "2024-04-22T13:32:16.466177",
     "status": "completed"
    },
    "tags": []
   },
   "outputs": [],
   "source": [
    "# Line below will give you a hint\n",
    "#q1.hint()"
   ]
  },
  {
   "cell_type": "markdown",
   "id": "cc46b218",
   "metadata": {
    "papermill": {
     "duration": 0.011363,
     "end_time": "2024-04-22T13:32:16.509497",
     "exception": false,
     "start_time": "2024-04-22T13:32:16.498134",
     "status": "completed"
    },
    "tags": []
   },
   "source": [
    "# 2) How many missing data points do we have?\n",
    "\n",
    "What percentage of the values in the dataset are missing?  Your answer should be a number between 0 and 100.  (If 1/4 of the values in the dataset are missing, the answer is 25.)"
   ]
  },
  {
   "cell_type": "code",
   "execution_count": 6,
   "id": "5dce9d41",
   "metadata": {
    "execution": {
     "iopub.execute_input": "2024-04-22T13:32:16.533734Z",
     "iopub.status.busy": "2024-04-22T13:32:16.533309Z",
     "iopub.status.idle": "2024-04-22T13:32:17.027951Z",
     "shell.execute_reply": "2024-04-22T13:32:17.026752Z"
    },
    "papermill": {
     "duration": 0.509892,
     "end_time": "2024-04-22T13:32:17.030628",
     "exception": false,
     "start_time": "2024-04-22T13:32:16.520736",
     "status": "completed"
    },
    "tags": []
   },
   "outputs": [
    {
     "data": {
      "text/plain": [
       "Permit Number                                  0\n",
       "Permit Type                                    0\n",
       "Permit Type Definition                         0\n",
       "Permit Creation Date                           0\n",
       "Block                                          0\n",
       "Lot                                            0\n",
       "Street Number                                  0\n",
       "Street Number Suffix                      196684\n",
       "Street Name                                    0\n",
       "Street Suffix                               2768\n",
       "Unit                                      169421\n",
       "Unit Suffix                               196939\n",
       "Description                                  290\n",
       "Current Status                                 0\n",
       "Current Status Date                            0\n",
       "Filed Date                                     0\n",
       "Issued Date                                14940\n",
       "Completed Date                            101709\n",
       "First Construction Document Date           14946\n",
       "Structural Notification                   191978\n",
       "Number of Existing Stories                 42784\n",
       "Number of Proposed Stories                 42868\n",
       "Voluntary Soft-Story Retrofit             198865\n",
       "Fire Only Permit                          180073\n",
       "Permit Expiration Date                     51880\n",
       "Estimated Cost                             38066\n",
       "Revised Cost                                6066\n",
       "Existing Use                               41114\n",
       "Existing Units                             51538\n",
       "Proposed Use                               42439\n",
       "Proposed Units                             50911\n",
       "Plansets                                   37309\n",
       "TIDF Compliance                           198898\n",
       "Existing Construction Type                 43366\n",
       "Existing Construction Type Description     43366\n",
       "Proposed Construction Type                 43162\n",
       "Proposed Construction Type Description     43162\n",
       "Site Permit                               193541\n",
       "Supervisor District                         1717\n",
       "Neighborhoods - Analysis Boundaries         1725\n",
       "Zipcode                                     1716\n",
       "Location                                    1700\n",
       "Record ID                                      0\n",
       "dtype: int64"
      ]
     },
     "execution_count": 6,
     "metadata": {},
     "output_type": "execute_result"
    }
   ],
   "source": [
    "sf_permits.isnull().sum()"
   ]
  },
  {
   "cell_type": "code",
   "execution_count": 7,
   "id": "80c3cec3",
   "metadata": {
    "execution": {
     "iopub.execute_input": "2024-04-22T13:32:17.056300Z",
     "iopub.status.busy": "2024-04-22T13:32:17.055891Z",
     "iopub.status.idle": "2024-04-22T13:32:17.564309Z",
     "shell.execute_reply": "2024-04-22T13:32:17.563107Z"
    },
    "papermill": {
     "duration": 0.525346,
     "end_time": "2024-04-22T13:32:17.567292",
     "exception": false,
     "start_time": "2024-04-22T13:32:17.041946",
     "status": "completed"
    },
    "tags": []
   },
   "outputs": [
    {
     "data": {
      "application/javascript": [
       "parent.postMessage({\"jupyterEvent\": \"custom.exercise_interaction\", \"data\": {\"outcomeType\": 1, \"valueTowardsCompletion\": 0.16666666666666666, \"interactionType\": 1, \"questionType\": 1, \"questionId\": \"2_PercentMissingValues\", \"learnToolsVersion\": \"0.3.4\", \"failureMessage\": \"\", \"exceptionClass\": \"\", \"trace\": \"\"}}, \"*\")"
      ],
      "text/plain": [
       "<IPython.core.display.Javascript object>"
      ]
     },
     "metadata": {},
     "output_type": "display_data"
    },
    {
     "data": {
      "text/markdown": [
       "<span style=\"color:#33cc33\">Correct</span>"
      ],
      "text/plain": [
       "Correct"
      ]
     },
     "metadata": {},
     "output_type": "display_data"
    }
   ],
   "source": [
    "# TODO: Your code here!\n",
    "percent_missing = sf_permits.isnull().sum().sum() / (sf_permits.shape[0]*sf_permits.shape[1])*100\n",
    "\n",
    "# Check your answer\n",
    "q2.check()"
   ]
  },
  {
   "cell_type": "code",
   "execution_count": 8,
   "id": "bbabf3c3",
   "metadata": {
    "execution": {
     "iopub.execute_input": "2024-04-22T13:32:17.592219Z",
     "iopub.status.busy": "2024-04-22T13:32:17.591825Z",
     "iopub.status.idle": "2024-04-22T13:32:17.596392Z",
     "shell.execute_reply": "2024-04-22T13:32:17.595236Z"
    },
    "papermill": {
     "duration": 0.020136,
     "end_time": "2024-04-22T13:32:17.599112",
     "exception": false,
     "start_time": "2024-04-22T13:32:17.578976",
     "status": "completed"
    },
    "tags": []
   },
   "outputs": [],
   "source": [
    "# Lines below will give you a hint or solution code\n",
    "#q2.hint()\n",
    "#q2.solution()"
   ]
  },
  {
   "cell_type": "markdown",
   "id": "8f935fa5",
   "metadata": {
    "papermill": {
     "duration": 0.011083,
     "end_time": "2024-04-22T13:32:17.622598",
     "exception": false,
     "start_time": "2024-04-22T13:32:17.611515",
     "status": "completed"
    },
    "tags": []
   },
   "source": [
    "# 3) Figure out why the data is missing\n",
    "\n",
    "Look at the columns **\"Street Number Suffix\"** and **\"Zipcode\"** from the [San Francisco Building Permits dataset](https://www.kaggle.com/aparnashastry/building-permit-applications-data). Both of these contain missing values. \n",
    "- Which, if either, are missing because they don't exist? \n",
    "- Which, if either, are missing because they weren't recorded?  \n",
    "\n",
    "Once you have an answer, run the code cell below."
   ]
  },
  {
   "cell_type": "code",
   "execution_count": 9,
   "id": "a6d1e036",
   "metadata": {
    "execution": {
     "iopub.execute_input": "2024-04-22T13:32:17.647374Z",
     "iopub.status.busy": "2024-04-22T13:32:17.647015Z",
     "iopub.status.idle": "2024-04-22T13:32:17.656186Z",
     "shell.execute_reply": "2024-04-22T13:32:17.655000Z"
    },
    "papermill": {
     "duration": 0.024569,
     "end_time": "2024-04-22T13:32:17.658661",
     "exception": false,
     "start_time": "2024-04-22T13:32:17.634092",
     "status": "completed"
    },
    "tags": []
   },
   "outputs": [
    {
     "data": {
      "application/javascript": [
       "parent.postMessage({\"jupyterEvent\": \"custom.exercise_interaction\", \"data\": {\"outcomeType\": 1, \"valueTowardsCompletion\": 0.16666666666666666, \"interactionType\": 1, \"questionType\": 4, \"questionId\": \"3_WhyDataMissing\", \"learnToolsVersion\": \"0.3.4\", \"failureMessage\": \"\", \"exceptionClass\": \"\", \"trace\": \"\"}}, \"*\")"
      ],
      "text/plain": [
       "<IPython.core.display.Javascript object>"
      ]
     },
     "metadata": {},
     "output_type": "display_data"
    },
    {
     "data": {
      "text/markdown": [
       "<span style=\"color:#33cc33\">Correct:</span> \n",
       "\n",
       "If a value in the \"Street Number Suffix\" column is missing, it is likely because it does not exist. If a value in the \"Zipcode\" column is missing, it was not recorded."
      ],
      "text/plain": [
       "Correct: \n",
       "\n",
       "If a value in the \"Street Number Suffix\" column is missing, it is likely because it does not exist. If a value in the \"Zipcode\" column is missing, it was not recorded."
      ]
     },
     "metadata": {},
     "output_type": "display_data"
    }
   ],
   "source": [
    "# Check your answer (Run this code cell to receive credit!)\n",
    "q3.check()"
   ]
  },
  {
   "cell_type": "code",
   "execution_count": 10,
   "id": "aa180396",
   "metadata": {
    "execution": {
     "iopub.execute_input": "2024-04-22T13:32:17.684194Z",
     "iopub.status.busy": "2024-04-22T13:32:17.683822Z",
     "iopub.status.idle": "2024-04-22T13:32:17.688783Z",
     "shell.execute_reply": "2024-04-22T13:32:17.687377Z"
    },
    "papermill": {
     "duration": 0.020761,
     "end_time": "2024-04-22T13:32:17.691355",
     "exception": false,
     "start_time": "2024-04-22T13:32:17.670594",
     "status": "completed"
    },
    "tags": []
   },
   "outputs": [],
   "source": [
    "# Line below will give you a hint\n",
    "#q3.hint()"
   ]
  },
  {
   "cell_type": "markdown",
   "id": "e9d4dba6",
   "metadata": {
    "papermill": {
     "duration": 0.011507,
     "end_time": "2024-04-22T13:32:17.715417",
     "exception": false,
     "start_time": "2024-04-22T13:32:17.703910",
     "status": "completed"
    },
    "tags": []
   },
   "source": [
    "# 4) Drop missing values: rows\n",
    "\n",
    "If you removed all of the rows of `sf_permits` with missing values, how many rows are left?\n",
    "\n",
    "**Note**: Do not change the value of `sf_permits` when checking this.  "
   ]
  },
  {
   "cell_type": "code",
   "execution_count": 11,
   "id": "62950e62",
   "metadata": {
    "execution": {
     "iopub.execute_input": "2024-04-22T13:32:17.741177Z",
     "iopub.status.busy": "2024-04-22T13:32:17.740775Z",
     "iopub.status.idle": "2024-04-22T13:32:17.748594Z",
     "shell.execute_reply": "2024-04-22T13:32:17.747272Z"
    },
    "papermill": {
     "duration": 0.023706,
     "end_time": "2024-04-22T13:32:17.751003",
     "exception": false,
     "start_time": "2024-04-22T13:32:17.727297",
     "status": "completed"
    },
    "tags": []
   },
   "outputs": [
    {
     "data": {
      "text/plain": [
       "(198900, 43)"
      ]
     },
     "execution_count": 11,
     "metadata": {},
     "output_type": "execute_result"
    }
   ],
   "source": [
    "sf_permits.shape"
   ]
  },
  {
   "cell_type": "code",
   "execution_count": 12,
   "id": "199c2aea",
   "metadata": {
    "execution": {
     "iopub.execute_input": "2024-04-22T13:32:17.777849Z",
     "iopub.status.busy": "2024-04-22T13:32:17.777463Z",
     "iopub.status.idle": "2024-04-22T13:32:18.318269Z",
     "shell.execute_reply": "2024-04-22T13:32:18.316290Z"
    },
    "papermill": {
     "duration": 0.558384,
     "end_time": "2024-04-22T13:32:18.321598",
     "exception": false,
     "start_time": "2024-04-22T13:32:17.763214",
     "status": "completed"
    },
    "tags": []
   },
   "outputs": [
    {
     "data": {
      "text/html": [
       "<div>\n",
       "<style scoped>\n",
       "    .dataframe tbody tr th:only-of-type {\n",
       "        vertical-align: middle;\n",
       "    }\n",
       "\n",
       "    .dataframe tbody tr th {\n",
       "        vertical-align: top;\n",
       "    }\n",
       "\n",
       "    .dataframe thead th {\n",
       "        text-align: right;\n",
       "    }\n",
       "</style>\n",
       "<table border=\"1\" class=\"dataframe\">\n",
       "  <thead>\n",
       "    <tr style=\"text-align: right;\">\n",
       "      <th></th>\n",
       "      <th>Permit Number</th>\n",
       "      <th>Permit Type</th>\n",
       "      <th>Permit Type Definition</th>\n",
       "      <th>Permit Creation Date</th>\n",
       "      <th>Block</th>\n",
       "      <th>Lot</th>\n",
       "      <th>Street Number</th>\n",
       "      <th>Street Name</th>\n",
       "      <th>Current Status</th>\n",
       "      <th>Current Status Date</th>\n",
       "      <th>Filed Date</th>\n",
       "      <th>Record ID</th>\n",
       "    </tr>\n",
       "  </thead>\n",
       "  <tbody>\n",
       "    <tr>\n",
       "      <th>0</th>\n",
       "      <td>201505065519</td>\n",
       "      <td>4</td>\n",
       "      <td>sign - erect</td>\n",
       "      <td>05/06/2015</td>\n",
       "      <td>0326</td>\n",
       "      <td>023</td>\n",
       "      <td>140</td>\n",
       "      <td>Ellis</td>\n",
       "      <td>expired</td>\n",
       "      <td>12/21/2017</td>\n",
       "      <td>05/06/2015</td>\n",
       "      <td>1380611233945</td>\n",
       "    </tr>\n",
       "    <tr>\n",
       "      <th>1</th>\n",
       "      <td>201604195146</td>\n",
       "      <td>4</td>\n",
       "      <td>sign - erect</td>\n",
       "      <td>04/19/2016</td>\n",
       "      <td>0306</td>\n",
       "      <td>007</td>\n",
       "      <td>440</td>\n",
       "      <td>Geary</td>\n",
       "      <td>issued</td>\n",
       "      <td>08/03/2017</td>\n",
       "      <td>04/19/2016</td>\n",
       "      <td>1420164406718</td>\n",
       "    </tr>\n",
       "    <tr>\n",
       "      <th>2</th>\n",
       "      <td>201605278609</td>\n",
       "      <td>3</td>\n",
       "      <td>additions alterations or repairs</td>\n",
       "      <td>05/27/2016</td>\n",
       "      <td>0595</td>\n",
       "      <td>203</td>\n",
       "      <td>1647</td>\n",
       "      <td>Pacific</td>\n",
       "      <td>withdrawn</td>\n",
       "      <td>09/26/2017</td>\n",
       "      <td>05/27/2016</td>\n",
       "      <td>1424856504716</td>\n",
       "    </tr>\n",
       "    <tr>\n",
       "      <th>3</th>\n",
       "      <td>201611072166</td>\n",
       "      <td>8</td>\n",
       "      <td>otc alterations permit</td>\n",
       "      <td>11/07/2016</td>\n",
       "      <td>0156</td>\n",
       "      <td>011</td>\n",
       "      <td>1230</td>\n",
       "      <td>Pacific</td>\n",
       "      <td>complete</td>\n",
       "      <td>07/24/2017</td>\n",
       "      <td>11/07/2016</td>\n",
       "      <td>1443574295566</td>\n",
       "    </tr>\n",
       "    <tr>\n",
       "      <th>4</th>\n",
       "      <td>201611283529</td>\n",
       "      <td>6</td>\n",
       "      <td>demolitions</td>\n",
       "      <td>11/28/2016</td>\n",
       "      <td>0342</td>\n",
       "      <td>001</td>\n",
       "      <td>950</td>\n",
       "      <td>Market</td>\n",
       "      <td>issued</td>\n",
       "      <td>12/01/2017</td>\n",
       "      <td>11/28/2016</td>\n",
       "      <td>144548169992</td>\n",
       "    </tr>\n",
       "    <tr>\n",
       "      <th>...</th>\n",
       "      <td>...</td>\n",
       "      <td>...</td>\n",
       "      <td>...</td>\n",
       "      <td>...</td>\n",
       "      <td>...</td>\n",
       "      <td>...</td>\n",
       "      <td>...</td>\n",
       "      <td>...</td>\n",
       "      <td>...</td>\n",
       "      <td>...</td>\n",
       "      <td>...</td>\n",
       "      <td>...</td>\n",
       "    </tr>\n",
       "    <tr>\n",
       "      <th>198895</th>\n",
       "      <td>M862628</td>\n",
       "      <td>8</td>\n",
       "      <td>otc alterations permit</td>\n",
       "      <td>12/05/2017</td>\n",
       "      <td>0113</td>\n",
       "      <td>017A</td>\n",
       "      <td>1228</td>\n",
       "      <td>Montgomery</td>\n",
       "      <td>issued</td>\n",
       "      <td>12/05/2017</td>\n",
       "      <td>12/05/2017</td>\n",
       "      <td>1489337276729</td>\n",
       "    </tr>\n",
       "    <tr>\n",
       "      <th>198896</th>\n",
       "      <td>201712055595</td>\n",
       "      <td>8</td>\n",
       "      <td>otc alterations permit</td>\n",
       "      <td>12/05/2017</td>\n",
       "      <td>0271</td>\n",
       "      <td>014</td>\n",
       "      <td>580</td>\n",
       "      <td>Bush</td>\n",
       "      <td>issued</td>\n",
       "      <td>12/06/2017</td>\n",
       "      <td>12/05/2017</td>\n",
       "      <td>1489462354993</td>\n",
       "    </tr>\n",
       "    <tr>\n",
       "      <th>198897</th>\n",
       "      <td>M863507</td>\n",
       "      <td>8</td>\n",
       "      <td>otc alterations permit</td>\n",
       "      <td>12/06/2017</td>\n",
       "      <td>4318</td>\n",
       "      <td>019</td>\n",
       "      <td>1568</td>\n",
       "      <td>Indiana</td>\n",
       "      <td>issued</td>\n",
       "      <td>12/06/2017</td>\n",
       "      <td>12/06/2017</td>\n",
       "      <td>1489539379952</td>\n",
       "    </tr>\n",
       "    <tr>\n",
       "      <th>198898</th>\n",
       "      <td>M863747</td>\n",
       "      <td>8</td>\n",
       "      <td>otc alterations permit</td>\n",
       "      <td>12/06/2017</td>\n",
       "      <td>0298</td>\n",
       "      <td>029</td>\n",
       "      <td>795</td>\n",
       "      <td>Sutter</td>\n",
       "      <td>issued</td>\n",
       "      <td>12/06/2017</td>\n",
       "      <td>12/06/2017</td>\n",
       "      <td>1489608233656</td>\n",
       "    </tr>\n",
       "    <tr>\n",
       "      <th>198899</th>\n",
       "      <td>M864287</td>\n",
       "      <td>8</td>\n",
       "      <td>otc alterations permit</td>\n",
       "      <td>12/07/2017</td>\n",
       "      <td>0160</td>\n",
       "      <td>006</td>\n",
       "      <td>838</td>\n",
       "      <td>Pacific</td>\n",
       "      <td>issued</td>\n",
       "      <td>12/07/2017</td>\n",
       "      <td>12/07/2017</td>\n",
       "      <td>1489796283803</td>\n",
       "    </tr>\n",
       "  </tbody>\n",
       "</table>\n",
       "<p>198900 rows × 12 columns</p>\n",
       "</div>"
      ],
      "text/plain": [
       "       Permit Number  Permit Type            Permit Type Definition  \\\n",
       "0       201505065519            4                      sign - erect   \n",
       "1       201604195146            4                      sign - erect   \n",
       "2       201605278609            3  additions alterations or repairs   \n",
       "3       201611072166            8            otc alterations permit   \n",
       "4       201611283529            6                       demolitions   \n",
       "...              ...          ...                               ...   \n",
       "198895       M862628            8            otc alterations permit   \n",
       "198896  201712055595            8            otc alterations permit   \n",
       "198897       M863507            8            otc alterations permit   \n",
       "198898       M863747            8            otc alterations permit   \n",
       "198899       M864287            8            otc alterations permit   \n",
       "\n",
       "       Permit Creation Date Block   Lot  Street Number Street Name  \\\n",
       "0                05/06/2015  0326   023            140       Ellis   \n",
       "1                04/19/2016  0306   007            440       Geary   \n",
       "2                05/27/2016  0595   203           1647     Pacific   \n",
       "3                11/07/2016  0156   011           1230     Pacific   \n",
       "4                11/28/2016  0342   001            950      Market   \n",
       "...                     ...   ...   ...            ...         ...   \n",
       "198895           12/05/2017  0113  017A           1228  Montgomery   \n",
       "198896           12/05/2017  0271   014            580        Bush   \n",
       "198897           12/06/2017  4318   019           1568     Indiana   \n",
       "198898           12/06/2017  0298   029            795      Sutter   \n",
       "198899           12/07/2017  0160   006            838     Pacific   \n",
       "\n",
       "       Current Status Current Status Date  Filed Date      Record ID  \n",
       "0             expired          12/21/2017  05/06/2015  1380611233945  \n",
       "1              issued          08/03/2017  04/19/2016  1420164406718  \n",
       "2           withdrawn          09/26/2017  05/27/2016  1424856504716  \n",
       "3            complete          07/24/2017  11/07/2016  1443574295566  \n",
       "4              issued          12/01/2017  11/28/2016   144548169992  \n",
       "...               ...                 ...         ...            ...  \n",
       "198895         issued          12/05/2017  12/05/2017  1489337276729  \n",
       "198896         issued          12/06/2017  12/05/2017  1489462354993  \n",
       "198897         issued          12/06/2017  12/06/2017  1489539379952  \n",
       "198898         issued          12/06/2017  12/06/2017  1489608233656  \n",
       "198899         issued          12/07/2017  12/07/2017  1489796283803  \n",
       "\n",
       "[198900 rows x 12 columns]"
      ]
     },
     "execution_count": 12,
     "metadata": {},
     "output_type": "execute_result"
    }
   ],
   "source": [
    "sf_permits.dropna(axis=1)"
   ]
  },
  {
   "cell_type": "code",
   "execution_count": 13,
   "id": "651752f3",
   "metadata": {
    "execution": {
     "iopub.execute_input": "2024-04-22T13:32:18.357382Z",
     "iopub.status.busy": "2024-04-22T13:32:18.356807Z",
     "iopub.status.idle": "2024-04-22T13:32:18.889197Z",
     "shell.execute_reply": "2024-04-22T13:32:18.888046Z"
    },
    "papermill": {
     "duration": 0.551498,
     "end_time": "2024-04-22T13:32:18.891745",
     "exception": false,
     "start_time": "2024-04-22T13:32:18.340247",
     "status": "completed"
    },
    "tags": []
   },
   "outputs": [
    {
     "data": {
      "text/plain": [
       "198900"
      ]
     },
     "execution_count": 13,
     "metadata": {},
     "output_type": "execute_result"
    }
   ],
   "source": [
    "# TODO: Your code here!\n",
    "len(sf_permits.dropna(axis=1))"
   ]
  },
  {
   "cell_type": "markdown",
   "id": "3d567899",
   "metadata": {
    "papermill": {
     "duration": 0.012792,
     "end_time": "2024-04-22T13:32:18.917743",
     "exception": false,
     "start_time": "2024-04-22T13:32:18.904951",
     "status": "completed"
    },
    "tags": []
   },
   "source": [
    "Once you have an answer, run the code cell below."
   ]
  },
  {
   "cell_type": "code",
   "execution_count": 14,
   "id": "ffa7a9f5",
   "metadata": {
    "execution": {
     "iopub.execute_input": "2024-04-22T13:32:18.945321Z",
     "iopub.status.busy": "2024-04-22T13:32:18.944893Z",
     "iopub.status.idle": "2024-04-22T13:32:18.954731Z",
     "shell.execute_reply": "2024-04-22T13:32:18.953595Z"
    },
    "papermill": {
     "duration": 0.026586,
     "end_time": "2024-04-22T13:32:18.957231",
     "exception": false,
     "start_time": "2024-04-22T13:32:18.930645",
     "status": "completed"
    },
    "tags": []
   },
   "outputs": [
    {
     "data": {
      "application/javascript": [
       "parent.postMessage({\"jupyterEvent\": \"custom.exercise_interaction\", \"data\": {\"outcomeType\": 1, \"valueTowardsCompletion\": 0.16666666666666666, \"interactionType\": 1, \"questionType\": 4, \"questionId\": \"4_DropMissingRows\", \"learnToolsVersion\": \"0.3.4\", \"failureMessage\": \"\", \"exceptionClass\": \"\", \"trace\": \"\"}}, \"*\")"
      ],
      "text/plain": [
       "<IPython.core.display.Javascript object>"
      ]
     },
     "metadata": {},
     "output_type": "display_data"
    },
    {
     "data": {
      "text/markdown": [
       "<span style=\"color:#33cc33\">Correct:</span> \n",
       "\n",
       "There are no rows remaining in the dataset!"
      ],
      "text/plain": [
       "Correct: \n",
       "\n",
       "There are no rows remaining in the dataset!"
      ]
     },
     "metadata": {},
     "output_type": "display_data"
    }
   ],
   "source": [
    "# Check your answer (Run this code cell to receive credit!)\n",
    "q4.check()"
   ]
  },
  {
   "cell_type": "code",
   "execution_count": 15,
   "id": "4e6ad0bd",
   "metadata": {
    "execution": {
     "iopub.execute_input": "2024-04-22T13:32:18.985657Z",
     "iopub.status.busy": "2024-04-22T13:32:18.984812Z",
     "iopub.status.idle": "2024-04-22T13:32:18.989794Z",
     "shell.execute_reply": "2024-04-22T13:32:18.988570Z"
    },
    "papermill": {
     "duration": 0.022041,
     "end_time": "2024-04-22T13:32:18.992361",
     "exception": false,
     "start_time": "2024-04-22T13:32:18.970320",
     "status": "completed"
    },
    "tags": []
   },
   "outputs": [],
   "source": [
    "# Line below will give you a hint\n",
    "#q4.hint()"
   ]
  },
  {
   "cell_type": "markdown",
   "id": "12a9c274",
   "metadata": {
    "papermill": {
     "duration": 0.012787,
     "end_time": "2024-04-22T13:32:19.018364",
     "exception": false,
     "start_time": "2024-04-22T13:32:19.005577",
     "status": "completed"
    },
    "tags": []
   },
   "source": [
    "# 5) Drop missing values: columns\n",
    "\n",
    "Now try removing all the columns with empty values.  \n",
    "- Create a new DataFrame called `sf_permits_with_na_dropped` that has all of the columns with empty values removed.  \n",
    "- How many columns were removed from the original `sf_permits` DataFrame? Use this number to set the value of the `dropped_columns` variable below."
   ]
  },
  {
   "cell_type": "code",
   "execution_count": 16,
   "id": "f799f5b5",
   "metadata": {
    "execution": {
     "iopub.execute_input": "2024-04-22T13:32:19.046387Z",
     "iopub.status.busy": "2024-04-22T13:32:19.046004Z",
     "iopub.status.idle": "2024-04-22T13:32:19.053892Z",
     "shell.execute_reply": "2024-04-22T13:32:19.052767Z"
    },
    "papermill": {
     "duration": 0.024742,
     "end_time": "2024-04-22T13:32:19.056295",
     "exception": false,
     "start_time": "2024-04-22T13:32:19.031553",
     "status": "completed"
    },
    "tags": []
   },
   "outputs": [
    {
     "data": {
      "text/plain": [
       "Index(['Permit Number', 'Permit Type', 'Permit Type Definition',\n",
       "       'Permit Creation Date', 'Block', 'Lot', 'Street Number',\n",
       "       'Street Number Suffix', 'Street Name', 'Street Suffix', 'Unit',\n",
       "       'Unit Suffix', 'Description', 'Current Status', 'Current Status Date',\n",
       "       'Filed Date', 'Issued Date', 'Completed Date',\n",
       "       'First Construction Document Date', 'Structural Notification',\n",
       "       'Number of Existing Stories', 'Number of Proposed Stories',\n",
       "       'Voluntary Soft-Story Retrofit', 'Fire Only Permit',\n",
       "       'Permit Expiration Date', 'Estimated Cost', 'Revised Cost',\n",
       "       'Existing Use', 'Existing Units', 'Proposed Use', 'Proposed Units',\n",
       "       'Plansets', 'TIDF Compliance', 'Existing Construction Type',\n",
       "       'Existing Construction Type Description', 'Proposed Construction Type',\n",
       "       'Proposed Construction Type Description', 'Site Permit',\n",
       "       'Supervisor District', 'Neighborhoods - Analysis Boundaries', 'Zipcode',\n",
       "       'Location', 'Record ID'],\n",
       "      dtype='object')"
      ]
     },
     "execution_count": 16,
     "metadata": {},
     "output_type": "execute_result"
    }
   ],
   "source": [
    "sf_permits.columns"
   ]
  },
  {
   "cell_type": "code",
   "execution_count": 17,
   "id": "c6fe2755",
   "metadata": {
    "execution": {
     "iopub.execute_input": "2024-04-22T13:32:19.085326Z",
     "iopub.status.busy": "2024-04-22T13:32:19.084932Z",
     "iopub.status.idle": "2024-04-22T13:32:19.604958Z",
     "shell.execute_reply": "2024-04-22T13:32:19.603853Z"
    },
    "papermill": {
     "duration": 0.538387,
     "end_time": "2024-04-22T13:32:19.608000",
     "exception": false,
     "start_time": "2024-04-22T13:32:19.069613",
     "status": "completed"
    },
    "tags": []
   },
   "outputs": [
    {
     "data": {
      "application/javascript": [
       "parent.postMessage({\"jupyterEvent\": \"custom.exercise_interaction\", \"data\": {\"outcomeType\": 1, \"valueTowardsCompletion\": 0.16666666666666666, \"interactionType\": 1, \"questionType\": 1, \"questionId\": \"5_DropMissingCols\", \"learnToolsVersion\": \"0.3.4\", \"failureMessage\": \"\", \"exceptionClass\": \"\", \"trace\": \"\"}}, \"*\")"
      ],
      "text/plain": [
       "<IPython.core.display.Javascript object>"
      ]
     },
     "metadata": {},
     "output_type": "display_data"
    },
    {
     "data": {
      "text/markdown": [
       "<span style=\"color:#33cc33\">Correct</span>"
      ],
      "text/plain": [
       "Correct"
      ]
     },
     "metadata": {},
     "output_type": "display_data"
    }
   ],
   "source": [
    "# TODO: Your code here\n",
    "sf_permits_with_na_dropped = sf_permits.dropna(axis=1)\n",
    "\n",
    "dropped_columns = len(set(sf_permits.columns) -set(sf_permits_with_na_dropped.columns))\n",
    "\n",
    "# Check your answer\n",
    "q5.check()"
   ]
  },
  {
   "cell_type": "code",
   "execution_count": 18,
   "id": "63bc50fd",
   "metadata": {
    "execution": {
     "iopub.execute_input": "2024-04-22T13:32:19.639183Z",
     "iopub.status.busy": "2024-04-22T13:32:19.638811Z",
     "iopub.status.idle": "2024-04-22T13:32:19.645052Z",
     "shell.execute_reply": "2024-04-22T13:32:19.643743Z"
    },
    "papermill": {
     "duration": 0.02457,
     "end_time": "2024-04-22T13:32:19.647670",
     "exception": false,
     "start_time": "2024-04-22T13:32:19.623100",
     "status": "completed"
    },
    "tags": []
   },
   "outputs": [],
   "source": [
    "# Lines below will give you a hint or solution code\n",
    "#q5.hint()\n",
    "#q5.solution()"
   ]
  },
  {
   "cell_type": "markdown",
   "id": "737b27b6",
   "metadata": {
    "papermill": {
     "duration": 0.014033,
     "end_time": "2024-04-22T13:32:19.675712",
     "exception": false,
     "start_time": "2024-04-22T13:32:19.661679",
     "status": "completed"
    },
    "tags": []
   },
   "source": [
    "# 6) Fill in missing values automatically\n",
    "\n",
    "Try replacing all the NaN's in the `sf_permits` data with the one that comes directly after it and then replacing any remaining NaN's with 0.  Set the result to a new DataFrame `sf_permits_with_na_imputed`."
   ]
  },
  {
   "cell_type": "code",
   "execution_count": 19,
   "id": "575cacc7",
   "metadata": {
    "execution": {
     "iopub.execute_input": "2024-04-22T13:32:19.705877Z",
     "iopub.status.busy": "2024-04-22T13:32:19.705481Z",
     "iopub.status.idle": "2024-04-22T13:32:23.270184Z",
     "shell.execute_reply": "2024-04-22T13:32:23.269063Z"
    },
    "papermill": {
     "duration": 3.582435,
     "end_time": "2024-04-22T13:32:23.272743",
     "exception": false,
     "start_time": "2024-04-22T13:32:19.690308",
     "status": "completed"
    },
    "tags": []
   },
   "outputs": [
    {
     "name": "stderr",
     "output_type": "stream",
     "text": [
      "/tmp/ipykernel_18/67066035.py:2: FutureWarning: DataFrame.fillna with 'method' is deprecated and will raise in a future version. Use obj.ffill() or obj.bfill() instead.\n",
      "  sf_permits_with_na_imputed = sf_permits.fillna(method='bfill',axis=0).fillna(0)\n"
     ]
    },
    {
     "data": {
      "application/javascript": [
       "parent.postMessage({\"jupyterEvent\": \"custom.exercise_interaction\", \"data\": {\"outcomeType\": 1, \"valueTowardsCompletion\": 0.16666666666666666, \"interactionType\": 1, \"questionType\": 1, \"questionId\": \"6_ImputeAutomatically\", \"learnToolsVersion\": \"0.3.4\", \"failureMessage\": \"\", \"exceptionClass\": \"\", \"trace\": \"\"}}, \"*\")"
      ],
      "text/plain": [
       "<IPython.core.display.Javascript object>"
      ]
     },
     "metadata": {},
     "output_type": "display_data"
    },
    {
     "data": {
      "text/markdown": [
       "<span style=\"color:#33cc33\">Correct</span>"
      ],
      "text/plain": [
       "Correct"
      ]
     },
     "metadata": {},
     "output_type": "display_data"
    }
   ],
   "source": [
    "# TODO: Your code here\n",
    "sf_permits_with_na_imputed = sf_permits.fillna(method='bfill',axis=0).fillna(0)\n",
    "\n",
    "# Check your answer\n",
    "q6.check()"
   ]
  },
  {
   "cell_type": "code",
   "execution_count": 20,
   "id": "ba9bd706",
   "metadata": {
    "execution": {
     "iopub.execute_input": "2024-04-22T13:32:23.302779Z",
     "iopub.status.busy": "2024-04-22T13:32:23.302356Z",
     "iopub.status.idle": "2024-04-22T13:32:23.307658Z",
     "shell.execute_reply": "2024-04-22T13:32:23.306196Z"
    },
    "papermill": {
     "duration": 0.023307,
     "end_time": "2024-04-22T13:32:23.310221",
     "exception": false,
     "start_time": "2024-04-22T13:32:23.286914",
     "status": "completed"
    },
    "tags": []
   },
   "outputs": [],
   "source": [
    "# Lines below will give you a hint or solution code\n",
    "#q6.hint()\n",
    "#q6.solution()"
   ]
  },
  {
   "cell_type": "markdown",
   "id": "e0ac0347",
   "metadata": {
    "papermill": {
     "duration": 0.013811,
     "end_time": "2024-04-22T13:32:23.338384",
     "exception": false,
     "start_time": "2024-04-22T13:32:23.324573",
     "status": "completed"
    },
    "tags": []
   },
   "source": [
    "# More practice\n",
    "\n",
    "If you're looking for more practice handling missing values:\n",
    "\n",
    "* Check out [this noteboook](https://www.kaggle.com/alexisbcook/missing-values) on handling missing values using scikit-learn's imputer. \n",
    "* Look back at the \"Zipcode\" column in the `sf_permits` dataset, which has some missing values. How would you go about figuring out what the actual zipcode of each address should be? (You might try using another dataset. You can search for datasets about San Fransisco on the [Datasets listing](https://www.kaggle.com/datasets).) \n",
    "\n",
    "# Keep going\n",
    "\n",
    "In the next lesson, learn how to [**apply scaling and normalization**](https://www.kaggle.com/alexisbcook/scaling-and-normalization) to transform your data."
   ]
  },
  {
   "cell_type": "markdown",
   "id": "5eac133f",
   "metadata": {
    "papermill": {
     "duration": 0.014072,
     "end_time": "2024-04-22T13:32:23.369237",
     "exception": false,
     "start_time": "2024-04-22T13:32:23.355165",
     "status": "completed"
    },
    "tags": []
   },
   "source": [
    "---\n",
    "\n",
    "\n",
    "\n",
    "\n",
    "*Have questions or comments? Visit the [course discussion forum](https://www.kaggle.com/learn/data-cleaning/discussion) to chat with other learners.*"
   ]
  }
 ],
 "metadata": {
  "kaggle": {
   "accelerator": "none",
   "dataSources": [
    {
     "datasetId": 16432,
     "sourceId": 21688,
     "sourceType": "datasetVersion"
    }
   ],
   "isGpuEnabled": false,
   "isInternetEnabled": false,
   "language": "python",
   "sourceType": "notebook"
  },
  "kernelspec": {
   "display_name": "Python 3",
   "language": "python",
   "name": "python3"
  },
  "language_info": {
   "codemirror_mode": {
    "name": "ipython",
    "version": 3
   },
   "file_extension": ".py",
   "mimetype": "text/x-python",
   "name": "python",
   "nbconvert_exporter": "python",
   "pygments_lexer": "ipython3",
   "version": "3.10.13"
  },
  "papermill": {
   "default_parameters": {},
   "duration": 22.839755,
   "end_time": "2024-04-22T13:32:24.108987",
   "environment_variables": {},
   "exception": null,
   "input_path": "__notebook__.ipynb",
   "output_path": "__notebook__.ipynb",
   "parameters": {},
   "start_time": "2024-04-22T13:32:01.269232",
   "version": "2.5.0"
  }
 },
 "nbformat": 4,
 "nbformat_minor": 5
}
