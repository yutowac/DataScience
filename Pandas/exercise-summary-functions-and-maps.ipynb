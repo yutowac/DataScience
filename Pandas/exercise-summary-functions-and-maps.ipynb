{
 "cells": [
  {
   "cell_type": "markdown",
   "id": "3abb6751",
   "metadata": {
    "papermill": {
     "duration": 0.008579,
     "end_time": "2023-12-11T14:58:32.618618",
     "exception": false,
     "start_time": "2023-12-11T14:58:32.610039",
     "status": "completed"
    },
    "tags": []
   },
   "source": [
    "**This notebook is an exercise in the [Pandas](https://www.kaggle.com/learn/pandas) course.  You can reference the tutorial at [this link](https://www.kaggle.com/residentmario/summary-functions-and-maps).**\n",
    "\n",
    "---\n"
   ]
  },
  {
   "cell_type": "markdown",
   "id": "d303ac0d",
   "metadata": {
    "papermill": {
     "duration": 0.005633,
     "end_time": "2023-12-11T14:58:32.630437",
     "exception": false,
     "start_time": "2023-12-11T14:58:32.624804",
     "status": "completed"
    },
    "tags": []
   },
   "source": [
    "# Introduction\n",
    "\n",
    "Now you are ready to get a deeper understanding of your data.\n",
    "\n",
    "Run the following cell to load your data and some utility functions (including code to check your answers)."
   ]
  },
  {
   "cell_type": "code",
   "execution_count": 1,
   "id": "a2b5d991",
   "metadata": {
    "execution": {
     "iopub.execute_input": "2023-12-11T14:58:32.643927Z",
     "iopub.status.busy": "2023-12-11T14:58:32.643539Z",
     "iopub.status.idle": "2023-12-11T14:58:39.696258Z",
     "shell.execute_reply": "2023-12-11T14:58:39.695206Z"
    },
    "papermill": {
     "duration": 7.062925,
     "end_time": "2023-12-11T14:58:39.699217",
     "exception": false,
     "start_time": "2023-12-11T14:58:32.636292",
     "status": "completed"
    },
    "tags": []
   },
   "outputs": [
    {
     "name": "stdout",
     "output_type": "stream",
     "text": [
      "Setup complete.\n"
     ]
    },
    {
     "data": {
      "text/html": [
       "<div>\n",
       "<style scoped>\n",
       "    .dataframe tbody tr th:only-of-type {\n",
       "        vertical-align: middle;\n",
       "    }\n",
       "\n",
       "    .dataframe tbody tr th {\n",
       "        vertical-align: top;\n",
       "    }\n",
       "\n",
       "    .dataframe thead th {\n",
       "        text-align: right;\n",
       "    }\n",
       "</style>\n",
       "<table border=\"1\" class=\"dataframe\">\n",
       "  <thead>\n",
       "    <tr style=\"text-align: right;\">\n",
       "      <th></th>\n",
       "      <th>country</th>\n",
       "      <th>description</th>\n",
       "      <th>designation</th>\n",
       "      <th>points</th>\n",
       "      <th>price</th>\n",
       "      <th>province</th>\n",
       "      <th>region_1</th>\n",
       "      <th>region_2</th>\n",
       "      <th>taster_name</th>\n",
       "      <th>taster_twitter_handle</th>\n",
       "      <th>title</th>\n",
       "      <th>variety</th>\n",
       "      <th>winery</th>\n",
       "    </tr>\n",
       "  </thead>\n",
       "  <tbody>\n",
       "    <tr>\n",
       "      <th>0</th>\n",
       "      <td>Italy</td>\n",
       "      <td>Aromas include tropical fruit, broom, brimston...</td>\n",
       "      <td>Vulkà Bianco</td>\n",
       "      <td>87</td>\n",
       "      <td>NaN</td>\n",
       "      <td>Sicily &amp; Sardinia</td>\n",
       "      <td>Etna</td>\n",
       "      <td>NaN</td>\n",
       "      <td>Kerin O’Keefe</td>\n",
       "      <td>@kerinokeefe</td>\n",
       "      <td>Nicosia 2013 Vulkà Bianco  (Etna)</td>\n",
       "      <td>White Blend</td>\n",
       "      <td>Nicosia</td>\n",
       "    </tr>\n",
       "    <tr>\n",
       "      <th>1</th>\n",
       "      <td>Portugal</td>\n",
       "      <td>This is ripe and fruity, a wine that is smooth...</td>\n",
       "      <td>Avidagos</td>\n",
       "      <td>87</td>\n",
       "      <td>15.0</td>\n",
       "      <td>Douro</td>\n",
       "      <td>NaN</td>\n",
       "      <td>NaN</td>\n",
       "      <td>Roger Voss</td>\n",
       "      <td>@vossroger</td>\n",
       "      <td>Quinta dos Avidagos 2011 Avidagos Red (Douro)</td>\n",
       "      <td>Portuguese Red</td>\n",
       "      <td>Quinta dos Avidagos</td>\n",
       "    </tr>\n",
       "    <tr>\n",
       "      <th>2</th>\n",
       "      <td>US</td>\n",
       "      <td>Tart and snappy, the flavors of lime flesh and...</td>\n",
       "      <td>NaN</td>\n",
       "      <td>87</td>\n",
       "      <td>14.0</td>\n",
       "      <td>Oregon</td>\n",
       "      <td>Willamette Valley</td>\n",
       "      <td>Willamette Valley</td>\n",
       "      <td>Paul Gregutt</td>\n",
       "      <td>@paulgwine</td>\n",
       "      <td>Rainstorm 2013 Pinot Gris (Willamette Valley)</td>\n",
       "      <td>Pinot Gris</td>\n",
       "      <td>Rainstorm</td>\n",
       "    </tr>\n",
       "    <tr>\n",
       "      <th>3</th>\n",
       "      <td>US</td>\n",
       "      <td>Pineapple rind, lemon pith and orange blossom ...</td>\n",
       "      <td>Reserve Late Harvest</td>\n",
       "      <td>87</td>\n",
       "      <td>13.0</td>\n",
       "      <td>Michigan</td>\n",
       "      <td>Lake Michigan Shore</td>\n",
       "      <td>NaN</td>\n",
       "      <td>Alexander Peartree</td>\n",
       "      <td>NaN</td>\n",
       "      <td>St. Julian 2013 Reserve Late Harvest Riesling ...</td>\n",
       "      <td>Riesling</td>\n",
       "      <td>St. Julian</td>\n",
       "    </tr>\n",
       "    <tr>\n",
       "      <th>4</th>\n",
       "      <td>US</td>\n",
       "      <td>Much like the regular bottling from 2012, this...</td>\n",
       "      <td>Vintner's Reserve Wild Child Block</td>\n",
       "      <td>87</td>\n",
       "      <td>65.0</td>\n",
       "      <td>Oregon</td>\n",
       "      <td>Willamette Valley</td>\n",
       "      <td>Willamette Valley</td>\n",
       "      <td>Paul Gregutt</td>\n",
       "      <td>@paulgwine</td>\n",
       "      <td>Sweet Cheeks 2012 Vintner's Reserve Wild Child...</td>\n",
       "      <td>Pinot Noir</td>\n",
       "      <td>Sweet Cheeks</td>\n",
       "    </tr>\n",
       "  </tbody>\n",
       "</table>\n",
       "</div>"
      ],
      "text/plain": [
       "    country                                        description  \\\n",
       "0     Italy  Aromas include tropical fruit, broom, brimston...   \n",
       "1  Portugal  This is ripe and fruity, a wine that is smooth...   \n",
       "2        US  Tart and snappy, the flavors of lime flesh and...   \n",
       "3        US  Pineapple rind, lemon pith and orange blossom ...   \n",
       "4        US  Much like the regular bottling from 2012, this...   \n",
       "\n",
       "                          designation  points  price           province  \\\n",
       "0                        Vulkà Bianco      87    NaN  Sicily & Sardinia   \n",
       "1                            Avidagos      87   15.0              Douro   \n",
       "2                                 NaN      87   14.0             Oregon   \n",
       "3                Reserve Late Harvest      87   13.0           Michigan   \n",
       "4  Vintner's Reserve Wild Child Block      87   65.0             Oregon   \n",
       "\n",
       "              region_1           region_2         taster_name  \\\n",
       "0                 Etna                NaN       Kerin O’Keefe   \n",
       "1                  NaN                NaN          Roger Voss   \n",
       "2    Willamette Valley  Willamette Valley        Paul Gregutt   \n",
       "3  Lake Michigan Shore                NaN  Alexander Peartree   \n",
       "4    Willamette Valley  Willamette Valley        Paul Gregutt   \n",
       "\n",
       "  taster_twitter_handle                                              title  \\\n",
       "0          @kerinokeefe                  Nicosia 2013 Vulkà Bianco  (Etna)   \n",
       "1            @vossroger      Quinta dos Avidagos 2011 Avidagos Red (Douro)   \n",
       "2           @paulgwine       Rainstorm 2013 Pinot Gris (Willamette Valley)   \n",
       "3                   NaN  St. Julian 2013 Reserve Late Harvest Riesling ...   \n",
       "4           @paulgwine   Sweet Cheeks 2012 Vintner's Reserve Wild Child...   \n",
       "\n",
       "          variety               winery  \n",
       "0     White Blend              Nicosia  \n",
       "1  Portuguese Red  Quinta dos Avidagos  \n",
       "2      Pinot Gris            Rainstorm  \n",
       "3        Riesling           St. Julian  \n",
       "4      Pinot Noir         Sweet Cheeks  "
      ]
     },
     "execution_count": 1,
     "metadata": {},
     "output_type": "execute_result"
    }
   ],
   "source": [
    "import pandas as pd\n",
    "pd.set_option(\"display.max_rows\", 5)\n",
    "reviews = pd.read_csv(\"../input/wine-reviews/winemag-data-130k-v2.csv\", index_col=0)\n",
    "\n",
    "from learntools.core import binder; binder.bind(globals())\n",
    "from learntools.pandas.summary_functions_and_maps import *\n",
    "print(\"Setup complete.\")\n",
    "\n",
    "reviews.head()"
   ]
  },
  {
   "cell_type": "markdown",
   "id": "8ecb9395",
   "metadata": {
    "papermill": {
     "duration": 0.006501,
     "end_time": "2023-12-11T14:58:39.712616",
     "exception": false,
     "start_time": "2023-12-11T14:58:39.706115",
     "status": "completed"
    },
    "tags": []
   },
   "source": [
    "# Exercises"
   ]
  },
  {
   "cell_type": "markdown",
   "id": "2ebe3a3f",
   "metadata": {
    "papermill": {
     "duration": 0.006357,
     "end_time": "2023-12-11T14:58:39.725792",
     "exception": false,
     "start_time": "2023-12-11T14:58:39.719435",
     "status": "completed"
    },
    "tags": []
   },
   "source": [
    "## 1.\n",
    "\n",
    "What is the median of the `points` column in the `reviews` DataFrame?"
   ]
  },
  {
   "cell_type": "code",
   "execution_count": 2,
   "id": "22ca53b1",
   "metadata": {
    "execution": {
     "iopub.execute_input": "2023-12-11T14:58:39.740686Z",
     "iopub.status.busy": "2023-12-11T14:58:39.740283Z",
     "iopub.status.idle": "2023-12-11T14:58:39.751839Z",
     "shell.execute_reply": "2023-12-11T14:58:39.750536Z"
    },
    "papermill": {
     "duration": 0.021939,
     "end_time": "2023-12-11T14:58:39.754296",
     "exception": false,
     "start_time": "2023-12-11T14:58:39.732357",
     "status": "completed"
    },
    "tags": []
   },
   "outputs": [
    {
     "data": {
      "application/javascript": [
       "parent.postMessage({\"jupyterEvent\": \"custom.exercise_interaction\", \"data\": {\"outcomeType\": 1, \"valueTowardsCompletion\": 0.14285714285714285, \"interactionType\": 1, \"questionType\": 1, \"questionId\": \"1_MedianPoints\", \"learnToolsVersion\": \"0.3.4\", \"failureMessage\": \"\", \"exceptionClass\": \"\", \"trace\": \"\"}}, \"*\")"
      ],
      "text/plain": [
       "<IPython.core.display.Javascript object>"
      ]
     },
     "metadata": {},
     "output_type": "display_data"
    },
    {
     "data": {
      "text/markdown": [
       "<span style=\"color:#33cc33\">Correct</span>"
      ],
      "text/plain": [
       "Correct"
      ]
     },
     "metadata": {},
     "output_type": "display_data"
    }
   ],
   "source": [
    "median_points = reviews.points.median()\n",
    "\n",
    "# Check your answer\n",
    "q1.check()"
   ]
  },
  {
   "cell_type": "code",
   "execution_count": 3,
   "id": "653fabbc",
   "metadata": {
    "execution": {
     "iopub.execute_input": "2023-12-11T14:58:39.770819Z",
     "iopub.status.busy": "2023-12-11T14:58:39.769805Z",
     "iopub.status.idle": "2023-12-11T14:58:39.774575Z",
     "shell.execute_reply": "2023-12-11T14:58:39.773411Z"
    },
    "papermill": {
     "duration": 0.015618,
     "end_time": "2023-12-11T14:58:39.776932",
     "exception": false,
     "start_time": "2023-12-11T14:58:39.761314",
     "status": "completed"
    },
    "tags": []
   },
   "outputs": [],
   "source": [
    "#q1.hint()\n",
    "#q1.solution()"
   ]
  },
  {
   "cell_type": "markdown",
   "id": "92ae761c",
   "metadata": {
    "papermill": {
     "duration": 0.007342,
     "end_time": "2023-12-11T14:58:39.791374",
     "exception": false,
     "start_time": "2023-12-11T14:58:39.784032",
     "status": "completed"
    },
    "tags": []
   },
   "source": [
    "## 2. \n",
    "What countries are represented in the dataset? (Your answer should not include any duplicates.)"
   ]
  },
  {
   "cell_type": "code",
   "execution_count": 4,
   "id": "1372ca51",
   "metadata": {
    "execution": {
     "iopub.execute_input": "2023-12-11T14:58:39.807046Z",
     "iopub.status.busy": "2023-12-11T14:58:39.806683Z",
     "iopub.status.idle": "2023-12-11T14:58:39.822313Z",
     "shell.execute_reply": "2023-12-11T14:58:39.821127Z"
    },
    "papermill": {
     "duration": 0.026311,
     "end_time": "2023-12-11T14:58:39.824721",
     "exception": false,
     "start_time": "2023-12-11T14:58:39.798410",
     "status": "completed"
    },
    "tags": []
   },
   "outputs": [
    {
     "data": {
      "application/javascript": [
       "parent.postMessage({\"jupyterEvent\": \"custom.exercise_interaction\", \"data\": {\"outcomeType\": 1, \"valueTowardsCompletion\": 0.14285714285714285, \"interactionType\": 1, \"questionType\": 2, \"questionId\": \"2_UniqueCountries\", \"learnToolsVersion\": \"0.3.4\", \"failureMessage\": \"\", \"exceptionClass\": \"\", \"trace\": \"\"}}, \"*\")"
      ],
      "text/plain": [
       "<IPython.core.display.Javascript object>"
      ]
     },
     "metadata": {},
     "output_type": "display_data"
    },
    {
     "data": {
      "text/markdown": [
       "<span style=\"color:#33cc33\">Correct</span>"
      ],
      "text/plain": [
       "Correct"
      ]
     },
     "metadata": {},
     "output_type": "display_data"
    }
   ],
   "source": [
    "countries = reviews.country.unique()\n",
    "\n",
    "# Check your answer\n",
    "q2.check()"
   ]
  },
  {
   "cell_type": "code",
   "execution_count": 5,
   "id": "fec57ef9",
   "metadata": {
    "execution": {
     "iopub.execute_input": "2023-12-11T14:58:39.841614Z",
     "iopub.status.busy": "2023-12-11T14:58:39.840247Z",
     "iopub.status.idle": "2023-12-11T14:58:39.845352Z",
     "shell.execute_reply": "2023-12-11T14:58:39.844303Z"
    },
    "papermill": {
     "duration": 0.015869,
     "end_time": "2023-12-11T14:58:39.847791",
     "exception": false,
     "start_time": "2023-12-11T14:58:39.831922",
     "status": "completed"
    },
    "tags": []
   },
   "outputs": [],
   "source": [
    "#q2.hint()\n",
    "#q2.solution()"
   ]
  },
  {
   "cell_type": "markdown",
   "id": "d2ec706d",
   "metadata": {
    "papermill": {
     "duration": 0.007422,
     "end_time": "2023-12-11T14:58:39.862519",
     "exception": false,
     "start_time": "2023-12-11T14:58:39.855097",
     "status": "completed"
    },
    "tags": []
   },
   "source": [
    "## 3.\n",
    "How often does each country appear in the dataset? Create a Series `reviews_per_country` mapping countries to the count of reviews of wines from that country."
   ]
  },
  {
   "cell_type": "code",
   "execution_count": 6,
   "id": "df1527ec",
   "metadata": {
    "execution": {
     "iopub.execute_input": "2023-12-11T14:58:39.878793Z",
     "iopub.status.busy": "2023-12-11T14:58:39.878381Z",
     "iopub.status.idle": "2023-12-11T14:58:39.896881Z",
     "shell.execute_reply": "2023-12-11T14:58:39.895947Z"
    },
    "papermill": {
     "duration": 0.029813,
     "end_time": "2023-12-11T14:58:39.899610",
     "exception": false,
     "start_time": "2023-12-11T14:58:39.869797",
     "status": "completed"
    },
    "tags": []
   },
   "outputs": [
    {
     "data": {
      "application/javascript": [
       "parent.postMessage({\"jupyterEvent\": \"custom.exercise_interaction\", \"data\": {\"outcomeType\": 1, \"valueTowardsCompletion\": 0.14285714285714285, \"interactionType\": 1, \"questionType\": 1, \"questionId\": \"3_ReviewsPerCountry\", \"learnToolsVersion\": \"0.3.4\", \"failureMessage\": \"\", \"exceptionClass\": \"\", \"trace\": \"\"}}, \"*\")"
      ],
      "text/plain": [
       "<IPython.core.display.Javascript object>"
      ]
     },
     "metadata": {},
     "output_type": "display_data"
    },
    {
     "data": {
      "text/markdown": [
       "<span style=\"color:#33cc33\">Correct</span>"
      ],
      "text/plain": [
       "Correct"
      ]
     },
     "metadata": {},
     "output_type": "display_data"
    }
   ],
   "source": [
    "reviews_per_country = reviews.country.value_counts()\n",
    "\n",
    "# Check your answer\n",
    "q3.check()"
   ]
  },
  {
   "cell_type": "code",
   "execution_count": 7,
   "id": "a886afbc",
   "metadata": {
    "execution": {
     "iopub.execute_input": "2023-12-11T14:58:39.920749Z",
     "iopub.status.busy": "2023-12-11T14:58:39.920164Z",
     "iopub.status.idle": "2023-12-11T14:58:39.927276Z",
     "shell.execute_reply": "2023-12-11T14:58:39.926252Z"
    },
    "papermill": {
     "duration": 0.020489,
     "end_time": "2023-12-11T14:58:39.930245",
     "exception": false,
     "start_time": "2023-12-11T14:58:39.909756",
     "status": "completed"
    },
    "tags": []
   },
   "outputs": [],
   "source": [
    "# q3.hint()\n",
    "# q3.solution()"
   ]
  },
  {
   "cell_type": "markdown",
   "id": "70f67daf",
   "metadata": {
    "papermill": {
     "duration": 0.007731,
     "end_time": "2023-12-11T14:58:39.945781",
     "exception": false,
     "start_time": "2023-12-11T14:58:39.938050",
     "status": "completed"
    },
    "tags": []
   },
   "source": [
    "## 4.\n",
    "Create variable `centered_price` containing a version of the `price` column with the mean price subtracted.\n",
    "\n",
    "(Note: this 'centering' transformation is a common preprocessing step before applying various machine learning algorithms.) "
   ]
  },
  {
   "cell_type": "code",
   "execution_count": 8,
   "id": "640b8bab",
   "metadata": {
    "execution": {
     "iopub.execute_input": "2023-12-11T14:58:39.963358Z",
     "iopub.status.busy": "2023-12-11T14:58:39.962777Z",
     "iopub.status.idle": "2023-12-11T14:58:39.981104Z",
     "shell.execute_reply": "2023-12-11T14:58:39.979940Z"
    },
    "papermill": {
     "duration": 0.030345,
     "end_time": "2023-12-11T14:58:39.983640",
     "exception": false,
     "start_time": "2023-12-11T14:58:39.953295",
     "status": "completed"
    },
    "tags": []
   },
   "outputs": [
    {
     "data": {
      "application/javascript": [
       "parent.postMessage({\"jupyterEvent\": \"custom.exercise_interaction\", \"data\": {\"outcomeType\": 1, \"valueTowardsCompletion\": 0.14285714285714285, \"interactionType\": 1, \"questionType\": 1, \"questionId\": \"4_CenteredPrice\", \"learnToolsVersion\": \"0.3.4\", \"failureMessage\": \"\", \"exceptionClass\": \"\", \"trace\": \"\"}}, \"*\")"
      ],
      "text/plain": [
       "<IPython.core.display.Javascript object>"
      ]
     },
     "metadata": {},
     "output_type": "display_data"
    },
    {
     "data": {
      "text/markdown": [
       "<span style=\"color:#33cc33\">Correct</span>"
      ],
      "text/plain": [
       "Correct"
      ]
     },
     "metadata": {},
     "output_type": "display_data"
    }
   ],
   "source": [
    "centered_price = reviews.price - reviews.price.mean()\n",
    "\n",
    "# Check your answer\n",
    "q4.check()"
   ]
  },
  {
   "cell_type": "code",
   "execution_count": 9,
   "id": "3490383d",
   "metadata": {
    "execution": {
     "iopub.execute_input": "2023-12-11T14:58:40.002504Z",
     "iopub.status.busy": "2023-12-11T14:58:40.001449Z",
     "iopub.status.idle": "2023-12-11T14:58:40.005829Z",
     "shell.execute_reply": "2023-12-11T14:58:40.004905Z"
    },
    "papermill": {
     "duration": 0.01615,
     "end_time": "2023-12-11T14:58:40.008102",
     "exception": false,
     "start_time": "2023-12-11T14:58:39.991952",
     "status": "completed"
    },
    "tags": []
   },
   "outputs": [],
   "source": [
    "# q4.hint()\n",
    "# q4.solution()"
   ]
  },
  {
   "cell_type": "markdown",
   "id": "bd4ef0b6",
   "metadata": {
    "papermill": {
     "duration": 0.007218,
     "end_time": "2023-12-11T14:58:40.023197",
     "exception": false,
     "start_time": "2023-12-11T14:58:40.015979",
     "status": "completed"
    },
    "tags": []
   },
   "source": [
    "## 5.\n",
    "I'm an economical wine buyer. Which wine is the \"best bargain\"? Create a variable `bargain_wine` with the title of the wine with the highest points-to-price ratio in the dataset."
   ]
  },
  {
   "cell_type": "code",
   "execution_count": 10,
   "id": "fb7881c3",
   "metadata": {
    "execution": {
     "iopub.execute_input": "2023-12-11T14:58:40.040627Z",
     "iopub.status.busy": "2023-12-11T14:58:40.039946Z",
     "iopub.status.idle": "2023-12-11T14:58:40.055798Z",
     "shell.execute_reply": "2023-12-11T14:58:40.054705Z"
    },
    "papermill": {
     "duration": 0.027513,
     "end_time": "2023-12-11T14:58:40.058226",
     "exception": false,
     "start_time": "2023-12-11T14:58:40.030713",
     "status": "completed"
    },
    "tags": []
   },
   "outputs": [
    {
     "data": {
      "application/javascript": [
       "parent.postMessage({\"jupyterEvent\": \"custom.exercise_interaction\", \"data\": {\"outcomeType\": 1, \"valueTowardsCompletion\": 0.14285714285714285, \"interactionType\": 1, \"questionType\": 2, \"questionId\": \"5_BargainWine\", \"learnToolsVersion\": \"0.3.4\", \"failureMessage\": \"\", \"exceptionClass\": \"\", \"trace\": \"\"}}, \"*\")"
      ],
      "text/plain": [
       "<IPython.core.display.Javascript object>"
      ]
     },
     "metadata": {},
     "output_type": "display_data"
    },
    {
     "data": {
      "text/markdown": [
       "<span style=\"color:#33cc33\">Correct</span>"
      ],
      "text/plain": [
       "Correct"
      ]
     },
     "metadata": {},
     "output_type": "display_data"
    }
   ],
   "source": [
    "bargain_wine = reviews.loc[(reviews.points / reviews.price).idxmax(),'title']\n",
    "\n",
    "# Check your answer\n",
    "q5.check()"
   ]
  },
  {
   "cell_type": "code",
   "execution_count": 11,
   "id": "68a72fbd",
   "metadata": {
    "execution": {
     "iopub.execute_input": "2023-12-11T14:58:40.077505Z",
     "iopub.status.busy": "2023-12-11T14:58:40.076785Z",
     "iopub.status.idle": "2023-12-11T14:58:40.081418Z",
     "shell.execute_reply": "2023-12-11T14:58:40.080574Z"
    },
    "papermill": {
     "duration": 0.017611,
     "end_time": "2023-12-11T14:58:40.083911",
     "exception": false,
     "start_time": "2023-12-11T14:58:40.066300",
     "status": "completed"
    },
    "tags": []
   },
   "outputs": [],
   "source": [
    "#q5.hint()\n",
    "# q5.solution()"
   ]
  },
  {
   "cell_type": "markdown",
   "id": "08bc21a3",
   "metadata": {
    "papermill": {
     "duration": 0.007602,
     "end_time": "2023-12-11T14:58:40.100468",
     "exception": false,
     "start_time": "2023-12-11T14:58:40.092866",
     "status": "completed"
    },
    "tags": []
   },
   "source": [
    "## 6.\n",
    "There are only so many words you can use when describing a bottle of wine. Is a wine more likely to be \"tropical\" or \"fruity\"? Create a Series `descriptor_counts` counting how many times each of these two words appears in the `description` column in the dataset. (For simplicity, let's ignore the capitalized versions of these words.)"
   ]
  },
  {
   "cell_type": "code",
   "execution_count": 12,
   "id": "744293e2",
   "metadata": {
    "execution": {
     "iopub.execute_input": "2023-12-11T14:58:40.118413Z",
     "iopub.status.busy": "2023-12-11T14:58:40.117753Z",
     "iopub.status.idle": "2023-12-11T14:58:40.126915Z",
     "shell.execute_reply": "2023-12-11T14:58:40.125777Z"
    },
    "papermill": {
     "duration": 0.020968,
     "end_time": "2023-12-11T14:58:40.129240",
     "exception": false,
     "start_time": "2023-12-11T14:58:40.108272",
     "status": "completed"
    },
    "tags": []
   },
   "outputs": [
    {
     "data": {
      "application/javascript": [
       "parent.postMessage({\"jupyterEvent\": \"custom.exercise_interaction\", \"data\": {\"outcomeType\": 4, \"interactionType\": 1, \"questionType\": 1, \"questionId\": \"6_DescriptorCounts\", \"learnToolsVersion\": \"0.3.4\", \"valueTowardsCompletion\": 0.0, \"failureMessage\": \"\", \"exceptionClass\": \"\", \"trace\": \"\"}}, \"*\")"
      ],
      "text/plain": [
       "<IPython.core.display.Javascript object>"
      ]
     },
     "metadata": {},
     "output_type": "display_data"
    },
    {
     "data": {
      "text/markdown": [
       "<span style=\"color:#ccaa33\">Check:</span> When you've updated the starter code, `check()` will tell you whether your code is correct. You need to update the code that creates variable `descriptor_counts`"
      ],
      "text/plain": [
       "Check: When you've updated the starter code, `check()` will tell you whether your code is correct. You need to update the code that creates variable `descriptor_counts`"
      ]
     },
     "metadata": {},
     "output_type": "display_data"
    }
   ],
   "source": [
    "descriptor_counts = ____\n",
    "\n",
    "# Check your answer\n",
    "q6.check()"
   ]
  },
  {
   "cell_type": "code",
   "execution_count": 13,
   "id": "a75a9ff7",
   "metadata": {
    "execution": {
     "iopub.execute_input": "2023-12-11T14:58:40.147904Z",
     "iopub.status.busy": "2023-12-11T14:58:40.147083Z",
     "iopub.status.idle": "2023-12-11T14:58:40.152065Z",
     "shell.execute_reply": "2023-12-11T14:58:40.150850Z"
    },
    "papermill": {
     "duration": 0.017007,
     "end_time": "2023-12-11T14:58:40.154415",
     "exception": false,
     "start_time": "2023-12-11T14:58:40.137408",
     "status": "completed"
    },
    "tags": []
   },
   "outputs": [],
   "source": [
    "#q6.hint()\n",
    "#q6.solution()"
   ]
  },
  {
   "cell_type": "markdown",
   "id": "89d7346f",
   "metadata": {
    "papermill": {
     "duration": 0.007827,
     "end_time": "2023-12-11T14:58:40.170568",
     "exception": false,
     "start_time": "2023-12-11T14:58:40.162741",
     "status": "completed"
    },
    "tags": []
   },
   "source": [
    "## 7.\n",
    "We'd like to host these wine reviews on our website, but a rating system ranging from 80 to 100 points is too hard to understand - we'd like to translate them into simple star ratings. A score of 95 or higher counts as 3 stars, a score of at least 85 but less than 95 is 2 stars. Any other score is 1 star.\n",
    "\n",
    "Also, the Canadian Vintners Association bought a lot of ads on the site, so any wines from Canada should automatically get 3 stars, regardless of points.\n",
    "\n",
    "Create a series `star_ratings` with the number of stars corresponding to each review in the dataset."
   ]
  },
  {
   "cell_type": "code",
   "execution_count": 14,
   "id": "e6c35b3e",
   "metadata": {
    "execution": {
     "iopub.execute_input": "2023-12-11T14:58:40.188428Z",
     "iopub.status.busy": "2023-12-11T14:58:40.188027Z",
     "iopub.status.idle": "2023-12-11T14:58:40.196950Z",
     "shell.execute_reply": "2023-12-11T14:58:40.195560Z"
    },
    "papermill": {
     "duration": 0.020857,
     "end_time": "2023-12-11T14:58:40.199387",
     "exception": false,
     "start_time": "2023-12-11T14:58:40.178530",
     "status": "completed"
    },
    "tags": []
   },
   "outputs": [
    {
     "data": {
      "application/javascript": [
       "parent.postMessage({\"jupyterEvent\": \"custom.exercise_interaction\", \"data\": {\"outcomeType\": 4, \"interactionType\": 1, \"questionType\": 1, \"questionId\": \"7_StarRatings\", \"learnToolsVersion\": \"0.3.4\", \"valueTowardsCompletion\": 0.0, \"failureMessage\": \"\", \"exceptionClass\": \"\", \"trace\": \"\"}}, \"*\")"
      ],
      "text/plain": [
       "<IPython.core.display.Javascript object>"
      ]
     },
     "metadata": {},
     "output_type": "display_data"
    },
    {
     "data": {
      "text/markdown": [
       "<span style=\"color:#ccaa33\">Check:</span> When you've updated the starter code, `check()` will tell you whether your code is correct. You need to update the code that creates variable `star_ratings`"
      ],
      "text/plain": [
       "Check: When you've updated the starter code, `check()` will tell you whether your code is correct. You need to update the code that creates variable `star_ratings`"
      ]
     },
     "metadata": {},
     "output_type": "display_data"
    }
   ],
   "source": [
    "star_ratings = ____\n",
    "\n",
    "# Check your answer\n",
    "q7.check()"
   ]
  },
  {
   "cell_type": "code",
   "execution_count": 15,
   "id": "47774e0a",
   "metadata": {
    "execution": {
     "iopub.execute_input": "2023-12-11T14:58:40.218637Z",
     "iopub.status.busy": "2023-12-11T14:58:40.218164Z",
     "iopub.status.idle": "2023-12-11T14:58:40.223257Z",
     "shell.execute_reply": "2023-12-11T14:58:40.222088Z"
    },
    "papermill": {
     "duration": 0.017591,
     "end_time": "2023-12-11T14:58:40.225590",
     "exception": false,
     "start_time": "2023-12-11T14:58:40.207999",
     "status": "completed"
    },
    "tags": []
   },
   "outputs": [],
   "source": [
    "#q7.hint()\n",
    "#q7.solution()"
   ]
  },
  {
   "cell_type": "markdown",
   "id": "e70a457e",
   "metadata": {
    "papermill": {
     "duration": 0.008881,
     "end_time": "2023-12-11T14:58:40.243039",
     "exception": false,
     "start_time": "2023-12-11T14:58:40.234158",
     "status": "completed"
    },
    "tags": []
   },
   "source": [
    "# Keep going\n",
    "Continue to **[grouping and sorting](https://www.kaggle.com/residentmario/grouping-and-sorting)**."
   ]
  },
  {
   "cell_type": "markdown",
   "id": "a6a2f5c6",
   "metadata": {
    "papermill": {
     "duration": 0.008111,
     "end_time": "2023-12-11T14:58:40.259944",
     "exception": false,
     "start_time": "2023-12-11T14:58:40.251833",
     "status": "completed"
    },
    "tags": []
   },
   "source": [
    "---\n",
    "\n",
    "\n",
    "\n",
    "\n",
    "*Have questions or comments? Visit the [course discussion forum](https://www.kaggle.com/learn/pandas/discussion) to chat with other learners.*"
   ]
  }
 ],
 "metadata": {
  "kaggle": {
   "accelerator": "none",
   "dataSources": [
    {
     "datasetId": 655,
     "sourceId": 1252,
     "sourceType": "datasetVersion"
    },
    {
     "datasetId": 2321,
     "sourceId": 3919,
     "sourceType": "datasetVersion"
    },
    {
     "datasetId": 2894,
     "sourceId": 4877,
     "sourceType": "datasetVersion"
    },
    {
     "datasetId": 3491,
     "sourceId": 5624,
     "sourceType": "datasetVersion"
    },
    {
     "datasetId": 1442,
     "sourceId": 8172,
     "sourceType": "datasetVersion"
    },
    {
     "datasetId": 9366,
     "sourceId": 13206,
     "sourceType": "datasetVersion"
    },
    {
     "datasetId": 179555,
     "sourceId": 403916,
     "sourceType": "datasetVersion"
    },
    {
     "datasetId": 4549,
     "sourceId": 466349,
     "sourceType": "datasetVersion"
    },
    {
     "datasetId": 2478,
     "sourceId": 1151655,
     "sourceType": "datasetVersion"
    },
    {
     "datasetId": 10128,
     "sourceId": 5438389,
     "sourceType": "datasetVersion"
    }
   ],
   "isGpuEnabled": false,
   "isInternetEnabled": false,
   "language": "python",
   "sourceType": "notebook"
  },
  "kernelspec": {
   "display_name": "Python 3",
   "language": "python",
   "name": "python3"
  },
  "language_info": {
   "codemirror_mode": {
    "name": "ipython",
    "version": 3
   },
   "file_extension": ".py",
   "mimetype": "text/x-python",
   "name": "python",
   "nbconvert_exporter": "python",
   "pygments_lexer": "ipython3",
   "version": "3.10.12"
  },
  "papermill": {
   "default_parameters": {},
   "duration": 11.545903,
   "end_time": "2023-12-11T14:58:40.992238",
   "environment_variables": {},
   "exception": null,
   "input_path": "__notebook__.ipynb",
   "output_path": "__notebook__.ipynb",
   "parameters": {},
   "start_time": "2023-12-11T14:58:29.446335",
   "version": "2.4.0"
  }
 },
 "nbformat": 4,
 "nbformat_minor": 5
}
