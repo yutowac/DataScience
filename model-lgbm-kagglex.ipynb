{
 "cells": [
  {
   "cell_type": "code",
   "execution_count": 1,
   "id": "79210fe1",
   "metadata": {
    "execution": {
     "iopub.execute_input": "2024-06-23T12:50:48.137088Z",
     "iopub.status.busy": "2024-06-23T12:50:48.136651Z",
     "iopub.status.idle": "2024-06-23T12:50:52.282148Z",
     "shell.execute_reply": "2024-06-23T12:50:52.280952Z"
    },
    "papermill": {
     "duration": 4.153904,
     "end_time": "2024-06-23T12:50:52.284929",
     "exception": false,
     "start_time": "2024-06-23T12:50:48.131025",
     "status": "completed"
    },
    "tags": []
   },
   "outputs": [],
   "source": [
    "\n",
    "import numpy as np\n",
    "import os\n",
    "import gc\n",
    "import pandas as pd\n",
    "import polars as pl\n",
    "from glob import glob\n",
    "from pathlib import Path\n",
    "from datetime import datetime\n",
    "import matplotlib.pyplot as plt\n",
    "import seaborn as sns\n",
    "from sklearn.compose import ColumnTransformer\n",
    "from sklearn.preprocessing import OneHotEncoder\n",
    "from sklearn.preprocessing import MinMaxScaler\n",
    "from sklearn.preprocessing import RobustScaler\n",
    "from sklearn.base import BaseEstimator, RegressorMixin\n",
    "from sklearn.metrics import roc_auc_score\n",
    "from sklearn.pipeline import Pipeline\n",
    "from sklearn.model_selection import train_test_split\n",
    "from sklearn.impute import SimpleImputer\n",
    "\n",
    "\n",
    "import warnings\n",
    "warnings.simplefilter(action='ignore', category=FutureWarning)\n",
    "import optuna\n",
    "from sklearn.model_selection import cross_validate\n",
    "from lightgbm import LGBMRegressor\n",
    "from sklearn.decomposition import PCA\n",
    "from sklearn.model_selection import train_test_split\n",
    "from sklearn.metrics import r2_score\n",
    "from sklearn.model_selection import KFold"
   ]
  },
  {
   "cell_type": "code",
   "execution_count": 2,
   "id": "4afdc908",
   "metadata": {
    "execution": {
     "iopub.execute_input": "2024-06-23T12:50:52.294391Z",
     "iopub.status.busy": "2024-06-23T12:50:52.293835Z",
     "iopub.status.idle": "2024-06-23T12:50:52.746164Z",
     "shell.execute_reply": "2024-06-23T12:50:52.744912Z"
    },
    "papermill": {
     "duration": 0.459938,
     "end_time": "2024-06-23T12:50:52.748912",
     "exception": false,
     "start_time": "2024-06-23T12:50:52.288974",
     "status": "completed"
    },
    "tags": []
   },
   "outputs": [],
   "source": [
    "train_data = pd.read_csv('/kaggle/input/x2024-assessment/train.csv')\n",
    "test_data = pd.read_csv('/kaggle/input/x2024-assessment/test.csv')\n",
    "sub_data = pd.read_csv('/kaggle/input/x2024-assessment/sample_submission.csv')"
   ]
  },
  {
   "cell_type": "code",
   "execution_count": 3,
   "id": "b0bfcee3",
   "metadata": {
    "execution": {
     "iopub.execute_input": "2024-06-23T12:50:52.758211Z",
     "iopub.status.busy": "2024-06-23T12:50:52.757827Z",
     "iopub.status.idle": "2024-06-23T12:50:52.810971Z",
     "shell.execute_reply": "2024-06-23T12:50:52.809830Z"
    },
    "papermill": {
     "duration": 0.060663,
     "end_time": "2024-06-23T12:50:52.813482",
     "exception": false,
     "start_time": "2024-06-23T12:50:52.752819",
     "status": "completed"
    },
    "tags": []
   },
   "outputs": [
    {
     "name": "stdout",
     "output_type": "stream",
     "text": [
      "<class 'pandas.core.frame.DataFrame'>\n",
      "RangeIndex: 54273 entries, 0 to 54272\n",
      "Data columns (total 13 columns):\n",
      " #   Column        Non-Null Count  Dtype \n",
      "---  ------        --------------  ----- \n",
      " 0   id            54273 non-null  int64 \n",
      " 1   brand         54273 non-null  object\n",
      " 2   model         54273 non-null  object\n",
      " 3   model_year    54273 non-null  int64 \n",
      " 4   milage        54273 non-null  int64 \n",
      " 5   fuel_type     54273 non-null  object\n",
      " 6   engine        54273 non-null  object\n",
      " 7   transmission  54273 non-null  object\n",
      " 8   ext_col       54273 non-null  object\n",
      " 9   int_col       54273 non-null  object\n",
      " 10  accident      54273 non-null  object\n",
      " 11  clean_title   54273 non-null  object\n",
      " 12  price         54273 non-null  int64 \n",
      "dtypes: int64(4), object(9)\n",
      "memory usage: 5.4+ MB\n"
     ]
    }
   ],
   "source": [
    "train_data.info()"
   ]
  },
  {
   "cell_type": "code",
   "execution_count": 4,
   "id": "46916a18",
   "metadata": {
    "execution": {
     "iopub.execute_input": "2024-06-23T12:50:52.822864Z",
     "iopub.status.busy": "2024-06-23T12:50:52.822492Z",
     "iopub.status.idle": "2024-06-23T12:50:52.838393Z",
     "shell.execute_reply": "2024-06-23T12:50:52.837423Z"
    },
    "papermill": {
     "duration": 0.023502,
     "end_time": "2024-06-23T12:50:52.841047",
     "exception": false,
     "start_time": "2024-06-23T12:50:52.817545",
     "status": "completed"
    },
    "tags": []
   },
   "outputs": [],
   "source": [
    "train_df = train_data.drop(['id', 'price'], axis=1)\n",
    "target_df = train_data['price']\n",
    "test_df = test_data.drop(['id'], axis=1)"
   ]
  },
  {
   "cell_type": "code",
   "execution_count": 5,
   "id": "619147ae",
   "metadata": {
    "execution": {
     "iopub.execute_input": "2024-06-23T12:50:52.850496Z",
     "iopub.status.busy": "2024-06-23T12:50:52.850091Z",
     "iopub.status.idle": "2024-06-23T12:50:52.953175Z",
     "shell.execute_reply": "2024-06-23T12:50:52.951930Z"
    },
    "papermill": {
     "duration": 0.110591,
     "end_time": "2024-06-23T12:50:52.955556",
     "exception": false,
     "start_time": "2024-06-23T12:50:52.844965",
     "status": "completed"
    },
    "tags": []
   },
   "outputs": [
    {
     "data": {
      "text/html": [
       "<style>#sk-container-id-1 {color: black;background-color: white;}#sk-container-id-1 pre{padding: 0;}#sk-container-id-1 div.sk-toggleable {background-color: white;}#sk-container-id-1 label.sk-toggleable__label {cursor: pointer;display: block;width: 100%;margin-bottom: 0;padding: 0.3em;box-sizing: border-box;text-align: center;}#sk-container-id-1 label.sk-toggleable__label-arrow:before {content: \"▸\";float: left;margin-right: 0.25em;color: #696969;}#sk-container-id-1 label.sk-toggleable__label-arrow:hover:before {color: black;}#sk-container-id-1 div.sk-estimator:hover label.sk-toggleable__label-arrow:before {color: black;}#sk-container-id-1 div.sk-toggleable__content {max-height: 0;max-width: 0;overflow: hidden;text-align: left;background-color: #f0f8ff;}#sk-container-id-1 div.sk-toggleable__content pre {margin: 0.2em;color: black;border-radius: 0.25em;background-color: #f0f8ff;}#sk-container-id-1 input.sk-toggleable__control:checked~div.sk-toggleable__content {max-height: 200px;max-width: 100%;overflow: auto;}#sk-container-id-1 input.sk-toggleable__control:checked~label.sk-toggleable__label-arrow:before {content: \"▾\";}#sk-container-id-1 div.sk-estimator input.sk-toggleable__control:checked~label.sk-toggleable__label {background-color: #d4ebff;}#sk-container-id-1 div.sk-label input.sk-toggleable__control:checked~label.sk-toggleable__label {background-color: #d4ebff;}#sk-container-id-1 input.sk-hidden--visually {border: 0;clip: rect(1px 1px 1px 1px);clip: rect(1px, 1px, 1px, 1px);height: 1px;margin: -1px;overflow: hidden;padding: 0;position: absolute;width: 1px;}#sk-container-id-1 div.sk-estimator {font-family: monospace;background-color: #f0f8ff;border: 1px dotted black;border-radius: 0.25em;box-sizing: border-box;margin-bottom: 0.5em;}#sk-container-id-1 div.sk-estimator:hover {background-color: #d4ebff;}#sk-container-id-1 div.sk-parallel-item::after {content: \"\";width: 100%;border-bottom: 1px solid gray;flex-grow: 1;}#sk-container-id-1 div.sk-label:hover label.sk-toggleable__label {background-color: #d4ebff;}#sk-container-id-1 div.sk-serial::before {content: \"\";position: absolute;border-left: 1px solid gray;box-sizing: border-box;top: 0;bottom: 0;left: 50%;z-index: 0;}#sk-container-id-1 div.sk-serial {display: flex;flex-direction: column;align-items: center;background-color: white;padding-right: 0.2em;padding-left: 0.2em;position: relative;}#sk-container-id-1 div.sk-item {position: relative;z-index: 1;}#sk-container-id-1 div.sk-parallel {display: flex;align-items: stretch;justify-content: center;background-color: white;position: relative;}#sk-container-id-1 div.sk-item::before, #sk-container-id-1 div.sk-parallel-item::before {content: \"\";position: absolute;border-left: 1px solid gray;box-sizing: border-box;top: 0;bottom: 0;left: 50%;z-index: -1;}#sk-container-id-1 div.sk-parallel-item {display: flex;flex-direction: column;z-index: 1;position: relative;background-color: white;}#sk-container-id-1 div.sk-parallel-item:first-child::after {align-self: flex-end;width: 50%;}#sk-container-id-1 div.sk-parallel-item:last-child::after {align-self: flex-start;width: 50%;}#sk-container-id-1 div.sk-parallel-item:only-child::after {width: 0;}#sk-container-id-1 div.sk-dashed-wrapped {border: 1px dashed gray;margin: 0 0.4em 0.5em 0.4em;box-sizing: border-box;padding-bottom: 0.4em;background-color: white;}#sk-container-id-1 div.sk-label label {font-family: monospace;font-weight: bold;display: inline-block;line-height: 1.2em;}#sk-container-id-1 div.sk-label-container {text-align: center;}#sk-container-id-1 div.sk-container {/* jupyter's `normalize.less` sets `[hidden] { display: none; }` but bootstrap.min.css set `[hidden] { display: none !important; }` so we also need the `!important` here to be able to override the default hidden behavior on the sphinx rendered scikit-learn.org. See: https://github.com/scikit-learn/scikit-learn/issues/21755 */display: inline-block !important;position: relative;}#sk-container-id-1 div.sk-text-repr-fallback {display: none;}</style><div id=\"sk-container-id-1\" class=\"sk-top-container\"><div class=\"sk-text-repr-fallback\"><pre>Pipeline(steps=[(&#x27;col_trans&#x27;,\n",
       "                 ColumnTransformer(n_jobs=-1,\n",
       "                                   transformers=[(&#x27;num_pipeline&#x27;,\n",
       "                                                  Pipeline(steps=[(&#x27;impute&#x27;,\n",
       "                                                                   SimpleImputer()),\n",
       "                                                                  (&#x27;scale&#x27;,\n",
       "                                                                   MinMaxScaler())]),\n",
       "                                                  array([&#x27;model_year&#x27;, &#x27;milage&#x27;], dtype=object)),\n",
       "                                                 (&#x27;cat_pipeline&#x27;,\n",
       "                                                  Pipeline(steps=[(&#x27;imputer&#x27;,\n",
       "                                                                   SimpleImputer(strategy=&#x27;most_frequent&#x27;)),\n",
       "                                                                  (&#x27;encoder&#x27;,\n",
       "                                                                   OneHotEncoder(handle_unknown=&#x27;ignore&#x27;,\n",
       "                                                                                 sparse=False))],\n",
       "                                                           verbose=True),\n",
       "                                                  array([&#x27;brand&#x27;, &#x27;model&#x27;, &#x27;fuel_type&#x27;, &#x27;engine&#x27;, &#x27;transmission&#x27;, &#x27;ext_col&#x27;,\n",
       "       &#x27;int_col&#x27;, &#x27;accident&#x27;, &#x27;clean_title&#x27;], dtype=object))])),\n",
       "                (&#x27;model&#x27;,\n",
       "                 LGBMRegressor(learning_rate=0.05, max_depth=12, metrics=&#x27;rmse&#x27;,\n",
       "                               n_estimators=70000, num_leaves=512,\n",
       "                               objective=&#x27;regression&#x27;, random_state=1234,\n",
       "                               verbosity=-1))])</pre><b>In a Jupyter environment, please rerun this cell to show the HTML representation or trust the notebook. <br />On GitHub, the HTML representation is unable to render, please try loading this page with nbviewer.org.</b></div><div class=\"sk-container\" hidden><div class=\"sk-item sk-dashed-wrapped\"><div class=\"sk-label-container\"><div class=\"sk-label sk-toggleable\"><input class=\"sk-toggleable__control sk-hidden--visually\" id=\"sk-estimator-id-1\" type=\"checkbox\" ><label for=\"sk-estimator-id-1\" class=\"sk-toggleable__label sk-toggleable__label-arrow\">Pipeline</label><div class=\"sk-toggleable__content\"><pre>Pipeline(steps=[(&#x27;col_trans&#x27;,\n",
       "                 ColumnTransformer(n_jobs=-1,\n",
       "                                   transformers=[(&#x27;num_pipeline&#x27;,\n",
       "                                                  Pipeline(steps=[(&#x27;impute&#x27;,\n",
       "                                                                   SimpleImputer()),\n",
       "                                                                  (&#x27;scale&#x27;,\n",
       "                                                                   MinMaxScaler())]),\n",
       "                                                  array([&#x27;model_year&#x27;, &#x27;milage&#x27;], dtype=object)),\n",
       "                                                 (&#x27;cat_pipeline&#x27;,\n",
       "                                                  Pipeline(steps=[(&#x27;imputer&#x27;,\n",
       "                                                                   SimpleImputer(strategy=&#x27;most_frequent&#x27;)),\n",
       "                                                                  (&#x27;encoder&#x27;,\n",
       "                                                                   OneHotEncoder(handle_unknown=&#x27;ignore&#x27;,\n",
       "                                                                                 sparse=False))],\n",
       "                                                           verbose=True),\n",
       "                                                  array([&#x27;brand&#x27;, &#x27;model&#x27;, &#x27;fuel_type&#x27;, &#x27;engine&#x27;, &#x27;transmission&#x27;, &#x27;ext_col&#x27;,\n",
       "       &#x27;int_col&#x27;, &#x27;accident&#x27;, &#x27;clean_title&#x27;], dtype=object))])),\n",
       "                (&#x27;model&#x27;,\n",
       "                 LGBMRegressor(learning_rate=0.05, max_depth=12, metrics=&#x27;rmse&#x27;,\n",
       "                               n_estimators=70000, num_leaves=512,\n",
       "                               objective=&#x27;regression&#x27;, random_state=1234,\n",
       "                               verbosity=-1))])</pre></div></div></div><div class=\"sk-serial\"><div class=\"sk-item sk-dashed-wrapped\"><div class=\"sk-label-container\"><div class=\"sk-label sk-toggleable\"><input class=\"sk-toggleable__control sk-hidden--visually\" id=\"sk-estimator-id-2\" type=\"checkbox\" ><label for=\"sk-estimator-id-2\" class=\"sk-toggleable__label sk-toggleable__label-arrow\">col_trans: ColumnTransformer</label><div class=\"sk-toggleable__content\"><pre>ColumnTransformer(n_jobs=-1,\n",
       "                  transformers=[(&#x27;num_pipeline&#x27;,\n",
       "                                 Pipeline(steps=[(&#x27;impute&#x27;, SimpleImputer()),\n",
       "                                                 (&#x27;scale&#x27;, MinMaxScaler())]),\n",
       "                                 array([&#x27;model_year&#x27;, &#x27;milage&#x27;], dtype=object)),\n",
       "                                (&#x27;cat_pipeline&#x27;,\n",
       "                                 Pipeline(steps=[(&#x27;imputer&#x27;,\n",
       "                                                  SimpleImputer(strategy=&#x27;most_frequent&#x27;)),\n",
       "                                                 (&#x27;encoder&#x27;,\n",
       "                                                  OneHotEncoder(handle_unknown=&#x27;ignore&#x27;,\n",
       "                                                                sparse=False))],\n",
       "                                          verbose=True),\n",
       "                                 array([&#x27;brand&#x27;, &#x27;model&#x27;, &#x27;fuel_type&#x27;, &#x27;engine&#x27;, &#x27;transmission&#x27;, &#x27;ext_col&#x27;,\n",
       "       &#x27;int_col&#x27;, &#x27;accident&#x27;, &#x27;clean_title&#x27;], dtype=object))])</pre></div></div></div><div class=\"sk-parallel\"><div class=\"sk-parallel-item\"><div class=\"sk-item\"><div class=\"sk-label-container\"><div class=\"sk-label sk-toggleable\"><input class=\"sk-toggleable__control sk-hidden--visually\" id=\"sk-estimator-id-3\" type=\"checkbox\" ><label for=\"sk-estimator-id-3\" class=\"sk-toggleable__label sk-toggleable__label-arrow\">num_pipeline</label><div class=\"sk-toggleable__content\"><pre>[&#x27;model_year&#x27; &#x27;milage&#x27;]</pre></div></div></div><div class=\"sk-serial\"><div class=\"sk-item\"><div class=\"sk-serial\"><div class=\"sk-item\"><div class=\"sk-estimator sk-toggleable\"><input class=\"sk-toggleable__control sk-hidden--visually\" id=\"sk-estimator-id-4\" type=\"checkbox\" ><label for=\"sk-estimator-id-4\" class=\"sk-toggleable__label sk-toggleable__label-arrow\">SimpleImputer</label><div class=\"sk-toggleable__content\"><pre>SimpleImputer()</pre></div></div></div><div class=\"sk-item\"><div class=\"sk-estimator sk-toggleable\"><input class=\"sk-toggleable__control sk-hidden--visually\" id=\"sk-estimator-id-5\" type=\"checkbox\" ><label for=\"sk-estimator-id-5\" class=\"sk-toggleable__label sk-toggleable__label-arrow\">MinMaxScaler</label><div class=\"sk-toggleable__content\"><pre>MinMaxScaler()</pre></div></div></div></div></div></div></div></div><div class=\"sk-parallel-item\"><div class=\"sk-item\"><div class=\"sk-label-container\"><div class=\"sk-label sk-toggleable\"><input class=\"sk-toggleable__control sk-hidden--visually\" id=\"sk-estimator-id-6\" type=\"checkbox\" ><label for=\"sk-estimator-id-6\" class=\"sk-toggleable__label sk-toggleable__label-arrow\">cat_pipeline</label><div class=\"sk-toggleable__content\"><pre>[&#x27;brand&#x27; &#x27;model&#x27; &#x27;fuel_type&#x27; &#x27;engine&#x27; &#x27;transmission&#x27; &#x27;ext_col&#x27; &#x27;int_col&#x27;\n",
       " &#x27;accident&#x27; &#x27;clean_title&#x27;]</pre></div></div></div><div class=\"sk-serial\"><div class=\"sk-item\"><div class=\"sk-serial\"><div class=\"sk-item\"><div class=\"sk-estimator sk-toggleable\"><input class=\"sk-toggleable__control sk-hidden--visually\" id=\"sk-estimator-id-7\" type=\"checkbox\" ><label for=\"sk-estimator-id-7\" class=\"sk-toggleable__label sk-toggleable__label-arrow\">SimpleImputer</label><div class=\"sk-toggleable__content\"><pre>SimpleImputer(strategy=&#x27;most_frequent&#x27;)</pre></div></div></div><div class=\"sk-item\"><div class=\"sk-estimator sk-toggleable\"><input class=\"sk-toggleable__control sk-hidden--visually\" id=\"sk-estimator-id-8\" type=\"checkbox\" ><label for=\"sk-estimator-id-8\" class=\"sk-toggleable__label sk-toggleable__label-arrow\">OneHotEncoder</label><div class=\"sk-toggleable__content\"><pre>OneHotEncoder(handle_unknown=&#x27;ignore&#x27;, sparse=False)</pre></div></div></div></div></div></div></div></div></div></div><div class=\"sk-item\"><div class=\"sk-estimator sk-toggleable\"><input class=\"sk-toggleable__control sk-hidden--visually\" id=\"sk-estimator-id-9\" type=\"checkbox\" ><label for=\"sk-estimator-id-9\" class=\"sk-toggleable__label sk-toggleable__label-arrow\">LGBMRegressor</label><div class=\"sk-toggleable__content\"><pre>LGBMRegressor(learning_rate=0.05, max_depth=12, metrics=&#x27;rmse&#x27;,\n",
       "              n_estimators=70000, num_leaves=512, objective=&#x27;regression&#x27;,\n",
       "              random_state=1234, verbosity=-1)</pre></div></div></div></div></div></div></div>"
      ],
      "text/plain": [
       "Pipeline(steps=[('col_trans',\n",
       "                 ColumnTransformer(n_jobs=-1,\n",
       "                                   transformers=[('num_pipeline',\n",
       "                                                  Pipeline(steps=[('impute',\n",
       "                                                                   SimpleImputer()),\n",
       "                                                                  ('scale',\n",
       "                                                                   MinMaxScaler())]),\n",
       "                                                  array(['model_year', 'milage'], dtype=object)),\n",
       "                                                 ('cat_pipeline',\n",
       "                                                  Pipeline(steps=[('imputer',\n",
       "                                                                   SimpleImputer(strategy='most_frequent')),\n",
       "                                                                  ('encoder',\n",
       "                                                                   OneHotEncoder(handle_unknown='ignore',\n",
       "                                                                                 sparse=False))],\n",
       "                                                           verbose=True),\n",
       "                                                  array(['brand', 'model', 'fuel_type', 'engine', 'transmission', 'ext_col',\n",
       "       'int_col', 'accident', 'clean_title'], dtype=object))])),\n",
       "                ('model',\n",
       "                 LGBMRegressor(learning_rate=0.05, max_depth=12, metrics='rmse',\n",
       "                               n_estimators=70000, num_leaves=512,\n",
       "                               objective='regression', random_state=1234,\n",
       "                               verbosity=-1))])"
      ]
     },
     "execution_count": 5,
     "metadata": {},
     "output_type": "execute_result"
    }
   ],
   "source": [
    "\n",
    "n_cols = train_df.loc[:,train_df.dtypes=='int'].columns\n",
    "c_cols = train_df.loc[:,train_df.dtypes=='object'].columns\n",
    "\n",
    "num_pipeline = Pipeline(\n",
    "    steps=[\n",
    "        ('impute', SimpleImputer(strategy='mean')),\n",
    "        ('scale',MinMaxScaler())\n",
    "    ]\n",
    ")\n",
    "\n",
    "cat_pipeline = Pipeline(\n",
    "    steps=[\n",
    "        ('imputer', SimpleImputer(strategy='most_frequent')),\n",
    "        ('encoder', OneHotEncoder(handle_unknown='ignore',sparse=False))\n",
    "    ],\n",
    "    verbose=True\n",
    ")\n",
    "\n",
    "ct = ColumnTransformer(\n",
    "    transformers=[\n",
    "        ('num_pipeline',num_pipeline,np.array(n_cols)),\n",
    "        ('cat_pipeline',cat_pipeline,np.array(c_cols))\n",
    "    ],\n",
    "remainder='drop',n_jobs=-1)\n",
    "\n",
    "clf = LGBMRegressor(objective='regression',\n",
    "                    metrics = 'rmse',\n",
    "                    num_leaves=512,\n",
    "                    max_depth=12,\n",
    "                    n_estimators=70000,\n",
    "                    learning_rate=0.05,\n",
    "                    verbosity=-1,\n",
    "                    random_state=1234)\n",
    "parallel_pipeline = Pipeline(\n",
    "    steps=[\n",
    "        ('col_trans',ct),\n",
    "        ('model', clf)\n",
    "    ]\n",
    ")\n",
    "\n",
    "parallel_pipeline"
   ]
  },
  {
   "cell_type": "code",
   "execution_count": 6,
   "id": "3f4d0b41",
   "metadata": {
    "execution": {
     "iopub.execute_input": "2024-06-23T12:50:52.965768Z",
     "iopub.status.busy": "2024-06-23T12:50:52.965406Z",
     "iopub.status.idle": "2024-06-23T12:50:52.983234Z",
     "shell.execute_reply": "2024-06-23T12:50:52.982116Z"
    },
    "papermill": {
     "duration": 0.025819,
     "end_time": "2024-06-23T12:50:52.985645",
     "exception": false,
     "start_time": "2024-06-23T12:50:52.959826",
     "status": "completed"
    },
    "tags": []
   },
   "outputs": [
    {
     "data": {
      "text/plain": [
       "(         brand                             model  model_year  milage  \\\n",
       " 0         Ford                      F-150 Lariat        2018   74349   \n",
       " 1          BMW                             335 i        2007   80000   \n",
       " 2       Jaguar                         XF Luxury        2009   91491   \n",
       " 3          BMW                      X7 xDrive40i        2022    2437   \n",
       " 4      Pontiac                     Firebird Base        2001  111000   \n",
       " ...        ...                               ...         ...     ...   \n",
       " 54268      BMW                      X6 xDrive50i        2017   29000   \n",
       " 54269     Audi                   A4 2.0T Premium        2015   94634   \n",
       " 54270  Porsche                         Cayenne S        2013   40989   \n",
       " 54271  Porsche                 911 Carrera 4 GTS        2023    1518   \n",
       " 54272     Audi  A5 Sportback S line Premium Plus        2021   35000   \n",
       " \n",
       "            fuel_type                                             engine  \\\n",
       " 0           Gasoline      375.0HP 3.5L V6 Cylinder Engine Gasoline Fuel   \n",
       " 1           Gasoline  300.0HP 3.0L Straight 6 Cylinder Engine Gasoli...   \n",
       " 2           Gasoline       300.0HP 4.2L 8 Cylinder Engine Gasoline Fuel   \n",
       " 3             Hybrid  335.0HP 3.0L Straight 6 Cylinder Engine Gasoli...   \n",
       " 4           Gasoline      200.0HP 3.8L V6 Cylinder Engine Gasoline Fuel   \n",
       " ...              ...                                                ...   \n",
       " 54268       Gasoline       445.0HP 4.4L 8 Cylinder Engine Gasoline Fuel   \n",
       " 54269  E85 Flex Fuel  220.0HP 2.0L 4 Cylinder Engine Flex Fuel Capab...   \n",
       " 54270       Gasoline      420.0HP 3.6L V6 Cylinder Engine Gasoline Fuel   \n",
       " 54271       Gasoline                               4.0L H6 24V GDI DOHC   \n",
       " 54272         Hybrid  261.0HP 2.0L 4 Cylinder Engine Gasoline/Mild E...   \n",
       " \n",
       "                             transmission ext_col int_col  \\\n",
       " 0                           10-Speed A/T    Blue    Gray   \n",
       " 1                            6-Speed M/T   Black   Black   \n",
       " 2                            6-Speed A/T  Purple   Beige   \n",
       " 3         Transmission w/Dual Shift Mode    Gray   Brown   \n",
       " 4                                    A/T   White   Black   \n",
       " ...                                  ...     ...     ...   \n",
       " 54268                        8-Speed A/T   White   Brown   \n",
       " 54269                        6-Speed A/T   Black   Black   \n",
       " 54270     Transmission w/Dual Shift Mode   White   Black   \n",
       " 54271  8-Speed Automatic with Auto-Shift   Beige   Brown   \n",
       " 54272                        8-Speed A/T   Black   Black   \n",
       " \n",
       "                                      accident clean_title  \n",
       " 0                               None reported         Yes  \n",
       " 1                               None reported         Yes  \n",
       " 2                               None reported         Yes  \n",
       " 3                               None reported         Yes  \n",
       " 4                               None reported         Yes  \n",
       " ...                                       ...         ...  \n",
       " 54268                           None reported         Yes  \n",
       " 54269  At least 1 accident or damage reported         Yes  \n",
       " 54270  At least 1 accident or damage reported         Yes  \n",
       " 54271                           None reported         Yes  \n",
       " 54272                           None reported         Yes  \n",
       " \n",
       " [54273 rows x 11 columns],\n",
       " 0         11000\n",
       " 1          8250\n",
       " 2         15000\n",
       " 3         63500\n",
       " 4          7850\n",
       "           ...  \n",
       " 54268     29000\n",
       " 54269      6500\n",
       " 54270     18950\n",
       " 54271    194965\n",
       " 54272     37499\n",
       " Name: price, Length: 54273, dtype: int64)"
      ]
     },
     "execution_count": 6,
     "metadata": {},
     "output_type": "execute_result"
    }
   ],
   "source": [
    "train_df,target_df"
   ]
  },
  {
   "cell_type": "code",
   "execution_count": 7,
   "id": "7052b5c7",
   "metadata": {
    "execution": {
     "iopub.execute_input": "2024-06-23T12:50:52.996325Z",
     "iopub.status.busy": "2024-06-23T12:50:52.995804Z",
     "iopub.status.idle": "2024-06-23T13:00:39.413069Z",
     "shell.execute_reply": "2024-06-23T13:00:39.411285Z"
    },
    "papermill": {
     "duration": 586.4293,
     "end_time": "2024-06-23T13:00:39.419430",
     "exception": false,
     "start_time": "2024-06-23T12:50:52.990130",
     "status": "completed"
    },
    "tags": []
   },
   "outputs": [
    {
     "name": "stderr",
     "output_type": "stream",
     "text": [
      "/opt/conda/lib/python3.10/site-packages/sklearn/preprocessing/_encoders.py:868: FutureWarning: `sparse` was renamed to `sparse_output` in version 1.2 and will be removed in 1.4. `sparse_output` is ignored unless you leave `sparse` to its default value.\n",
      "  warnings.warn(\n"
     ]
    },
    {
     "name": "stdout",
     "output_type": "stream",
     "text": [
      "[Pipeline] ........... (step 1 of 2) Processing imputer, total=   0.1s\n",
      "[Pipeline] ........... (step 2 of 2) Processing encoder, total=   1.5s\n"
     ]
    },
    {
     "data": {
      "text/html": [
       "<style>#sk-container-id-2 {color: black;background-color: white;}#sk-container-id-2 pre{padding: 0;}#sk-container-id-2 div.sk-toggleable {background-color: white;}#sk-container-id-2 label.sk-toggleable__label {cursor: pointer;display: block;width: 100%;margin-bottom: 0;padding: 0.3em;box-sizing: border-box;text-align: center;}#sk-container-id-2 label.sk-toggleable__label-arrow:before {content: \"▸\";float: left;margin-right: 0.25em;color: #696969;}#sk-container-id-2 label.sk-toggleable__label-arrow:hover:before {color: black;}#sk-container-id-2 div.sk-estimator:hover label.sk-toggleable__label-arrow:before {color: black;}#sk-container-id-2 div.sk-toggleable__content {max-height: 0;max-width: 0;overflow: hidden;text-align: left;background-color: #f0f8ff;}#sk-container-id-2 div.sk-toggleable__content pre {margin: 0.2em;color: black;border-radius: 0.25em;background-color: #f0f8ff;}#sk-container-id-2 input.sk-toggleable__control:checked~div.sk-toggleable__content {max-height: 200px;max-width: 100%;overflow: auto;}#sk-container-id-2 input.sk-toggleable__control:checked~label.sk-toggleable__label-arrow:before {content: \"▾\";}#sk-container-id-2 div.sk-estimator input.sk-toggleable__control:checked~label.sk-toggleable__label {background-color: #d4ebff;}#sk-container-id-2 div.sk-label input.sk-toggleable__control:checked~label.sk-toggleable__label {background-color: #d4ebff;}#sk-container-id-2 input.sk-hidden--visually {border: 0;clip: rect(1px 1px 1px 1px);clip: rect(1px, 1px, 1px, 1px);height: 1px;margin: -1px;overflow: hidden;padding: 0;position: absolute;width: 1px;}#sk-container-id-2 div.sk-estimator {font-family: monospace;background-color: #f0f8ff;border: 1px dotted black;border-radius: 0.25em;box-sizing: border-box;margin-bottom: 0.5em;}#sk-container-id-2 div.sk-estimator:hover {background-color: #d4ebff;}#sk-container-id-2 div.sk-parallel-item::after {content: \"\";width: 100%;border-bottom: 1px solid gray;flex-grow: 1;}#sk-container-id-2 div.sk-label:hover label.sk-toggleable__label {background-color: #d4ebff;}#sk-container-id-2 div.sk-serial::before {content: \"\";position: absolute;border-left: 1px solid gray;box-sizing: border-box;top: 0;bottom: 0;left: 50%;z-index: 0;}#sk-container-id-2 div.sk-serial {display: flex;flex-direction: column;align-items: center;background-color: white;padding-right: 0.2em;padding-left: 0.2em;position: relative;}#sk-container-id-2 div.sk-item {position: relative;z-index: 1;}#sk-container-id-2 div.sk-parallel {display: flex;align-items: stretch;justify-content: center;background-color: white;position: relative;}#sk-container-id-2 div.sk-item::before, #sk-container-id-2 div.sk-parallel-item::before {content: \"\";position: absolute;border-left: 1px solid gray;box-sizing: border-box;top: 0;bottom: 0;left: 50%;z-index: -1;}#sk-container-id-2 div.sk-parallel-item {display: flex;flex-direction: column;z-index: 1;position: relative;background-color: white;}#sk-container-id-2 div.sk-parallel-item:first-child::after {align-self: flex-end;width: 50%;}#sk-container-id-2 div.sk-parallel-item:last-child::after {align-self: flex-start;width: 50%;}#sk-container-id-2 div.sk-parallel-item:only-child::after {width: 0;}#sk-container-id-2 div.sk-dashed-wrapped {border: 1px dashed gray;margin: 0 0.4em 0.5em 0.4em;box-sizing: border-box;padding-bottom: 0.4em;background-color: white;}#sk-container-id-2 div.sk-label label {font-family: monospace;font-weight: bold;display: inline-block;line-height: 1.2em;}#sk-container-id-2 div.sk-label-container {text-align: center;}#sk-container-id-2 div.sk-container {/* jupyter's `normalize.less` sets `[hidden] { display: none; }` but bootstrap.min.css set `[hidden] { display: none !important; }` so we also need the `!important` here to be able to override the default hidden behavior on the sphinx rendered scikit-learn.org. See: https://github.com/scikit-learn/scikit-learn/issues/21755 */display: inline-block !important;position: relative;}#sk-container-id-2 div.sk-text-repr-fallback {display: none;}</style><div id=\"sk-container-id-2\" class=\"sk-top-container\"><div class=\"sk-text-repr-fallback\"><pre>Pipeline(steps=[(&#x27;col_trans&#x27;,\n",
       "                 ColumnTransformer(n_jobs=-1,\n",
       "                                   transformers=[(&#x27;num_pipeline&#x27;,\n",
       "                                                  Pipeline(steps=[(&#x27;impute&#x27;,\n",
       "                                                                   SimpleImputer()),\n",
       "                                                                  (&#x27;scale&#x27;,\n",
       "                                                                   MinMaxScaler())]),\n",
       "                                                  array([&#x27;model_year&#x27;, &#x27;milage&#x27;], dtype=object)),\n",
       "                                                 (&#x27;cat_pipeline&#x27;,\n",
       "                                                  Pipeline(steps=[(&#x27;imputer&#x27;,\n",
       "                                                                   SimpleImputer(strategy=&#x27;most_frequent&#x27;)),\n",
       "                                                                  (&#x27;encoder&#x27;,\n",
       "                                                                   OneHotEncoder(handle_unknown=&#x27;ignore&#x27;,\n",
       "                                                                                 sparse=False))],\n",
       "                                                           verbose=True),\n",
       "                                                  array([&#x27;brand&#x27;, &#x27;model&#x27;, &#x27;fuel_type&#x27;, &#x27;engine&#x27;, &#x27;transmission&#x27;, &#x27;ext_col&#x27;,\n",
       "       &#x27;int_col&#x27;, &#x27;accident&#x27;, &#x27;clean_title&#x27;], dtype=object))])),\n",
       "                (&#x27;model&#x27;,\n",
       "                 LGBMRegressor(learning_rate=0.05, max_depth=12, metrics=&#x27;rmse&#x27;,\n",
       "                               n_estimators=70000, num_leaves=512,\n",
       "                               objective=&#x27;regression&#x27;, random_state=1234,\n",
       "                               verbosity=-1))])</pre><b>In a Jupyter environment, please rerun this cell to show the HTML representation or trust the notebook. <br />On GitHub, the HTML representation is unable to render, please try loading this page with nbviewer.org.</b></div><div class=\"sk-container\" hidden><div class=\"sk-item sk-dashed-wrapped\"><div class=\"sk-label-container\"><div class=\"sk-label sk-toggleable\"><input class=\"sk-toggleable__control sk-hidden--visually\" id=\"sk-estimator-id-10\" type=\"checkbox\" ><label for=\"sk-estimator-id-10\" class=\"sk-toggleable__label sk-toggleable__label-arrow\">Pipeline</label><div class=\"sk-toggleable__content\"><pre>Pipeline(steps=[(&#x27;col_trans&#x27;,\n",
       "                 ColumnTransformer(n_jobs=-1,\n",
       "                                   transformers=[(&#x27;num_pipeline&#x27;,\n",
       "                                                  Pipeline(steps=[(&#x27;impute&#x27;,\n",
       "                                                                   SimpleImputer()),\n",
       "                                                                  (&#x27;scale&#x27;,\n",
       "                                                                   MinMaxScaler())]),\n",
       "                                                  array([&#x27;model_year&#x27;, &#x27;milage&#x27;], dtype=object)),\n",
       "                                                 (&#x27;cat_pipeline&#x27;,\n",
       "                                                  Pipeline(steps=[(&#x27;imputer&#x27;,\n",
       "                                                                   SimpleImputer(strategy=&#x27;most_frequent&#x27;)),\n",
       "                                                                  (&#x27;encoder&#x27;,\n",
       "                                                                   OneHotEncoder(handle_unknown=&#x27;ignore&#x27;,\n",
       "                                                                                 sparse=False))],\n",
       "                                                           verbose=True),\n",
       "                                                  array([&#x27;brand&#x27;, &#x27;model&#x27;, &#x27;fuel_type&#x27;, &#x27;engine&#x27;, &#x27;transmission&#x27;, &#x27;ext_col&#x27;,\n",
       "       &#x27;int_col&#x27;, &#x27;accident&#x27;, &#x27;clean_title&#x27;], dtype=object))])),\n",
       "                (&#x27;model&#x27;,\n",
       "                 LGBMRegressor(learning_rate=0.05, max_depth=12, metrics=&#x27;rmse&#x27;,\n",
       "                               n_estimators=70000, num_leaves=512,\n",
       "                               objective=&#x27;regression&#x27;, random_state=1234,\n",
       "                               verbosity=-1))])</pre></div></div></div><div class=\"sk-serial\"><div class=\"sk-item sk-dashed-wrapped\"><div class=\"sk-label-container\"><div class=\"sk-label sk-toggleable\"><input class=\"sk-toggleable__control sk-hidden--visually\" id=\"sk-estimator-id-11\" type=\"checkbox\" ><label for=\"sk-estimator-id-11\" class=\"sk-toggleable__label sk-toggleable__label-arrow\">col_trans: ColumnTransformer</label><div class=\"sk-toggleable__content\"><pre>ColumnTransformer(n_jobs=-1,\n",
       "                  transformers=[(&#x27;num_pipeline&#x27;,\n",
       "                                 Pipeline(steps=[(&#x27;impute&#x27;, SimpleImputer()),\n",
       "                                                 (&#x27;scale&#x27;, MinMaxScaler())]),\n",
       "                                 array([&#x27;model_year&#x27;, &#x27;milage&#x27;], dtype=object)),\n",
       "                                (&#x27;cat_pipeline&#x27;,\n",
       "                                 Pipeline(steps=[(&#x27;imputer&#x27;,\n",
       "                                                  SimpleImputer(strategy=&#x27;most_frequent&#x27;)),\n",
       "                                                 (&#x27;encoder&#x27;,\n",
       "                                                  OneHotEncoder(handle_unknown=&#x27;ignore&#x27;,\n",
       "                                                                sparse=False))],\n",
       "                                          verbose=True),\n",
       "                                 array([&#x27;brand&#x27;, &#x27;model&#x27;, &#x27;fuel_type&#x27;, &#x27;engine&#x27;, &#x27;transmission&#x27;, &#x27;ext_col&#x27;,\n",
       "       &#x27;int_col&#x27;, &#x27;accident&#x27;, &#x27;clean_title&#x27;], dtype=object))])</pre></div></div></div><div class=\"sk-parallel\"><div class=\"sk-parallel-item\"><div class=\"sk-item\"><div class=\"sk-label-container\"><div class=\"sk-label sk-toggleable\"><input class=\"sk-toggleable__control sk-hidden--visually\" id=\"sk-estimator-id-12\" type=\"checkbox\" ><label for=\"sk-estimator-id-12\" class=\"sk-toggleable__label sk-toggleable__label-arrow\">num_pipeline</label><div class=\"sk-toggleable__content\"><pre>[&#x27;model_year&#x27; &#x27;milage&#x27;]</pre></div></div></div><div class=\"sk-serial\"><div class=\"sk-item\"><div class=\"sk-serial\"><div class=\"sk-item\"><div class=\"sk-estimator sk-toggleable\"><input class=\"sk-toggleable__control sk-hidden--visually\" id=\"sk-estimator-id-13\" type=\"checkbox\" ><label for=\"sk-estimator-id-13\" class=\"sk-toggleable__label sk-toggleable__label-arrow\">SimpleImputer</label><div class=\"sk-toggleable__content\"><pre>SimpleImputer()</pre></div></div></div><div class=\"sk-item\"><div class=\"sk-estimator sk-toggleable\"><input class=\"sk-toggleable__control sk-hidden--visually\" id=\"sk-estimator-id-14\" type=\"checkbox\" ><label for=\"sk-estimator-id-14\" class=\"sk-toggleable__label sk-toggleable__label-arrow\">MinMaxScaler</label><div class=\"sk-toggleable__content\"><pre>MinMaxScaler()</pre></div></div></div></div></div></div></div></div><div class=\"sk-parallel-item\"><div class=\"sk-item\"><div class=\"sk-label-container\"><div class=\"sk-label sk-toggleable\"><input class=\"sk-toggleable__control sk-hidden--visually\" id=\"sk-estimator-id-15\" type=\"checkbox\" ><label for=\"sk-estimator-id-15\" class=\"sk-toggleable__label sk-toggleable__label-arrow\">cat_pipeline</label><div class=\"sk-toggleable__content\"><pre>[&#x27;brand&#x27; &#x27;model&#x27; &#x27;fuel_type&#x27; &#x27;engine&#x27; &#x27;transmission&#x27; &#x27;ext_col&#x27; &#x27;int_col&#x27;\n",
       " &#x27;accident&#x27; &#x27;clean_title&#x27;]</pre></div></div></div><div class=\"sk-serial\"><div class=\"sk-item\"><div class=\"sk-serial\"><div class=\"sk-item\"><div class=\"sk-estimator sk-toggleable\"><input class=\"sk-toggleable__control sk-hidden--visually\" id=\"sk-estimator-id-16\" type=\"checkbox\" ><label for=\"sk-estimator-id-16\" class=\"sk-toggleable__label sk-toggleable__label-arrow\">SimpleImputer</label><div class=\"sk-toggleable__content\"><pre>SimpleImputer(strategy=&#x27;most_frequent&#x27;)</pre></div></div></div><div class=\"sk-item\"><div class=\"sk-estimator sk-toggleable\"><input class=\"sk-toggleable__control sk-hidden--visually\" id=\"sk-estimator-id-17\" type=\"checkbox\" ><label for=\"sk-estimator-id-17\" class=\"sk-toggleable__label sk-toggleable__label-arrow\">OneHotEncoder</label><div class=\"sk-toggleable__content\"><pre>OneHotEncoder(handle_unknown=&#x27;ignore&#x27;, sparse=False)</pre></div></div></div></div></div></div></div></div></div></div><div class=\"sk-item\"><div class=\"sk-estimator sk-toggleable\"><input class=\"sk-toggleable__control sk-hidden--visually\" id=\"sk-estimator-id-18\" type=\"checkbox\" ><label for=\"sk-estimator-id-18\" class=\"sk-toggleable__label sk-toggleable__label-arrow\">LGBMRegressor</label><div class=\"sk-toggleable__content\"><pre>LGBMRegressor(learning_rate=0.05, max_depth=12, metrics=&#x27;rmse&#x27;,\n",
       "              n_estimators=70000, num_leaves=512, objective=&#x27;regression&#x27;,\n",
       "              random_state=1234, verbosity=-1)</pre></div></div></div></div></div></div></div>"
      ],
      "text/plain": [
       "Pipeline(steps=[('col_trans',\n",
       "                 ColumnTransformer(n_jobs=-1,\n",
       "                                   transformers=[('num_pipeline',\n",
       "                                                  Pipeline(steps=[('impute',\n",
       "                                                                   SimpleImputer()),\n",
       "                                                                  ('scale',\n",
       "                                                                   MinMaxScaler())]),\n",
       "                                                  array(['model_year', 'milage'], dtype=object)),\n",
       "                                                 ('cat_pipeline',\n",
       "                                                  Pipeline(steps=[('imputer',\n",
       "                                                                   SimpleImputer(strategy='most_frequent')),\n",
       "                                                                  ('encoder',\n",
       "                                                                   OneHotEncoder(handle_unknown='ignore',\n",
       "                                                                                 sparse=False))],\n",
       "                                                           verbose=True),\n",
       "                                                  array(['brand', 'model', 'fuel_type', 'engine', 'transmission', 'ext_col',\n",
       "       'int_col', 'accident', 'clean_title'], dtype=object))])),\n",
       "                ('model',\n",
       "                 LGBMRegressor(learning_rate=0.05, max_depth=12, metrics='rmse',\n",
       "                               n_estimators=70000, num_leaves=512,\n",
       "                               objective='regression', random_state=1234,\n",
       "                               verbosity=-1))])"
      ]
     },
     "execution_count": 7,
     "metadata": {},
     "output_type": "execute_result"
    }
   ],
   "source": [
    "parallel_pipeline.fit(train_df,target_df)"
   ]
  },
  {
   "cell_type": "code",
   "execution_count": 8,
   "id": "dab3152b",
   "metadata": {
    "execution": {
     "iopub.execute_input": "2024-06-23T13:00:39.431695Z",
     "iopub.status.busy": "2024-06-23T13:00:39.431277Z",
     "iopub.status.idle": "2024-06-23T13:12:36.695788Z",
     "shell.execute_reply": "2024-06-23T13:12:36.694748Z"
    },
    "papermill": {
     "duration": 717.274255,
     "end_time": "2024-06-23T13:12:36.698682",
     "exception": false,
     "start_time": "2024-06-23T13:00:39.424427",
     "status": "completed"
    },
    "tags": []
   },
   "outputs": [],
   "source": [
    "test_pred = parallel_pipeline.predict(test_df)"
   ]
  },
  {
   "cell_type": "code",
   "execution_count": 9,
   "id": "cab82383",
   "metadata": {
    "execution": {
     "iopub.execute_input": "2024-06-23T13:12:36.711231Z",
     "iopub.status.busy": "2024-06-23T13:12:36.710770Z",
     "iopub.status.idle": "2024-06-23T13:30:39.060347Z",
     "shell.execute_reply": "2024-06-23T13:30:39.059217Z"
    },
    "papermill": {
     "duration": 1082.363766,
     "end_time": "2024-06-23T13:30:39.067793",
     "exception": false,
     "start_time": "2024-06-23T13:12:36.704027",
     "status": "completed"
    },
    "tags": []
   },
   "outputs": [
    {
     "name": "stdout",
     "output_type": "stream",
     "text": [
      "==============================\n",
      "Prediction Result： [ 16247.31442129  97997.23354177  27285.06117132 ...  -4319.27442584\n",
      "  62924.80832942 168308.26636441]\n",
      "==============================\n",
      "Scores by Train Data： 0.9721857369756938\n"
     ]
    }
   ],
   "source": [
    "\n",
    "print('='*30)\n",
    "print('Prediction Result：', test_pred)\n",
    "print('='*30)\n",
    "print('Scores by Train Data：', parallel_pipeline.score(train_df,target_df))\n",
    "# print('='*30)\n",
    "# print('Scores by Test Data：', parallel_pipeline.score(X_test,y_test))"
   ]
  },
  {
   "cell_type": "markdown",
   "id": "9668c2c4",
   "metadata": {
    "papermill": {
     "duration": 0.004817,
     "end_time": "2024-06-23T13:30:39.077723",
     "exception": false,
     "start_time": "2024-06-23T13:30:39.072906",
     "status": "completed"
    },
    "tags": []
   },
   "source": [
    "plt.scatter(parallel_pipeline.predict(train_df),target_df)"
   ]
  },
  {
   "cell_type": "markdown",
   "id": "e204d470",
   "metadata": {
    "papermill": {
     "duration": 0.004769,
     "end_time": "2024-06-23T13:30:39.087674",
     "exception": false,
     "start_time": "2024-06-23T13:30:39.082905",
     "status": "completed"
    },
    "tags": []
   },
   "source": [
    "parallel_pipeline['model'].get_params()"
   ]
  },
  {
   "cell_type": "code",
   "execution_count": 10,
   "id": "4e1e9137",
   "metadata": {
    "execution": {
     "iopub.execute_input": "2024-06-23T13:30:39.100632Z",
     "iopub.status.busy": "2024-06-23T13:30:39.099392Z",
     "iopub.status.idle": "2024-06-23T13:30:39.190546Z",
     "shell.execute_reply": "2024-06-23T13:30:39.189176Z"
    },
    "papermill": {
     "duration": 0.100273,
     "end_time": "2024-06-23T13:30:39.193202",
     "exception": false,
     "start_time": "2024-06-23T13:30:39.092929",
     "status": "completed"
    },
    "tags": []
   },
   "outputs": [],
   "source": [
    "sub_data['price'] = test_pred\n",
    "sub_data.to_csv('./submission.csv', index=False)"
   ]
  },
  {
   "cell_type": "code",
   "execution_count": null,
   "id": "d50111e7",
   "metadata": {
    "papermill": {
     "duration": 0.004922,
     "end_time": "2024-06-23T13:30:39.203525",
     "exception": false,
     "start_time": "2024-06-23T13:30:39.198603",
     "status": "completed"
    },
    "tags": []
   },
   "outputs": [],
   "source": []
  },
  {
   "cell_type": "code",
   "execution_count": null,
   "id": "1cb37574",
   "metadata": {
    "papermill": {
     "duration": 0.005064,
     "end_time": "2024-06-23T13:30:39.214222",
     "exception": false,
     "start_time": "2024-06-23T13:30:39.209158",
     "status": "completed"
    },
    "tags": []
   },
   "outputs": [],
   "source": []
  }
 ],
 "metadata": {
  "kaggle": {
   "accelerator": "none",
   "dataSources": [
    {
     "datasetId": 5249619,
     "sourceId": 8743293,
     "sourceType": "datasetVersion"
    }
   ],
   "dockerImageVersionId": 30732,
   "isGpuEnabled": false,
   "isInternetEnabled": true,
   "language": "python",
   "sourceType": "notebook"
  },
  "kernelspec": {
   "display_name": "Python 3",
   "language": "python",
   "name": "python3"
  },
  "language_info": {
   "codemirror_mode": {
    "name": "ipython",
    "version": 3
   },
   "file_extension": ".py",
   "mimetype": "text/x-python",
   "name": "python",
   "nbconvert_exporter": "python",
   "pygments_lexer": "ipython3",
   "version": "3.10.13"
  },
  "papermill": {
   "default_parameters": {},
   "duration": 2396.583531,
   "end_time": "2024-06-23T13:30:41.944419",
   "environment_variables": {},
   "exception": null,
   "input_path": "__notebook__.ipynb",
   "output_path": "__notebook__.ipynb",
   "parameters": {},
   "start_time": "2024-06-23T12:50:45.360888",
   "version": "2.5.0"
  }
 },
 "nbformat": 4,
 "nbformat_minor": 5
}
